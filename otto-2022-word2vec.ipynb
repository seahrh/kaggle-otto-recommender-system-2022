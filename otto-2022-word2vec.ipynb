{
 "cells": [
  {
   "cell_type": "code",
   "execution_count": 1,
   "id": "b99d84a0",
   "metadata": {
    "execution": {
     "iopub.execute_input": "2023-01-31T15:59:50.149795Z",
     "iopub.status.busy": "2023-01-31T15:59:50.149290Z",
     "iopub.status.idle": "2023-01-31T16:00:23.344138Z",
     "shell.execute_reply": "2023-01-31T16:00:23.342672Z"
    },
    "papermill": {
     "duration": 33.207367,
     "end_time": "2023-01-31T16:00:23.347208",
     "exception": false,
     "start_time": "2023-01-31T15:59:50.139841",
     "status": "completed"
    },
    "tags": []
   },
   "outputs": [
    {
     "name": "stdout",
     "output_type": "stream",
     "text": [
      "Processing /kaggle/input/python-wheels/faiss_cpu-1.7.2-cp37-cp37m-manylinux_2_17_x86_64.manylinux2014_x86_64.whl\r\n",
      "Installing collected packages: faiss-cpu\r\n",
      "Successfully installed faiss-cpu-1.7.2\r\n",
      "\u001b[33mWARNING: Running pip as the 'root' user can result in broken permissions and conflicting behaviour with the system package manager. It is recommended to use a virtual environment instead: https://pip.pypa.io/warnings/venv\u001b[0m\u001b[33m\r\n",
      "\u001b[0m\u001b[33mWARNING: There was an error checking the latest version of pip.\u001b[0m\u001b[33m\r\n",
      "\u001b[0m"
     ]
    }
   ],
   "source": [
    "!pip install ../input/python-wheels/faiss_cpu-1.7.2-cp37-cp37m-manylinux_2_17_x86_64.manylinux2014_x86_64.whl"
   ]
  },
  {
   "cell_type": "code",
   "execution_count": 2,
   "id": "b57e9373",
   "metadata": {
    "_cell_guid": "b1076dfc-b9ad-4769-8c92-a6c4dae69d19",
    "_uuid": "8f2839f25d086af736a60e9eeb907d3b93b6e0e5",
    "execution": {
     "iopub.execute_input": "2023-01-31T16:00:23.362821Z",
     "iopub.status.busy": "2023-01-31T16:00:23.362322Z",
     "iopub.status.idle": "2023-01-31T16:00:26.329223Z",
     "shell.execute_reply": "2023-01-31T16:00:26.327848Z"
    },
    "papermill": {
     "duration": 2.978315,
     "end_time": "2023-01-31T16:00:26.332202",
     "exception": false,
     "start_time": "2023-01-31T16:00:23.353887",
     "status": "completed"
    },
    "tags": []
   },
   "outputs": [],
   "source": [
    "import faiss\n",
    "import random\n",
    "from pathlib import Path\n",
    "import os\n",
    "import sys\n",
    "import gc\n",
    "import shutil\n",
    "import json\n",
    "import math\n",
    "import numpy as np\n",
    "import pandas as pd\n",
    "import sklearn\n",
    "import torch\n",
    "from tqdm import tqdm\n",
    "from typing import Dict, List, Tuple, NamedTuple, Callable, Iterable, Set, Optional, Any"
   ]
  },
  {
   "cell_type": "code",
   "execution_count": 3,
   "id": "42527a4c",
   "metadata": {
    "execution": {
     "iopub.execute_input": "2023-01-31T16:00:26.347990Z",
     "iopub.status.busy": "2023-01-31T16:00:26.347287Z",
     "iopub.status.idle": "2023-01-31T16:00:26.360994Z",
     "shell.execute_reply": "2023-01-31T16:00:26.359689Z"
    },
    "papermill": {
     "duration": 0.024503,
     "end_time": "2023-01-31T16:00:26.363843",
     "exception": false,
     "start_time": "2023-01-31T16:00:26.339340",
     "status": "completed"
    },
    "tags": []
   },
   "outputs": [
    {
     "name": "stdout",
     "output_type": "stream",
     "text": [
      "Conf(debug=False, input_dir=PosixPath('/kaggle/input'), comp_dir=PosixPath('/kaggle/input/otto-recommender-system'), temp_dir=PosixPath('/kaggle/temp'), working_dir=PosixPath('/kaggle/working'), resource_dir=PosixPath('/kaggle/input/lib-otto-2022/otto2022-1.0'), vocab_file=PosixPath('/kaggle/input/lib-otto-2022/otto2022-1.0/data/vocab3.json'), em_file=PosixPath('/kaggle/input/lib-otto-2022/otto2022-1.0/data/m8_w7_i20.npy'), index_file=PosixPath('/kaggle/input/lib-otto-2022/otto2022-1.0/data/m8_w7_i20.index'), id2txn=['clicks', 'carts', 'orders'], txn2id={'clicks': 0, 'carts': 1, 'orders': 2}, search_k=30, search_n=150, step_factor=0.007352941176470588)\n"
     ]
    }
   ],
   "source": [
    "class Conf(NamedTuple):\n",
    "    debug: bool = False\n",
    "    input_dir: Path = Path(\"/kaggle/input\")\n",
    "    comp_dir: Path = input_dir / \"otto-recommender-system\"\n",
    "    temp_dir: Path = Path('/kaggle/temp')\n",
    "    working_dir: Path = Path('/kaggle/working')\n",
    "    resource_dir: Path = input_dir / \"lib-otto-2022/otto2022-1.0\"\n",
    "    vocab_file: Path = resource_dir / \"data/vocab3.json\"\n",
    "    em_file: Path = resource_dir / \"data/m8_w7_i20.npy\"\n",
    "    index_file: Path = resource_dir / \"data/m8_w7_i20.index\"\n",
    "    id2txn: List[str] = [\"clicks\", \"carts\", \"orders\"]\n",
    "    txn2id: Dict = {v:k for k,v in enumerate(id2txn)}\n",
    "    search_k: int = 30\n",
    "    search_n: int = 150\n",
    "    step_factor: float = 1/136\n",
    "    \n",
    "\n",
    "conf = Conf()\n",
    "print(conf)"
   ]
  },
  {
   "cell_type": "code",
   "execution_count": 4,
   "id": "35c7c95b",
   "metadata": {
    "execution": {
     "iopub.execute_input": "2023-01-31T16:00:26.379794Z",
     "iopub.status.busy": "2023-01-31T16:00:26.378909Z",
     "iopub.status.idle": "2023-01-31T16:00:26.388095Z",
     "shell.execute_reply": "2023-01-31T16:00:26.386715Z"
    },
    "papermill": {
     "duration": 0.01988,
     "end_time": "2023-01-31T16:00:26.390508",
     "exception": false,
     "start_time": "2023-01-31T16:00:26.370628",
     "status": "completed"
    },
    "tags": []
   },
   "outputs": [
    {
     "name": "stdout",
     "output_type": "stream",
     "text": [
      "cpu\n"
     ]
    }
   ],
   "source": [
    "device = torch.device(\"cpu\")\n",
    "if torch.cuda.is_available():\n",
    "    device = torch.device(\"cuda\")\n",
    "    for i in range(torch.cuda.device_count()):\n",
    "        print(f\"device={i}, {torch.cuda.get_device_name(i)}\")\n",
    "        print('Mem Allocated:', round(torch.cuda.memory_allocated(i)/1024**3,1), 'GB')\n",
    "        print('Mem Cached:   ', round(torch.cuda.memory_reserved(i)/1024**3,1), 'GB')\n",
    "else:\n",
    "    print(\"cpu\")"
   ]
  },
  {
   "cell_type": "code",
   "execution_count": 5,
   "id": "944dd861",
   "metadata": {
    "execution": {
     "iopub.execute_input": "2023-01-31T16:00:26.406520Z",
     "iopub.status.busy": "2023-01-31T16:00:26.405649Z",
     "iopub.status.idle": "2023-01-31T16:00:31.488230Z",
     "shell.execute_reply": "2023-01-31T16:00:31.486884Z"
    },
    "papermill": {
     "duration": 5.094184,
     "end_time": "2023-01-31T16:00:31.491292",
     "exception": false,
     "start_time": "2023-01-31T16:00:26.397108",
     "status": "completed"
    },
    "tags": []
   },
   "outputs": [],
   "source": [
    "percentiles=[.01, .05, .1, .2, .3, .4, .5, .6, .7, .8, .9, .95, .99]\n",
    "os.environ[\"TOKENIZERS_PARALLELISM\"] = \"false\"\n",
    "pd.set_option(\"use_inf_as_na\", True)\n",
    "pd.set_option(\"max_info_columns\", 9999)\n",
    "pd.set_option(\"display.max_columns\", 9999)\n",
    "pd.set_option(\"display.max_rows\", 9999)\n",
    "pd.set_option('max_colwidth', 9999)\n",
    "tqdm.pandas()\n",
    "#sys.path.append(str(conf.input_dir / \"networkx/networkx-networkx-2.6.3\"))\n",
    "sys.path.append(str(conf.input_dir / \"sgcharts-ml/src\"))\n",
    "sys.path.append(str(conf.resource_dir / \"src\"))\n",
    "#import networkx as nx\n",
    "import scml\n",
    "from scml import nlp as snlp\n",
    "from scml import pandasx as pdx\n",
    "#from scml.nlp import clustering as snc \n",
    "import mylib\n",
    "scml.seed_everything()"
   ]
  },
  {
   "cell_type": "code",
   "execution_count": 6,
   "id": "fd51074b",
   "metadata": {
    "execution": {
     "iopub.execute_input": "2023-01-31T16:00:31.507503Z",
     "iopub.status.busy": "2023-01-31T16:00:31.506446Z",
     "iopub.status.idle": "2023-01-31T16:00:36.184247Z",
     "shell.execute_reply": "2023-01-31T16:00:36.182860Z"
    },
    "papermill": {
     "duration": 4.689184,
     "end_time": "2023-01-31T16:00:36.187113",
     "exception": false,
     "start_time": "2023-01-31T16:00:31.497929",
     "status": "completed"
    },
    "tags": []
   },
   "outputs": [
    {
     "name": "stdout",
     "output_type": "stream",
     "text": [
      "len(id2article)=1,855,603\n",
      "[1460571, 485256, 108125, 29735, 1733943, 832192, 184976, 166037, 554660, 986164]\n"
     ]
    }
   ],
   "source": [
    "with open(str(conf.vocab_file)) as f:\n",
    "    vocab = json.load(f)\n",
    "id2article: List[int] = [-1]*len(vocab)\n",
    "article2id: Dict[int, int] = {}\n",
    "i = 0\n",
    "for aid, _ in vocab:\n",
    "    a = int(aid)\n",
    "    id2article[i] = a\n",
    "    article2id[a] = i\n",
    "    i+=1\n",
    "print(f\"len(id2article)={len(id2article):,}\\n{id2article[:10]}\")"
   ]
  },
  {
   "cell_type": "code",
   "execution_count": 7,
   "id": "2a74c7af",
   "metadata": {
    "execution": {
     "iopub.execute_input": "2023-01-31T16:00:36.204846Z",
     "iopub.status.busy": "2023-01-31T16:00:36.204369Z",
     "iopub.status.idle": "2023-01-31T16:00:43.137002Z",
     "shell.execute_reply": "2023-01-31T16:00:43.135932Z"
    },
    "papermill": {
     "duration": 6.943537,
     "end_time": "2023-01-31T16:00:43.139572",
     "exception": false,
     "start_time": "2023-01-31T16:00:36.196035",
     "status": "completed"
    },
    "tags": []
   },
   "outputs": [
    {
     "name": "stdout",
     "output_type": "stream",
     "text": [
      "em.shape=(5566809, 32)\n"
     ]
    }
   ],
   "source": [
    "em = np.load(str(conf.em_file))\n",
    "print(f\"em.shape={em.shape}\")"
   ]
  },
  {
   "cell_type": "code",
   "execution_count": 8,
   "id": "02cefd42",
   "metadata": {
    "execution": {
     "iopub.execute_input": "2023-01-31T16:00:43.155577Z",
     "iopub.status.busy": "2023-01-31T16:00:43.154742Z",
     "iopub.status.idle": "2023-01-31T16:00:44.188372Z",
     "shell.execute_reply": "2023-01-31T16:00:44.186972Z"
    },
    "papermill": {
     "duration": 1.044327,
     "end_time": "2023-01-31T16:00:44.190742",
     "exception": false,
     "start_time": "2023-01-31T16:00:43.146415",
     "status": "completed"
    },
    "tags": []
   },
   "outputs": [
    {
     "name": "stdout",
     "output_type": "stream",
     "text": [
      "is_trained=True, ntotal=5,566,809\n"
     ]
    }
   ],
   "source": [
    "index = faiss.read_index(str(conf.index_file))\n",
    "print(f\"is_trained={index.is_trained}, ntotal={index.ntotal:,}\")\n",
    "assert index.ntotal==em.shape[0]"
   ]
  },
  {
   "cell_type": "markdown",
   "id": "0f7df732",
   "metadata": {
    "papermill": {
     "duration": 0.006475,
     "end_time": "2023-01-31T16:00:44.203927",
     "exception": false,
     "start_time": "2023-01-31T16:00:44.197452",
     "status": "completed"
    },
    "tags": []
   },
   "source": [
    "# Json to Transactions"
   ]
  },
  {
   "cell_type": "code",
   "execution_count": 9,
   "id": "e55692e9",
   "metadata": {
    "execution": {
     "iopub.execute_input": "2023-01-31T16:00:44.219558Z",
     "iopub.status.busy": "2023-01-31T16:00:44.218741Z",
     "iopub.status.idle": "2023-01-31T16:01:23.593618Z",
     "shell.execute_reply": "2023-01-31T16:01:23.592559Z"
    },
    "papermill": {
     "duration": 39.385626,
     "end_time": "2023-01-31T16:01:23.596216",
     "exception": false,
     "start_time": "2023-01-31T16:00:44.210590",
     "status": "completed"
    },
    "tags": []
   },
   "outputs": [
    {
     "name": "stderr",
     "output_type": "stream",
     "text": [
      "1671803it [00:35, 47334.89it/s]\n"
     ]
    },
    {
     "name": "stdout",
     "output_type": "stream",
     "text": [
      "queries.shape=(6928123, 32)\n"
     ]
    }
   ],
   "source": [
    "rows = []\n",
    "queries = []\n",
    "with open(str(conf.comp_dir / \"test.jsonl\")) as lines:\n",
    "    for line in tqdm(lines, mininterval=10):\n",
    "        jo = json.loads(line)\n",
    "        session = int(jo[\"session\"])\n",
    "        prev = None\n",
    "        n = len(jo[\"events\"])\n",
    "        for i, event in enumerate(jo[\"events\"]):\n",
    "            curr = int(event[\"ts\"])\n",
    "            if prev is not None and curr<prev:\n",
    "                raise ValueError(\"event out-of-order\")\n",
    "            aid = int(event[\"aid\"])\n",
    "            tid = conf.txn2id[event[\"type\"]]\n",
    "            j = article2id[aid] * len(conf.txn2id) + tid\n",
    "            queries.append(em[j])\n",
    "            rows.append({\n",
    "                \"session\": session,\n",
    "                \"aid\": aid,\n",
    "                #\"ts\": curr,\n",
    "                \"recency\": -1 * (i-(n-1)),\n",
    "                \"type\": tid,\n",
    "            })\n",
    "            prev = curr\n",
    "queries = np.array(queries, dtype=np.float32)\n",
    "print(f\"queries.shape={queries.shape}\")"
   ]
  },
  {
   "cell_type": "code",
   "execution_count": 10,
   "id": "1de080b6",
   "metadata": {
    "execution": {
     "iopub.execute_input": "2023-01-31T16:01:23.612694Z",
     "iopub.status.busy": "2023-01-31T16:01:23.612263Z",
     "iopub.status.idle": "2023-01-31T16:01:36.036452Z",
     "shell.execute_reply": "2023-01-31T16:01:36.035023Z"
    },
    "papermill": {
     "duration": 12.435437,
     "end_time": "2023-01-31T16:01:36.038866",
     "exception": false,
     "start_time": "2023-01-31T16:01:23.603429",
     "status": "completed"
    },
    "tags": []
   },
   "outputs": [
    {
     "name": "stdout",
     "output_type": "stream",
     "text": [
      "<class 'pandas.core.frame.DataFrame'>\n",
      "RangeIndex: 6928123 entries, 0 to 6928122\n",
      "Data columns (total 4 columns):\n",
      " #   Column   Dtype\n",
      "---  ------   -----\n",
      " 0   session  int32\n",
      " 1   aid      int32\n",
      " 2   recency  int32\n",
      " 3   type     int8 \n",
      "dtypes: int32(3), int8(1)\n",
      "memory usage: 85.9 MB\n"
     ]
    }
   ],
   "source": [
    "df = pd.DataFrame.from_records(rows)\n",
    "cols = [\"session\", \"aid\", \"recency\"]\n",
    "df[cols] = df[cols].astype(np.int32)\n",
    "cols = [\"type\"]\n",
    "df[cols] = df[cols].astype(np.int8)\n",
    "#df.sort_values([\"session\", \"ts\"], inplace=True, ignore_index=True)\n",
    "df.info()"
   ]
  },
  {
   "cell_type": "code",
   "execution_count": 11,
   "id": "21787f16",
   "metadata": {
    "execution": {
     "iopub.execute_input": "2023-01-31T16:01:36.055769Z",
     "iopub.status.busy": "2023-01-31T16:01:36.055355Z",
     "iopub.status.idle": "2023-01-31T16:01:36.073741Z",
     "shell.execute_reply": "2023-01-31T16:01:36.072381Z"
    },
    "papermill": {
     "duration": 0.029711,
     "end_time": "2023-01-31T16:01:36.076259",
     "exception": false,
     "start_time": "2023-01-31T16:01:36.046548",
     "status": "completed"
    },
    "tags": []
   },
   "outputs": [
    {
     "data": {
      "text/html": [
       "<div>\n",
       "<style scoped>\n",
       "    .dataframe tbody tr th:only-of-type {\n",
       "        vertical-align: middle;\n",
       "    }\n",
       "\n",
       "    .dataframe tbody tr th {\n",
       "        vertical-align: top;\n",
       "    }\n",
       "\n",
       "    .dataframe thead th {\n",
       "        text-align: right;\n",
       "    }\n",
       "</style>\n",
       "<table border=\"1\" class=\"dataframe\">\n",
       "  <thead>\n",
       "    <tr style=\"text-align: right;\">\n",
       "      <th></th>\n",
       "      <th>session</th>\n",
       "      <th>aid</th>\n",
       "      <th>recency</th>\n",
       "      <th>type</th>\n",
       "    </tr>\n",
       "  </thead>\n",
       "  <tbody>\n",
       "    <tr>\n",
       "      <th>0</th>\n",
       "      <td>12899779</td>\n",
       "      <td>59625</td>\n",
       "      <td>0</td>\n",
       "      <td>0</td>\n",
       "    </tr>\n",
       "    <tr>\n",
       "      <th>1</th>\n",
       "      <td>12899780</td>\n",
       "      <td>1142000</td>\n",
       "      <td>4</td>\n",
       "      <td>0</td>\n",
       "    </tr>\n",
       "    <tr>\n",
       "      <th>2</th>\n",
       "      <td>12899780</td>\n",
       "      <td>582732</td>\n",
       "      <td>3</td>\n",
       "      <td>0</td>\n",
       "    </tr>\n",
       "    <tr>\n",
       "      <th>3</th>\n",
       "      <td>12899780</td>\n",
       "      <td>973453</td>\n",
       "      <td>2</td>\n",
       "      <td>0</td>\n",
       "    </tr>\n",
       "    <tr>\n",
       "      <th>4</th>\n",
       "      <td>12899780</td>\n",
       "      <td>736515</td>\n",
       "      <td>1</td>\n",
       "      <td>0</td>\n",
       "    </tr>\n",
       "    <tr>\n",
       "      <th>5</th>\n",
       "      <td>12899780</td>\n",
       "      <td>1142000</td>\n",
       "      <td>0</td>\n",
       "      <td>0</td>\n",
       "    </tr>\n",
       "    <tr>\n",
       "      <th>6</th>\n",
       "      <td>12899781</td>\n",
       "      <td>141736</td>\n",
       "      <td>10</td>\n",
       "      <td>0</td>\n",
       "    </tr>\n",
       "    <tr>\n",
       "      <th>7</th>\n",
       "      <td>12899781</td>\n",
       "      <td>199008</td>\n",
       "      <td>9</td>\n",
       "      <td>0</td>\n",
       "    </tr>\n",
       "    <tr>\n",
       "      <th>8</th>\n",
       "      <td>12899781</td>\n",
       "      <td>57315</td>\n",
       "      <td>8</td>\n",
       "      <td>0</td>\n",
       "    </tr>\n",
       "    <tr>\n",
       "      <th>9</th>\n",
       "      <td>12899781</td>\n",
       "      <td>194067</td>\n",
       "      <td>7</td>\n",
       "      <td>0</td>\n",
       "    </tr>\n",
       "  </tbody>\n",
       "</table>\n",
       "</div>"
      ],
      "text/plain": [
       "    session      aid  recency  type\n",
       "0  12899779    59625        0     0\n",
       "1  12899780  1142000        4     0\n",
       "2  12899780   582732        3     0\n",
       "3  12899780   973453        2     0\n",
       "4  12899780   736515        1     0\n",
       "5  12899780  1142000        0     0\n",
       "6  12899781   141736       10     0\n",
       "7  12899781   199008        9     0\n",
       "8  12899781    57315        8     0\n",
       "9  12899781   194067        7     0"
      ]
     },
     "execution_count": 11,
     "metadata": {},
     "output_type": "execute_result"
    }
   ],
   "source": [
    "df.head(10)"
   ]
  },
  {
   "cell_type": "code",
   "execution_count": 12,
   "id": "727e7af6",
   "metadata": {
    "execution": {
     "iopub.execute_input": "2023-01-31T16:01:36.093635Z",
     "iopub.status.busy": "2023-01-31T16:01:36.093241Z",
     "iopub.status.idle": "2023-01-31T16:01:37.723887Z",
     "shell.execute_reply": "2023-01-31T16:01:37.722917Z"
    },
    "papermill": {
     "duration": 1.642545,
     "end_time": "2023-01-31T16:01:37.726483",
     "exception": false,
     "start_time": "2023-01-31T16:01:36.083938",
     "status": "completed"
    },
    "tags": []
   },
   "outputs": [
    {
     "data": {
      "text/plain": [
       "21"
      ]
     },
     "execution_count": 12,
     "metadata": {},
     "output_type": "execute_result"
    }
   ],
   "source": [
    "del em, rows, lines, vocab\n",
    "gc.collect()"
   ]
  },
  {
   "cell_type": "markdown",
   "id": "053d96a5",
   "metadata": {
    "papermill": {
     "duration": 0.007766,
     "end_time": "2023-01-31T16:01:37.742272",
     "exception": false,
     "start_time": "2023-01-31T16:01:37.734506",
     "status": "completed"
    },
    "tags": []
   },
   "source": [
    "# Inference"
   ]
  },
  {
   "cell_type": "code",
   "execution_count": 13,
   "id": "a1232f5f",
   "metadata": {
    "execution": {
     "iopub.execute_input": "2023-01-31T16:01:37.760228Z",
     "iopub.status.busy": "2023-01-31T16:01:37.759797Z",
     "iopub.status.idle": "2023-01-31T16:01:58.704448Z",
     "shell.execute_reply": "2023-01-31T16:01:58.703153Z"
    },
    "papermill": {
     "duration": 20.956532,
     "end_time": "2023-01-31T16:01:58.706648",
     "exception": false,
     "start_time": "2023-01-31T16:01:37.750116",
     "status": "completed"
    },
    "tags": []
   },
   "outputs": [
    {
     "name": "stderr",
     "output_type": "stream",
     "text": [
      "5015409it [00:14, 352217.37it/s]\n"
     ]
    }
   ],
   "source": [
    "class Candidate(NamedTuple):\n",
    "    dist: float\n",
    "    aid: int\n",
    "\n",
    "\n",
    "sub = pd.read_csv(str(conf.comp_dir / \"sample_submission.csv\"))\n",
    "res: Dict[str, List[Candidate]] = {}\n",
    "for t in tqdm(sub.itertuples(), mininterval=10):\n",
    "    session_type = str(getattr(t, \"session_type\"))\n",
    "    res[session_type] = []"
   ]
  },
  {
   "cell_type": "code",
   "execution_count": 14,
   "id": "b60aeb00",
   "metadata": {
    "execution": {
     "iopub.execute_input": "2023-01-31T16:01:58.723982Z",
     "iopub.status.busy": "2023-01-31T16:01:58.723553Z",
     "iopub.status.idle": "2023-01-31T19:47:24.009184Z",
     "shell.execute_reply": "2023-01-31T19:47:24.005975Z"
    },
    "papermill": {
     "duration": 13525.308985,
     "end_time": "2023-01-31T19:47:24.023450",
     "exception": false,
     "start_time": "2023-01-31T16:01:58.714465",
     "status": "completed"
    },
    "tags": []
   },
   "outputs": [
    {
     "name": "stdout",
     "output_type": "stream",
     "text": [
      "distances.shape=(6928123, 30)\n",
      "ids.shape=(6928123, 30)\n",
      "CPU times: user 14h 41min 26s, sys: 49.9 s, total: 14h 42min 16s\n",
      "Wall time: 3h 45min 25s\n"
     ]
    }
   ],
   "source": [
    "%%time\n",
    "index.nprobe = conf.search_n\n",
    "distances, ids = index.search(queries, conf.search_k)\n",
    "print(f\"distances.shape={distances.shape}\\nids.shape={ids.shape}\")\n",
    "#distances = distances.astype(np.float16)"
   ]
  },
  {
   "cell_type": "code",
   "execution_count": 15,
   "id": "965fab76",
   "metadata": {
    "execution": {
     "iopub.execute_input": "2023-01-31T19:47:24.045997Z",
     "iopub.status.busy": "2023-01-31T19:47:24.044318Z",
     "iopub.status.idle": "2023-01-31T19:47:26.076768Z",
     "shell.execute_reply": "2023-01-31T19:47:26.075931Z"
    },
    "papermill": {
     "duration": 2.047515,
     "end_time": "2023-01-31T19:47:26.079142",
     "exception": false,
     "start_time": "2023-01-31T19:47:24.031627",
     "status": "completed"
    },
    "tags": []
   },
   "outputs": [
    {
     "data": {
      "text/plain": [
       "42"
      ]
     },
     "execution_count": 15,
     "metadata": {},
     "output_type": "execute_result"
    }
   ],
   "source": [
    "del queries, index\n",
    "gc.collect()"
   ]
  },
  {
   "cell_type": "markdown",
   "id": "a382a2b4",
   "metadata": {
    "papermill": {
     "duration": 0.007948,
     "end_time": "2023-01-31T19:47:26.095267",
     "exception": false,
     "start_time": "2023-01-31T19:47:26.087319",
     "status": "completed"
    },
    "tags": []
   },
   "source": [
    "# Postprocess"
   ]
  },
  {
   "cell_type": "code",
   "execution_count": 16,
   "id": "460e462a",
   "metadata": {
    "execution": {
     "iopub.execute_input": "2023-01-31T19:47:26.113956Z",
     "iopub.status.busy": "2023-01-31T19:47:26.113526Z",
     "iopub.status.idle": "2023-01-31T20:19:45.210932Z",
     "shell.execute_reply": "2023-01-31T20:19:45.208572Z"
    },
    "papermill": {
     "duration": 1939.109533,
     "end_time": "2023-01-31T20:19:45.213544",
     "exception": false,
     "start_time": "2023-01-31T19:47:26.104011",
     "status": "completed"
    },
    "tags": []
   },
   "outputs": [
    {
     "name": "stderr",
     "output_type": "stream",
     "text": [
      "6928123it [32:19, 3572.89it/s]\n"
     ]
    }
   ],
   "source": [
    "i = 0\n",
    "for t in tqdm(df.itertuples(), mininterval=10):\n",
    "    sid = int(getattr(t, \"session\"))\n",
    "    step = int(getattr(t, \"recency\"))\n",
    "    for j in range(ids.shape[1]):\n",
    "        k = int(ids[i][j] / len(conf.id2txn))\n",
    "        aid = id2article[k]\n",
    "        txn = conf.id2txn[ids[i][j] % len(conf.id2txn)]\n",
    "        res[f\"{sid}_{txn}\"].append(\n",
    "            Candidate(\n",
    "                dist=distances[i][j] * np.exp(step * conf.step_factor),\n",
    "                aid=aid,\n",
    "            )\n",
    "        )\n",
    "    i+=1"
   ]
  },
  {
   "cell_type": "code",
   "execution_count": 17,
   "id": "e8a751aa",
   "metadata": {
    "execution": {
     "iopub.execute_input": "2023-01-31T20:19:45.263891Z",
     "iopub.status.busy": "2023-01-31T20:19:45.263418Z",
     "iopub.status.idle": "2023-01-31T20:20:25.150881Z",
     "shell.execute_reply": "2023-01-31T20:20:25.149647Z"
    },
    "papermill": {
     "duration": 39.938254,
     "end_time": "2023-01-31T20:20:25.176418",
     "exception": false,
     "start_time": "2023-01-31T20:19:45.238164",
     "status": "completed"
    },
    "tags": []
   },
   "outputs": [
    {
     "data": {
      "text/plain": [
       "21"
      ]
     },
     "execution_count": 17,
     "metadata": {},
     "output_type": "execute_result"
    }
   ],
   "source": [
    "del df, ids, distances\n",
    "gc.collect()"
   ]
  },
  {
   "cell_type": "code",
   "execution_count": 18,
   "id": "704939a0",
   "metadata": {
    "execution": {
     "iopub.execute_input": "2023-01-31T20:20:25.224348Z",
     "iopub.status.busy": "2023-01-31T20:20:25.223950Z",
     "iopub.status.idle": "2023-01-31T20:25:05.673108Z",
     "shell.execute_reply": "2023-01-31T20:25:05.671217Z"
    },
    "papermill": {
     "duration": 280.476748,
     "end_time": "2023-01-31T20:25:05.676397",
     "exception": false,
     "start_time": "2023-01-31T20:20:25.199649",
     "status": "completed"
    },
    "tags": []
   },
   "outputs": [
    {
     "name": "stderr",
     "output_type": "stream",
     "text": [
      "100%|██████████| 5015409/5015409 [04:40<00:00, 17884.58it/s]\n"
     ]
    }
   ],
   "source": [
    "top = 20\n",
    "rows = []\n",
    "for st,candidates in tqdm(res.items(), mininterval=10):\n",
    "    a = list(candidates)\n",
    "    if len(a)<top:\n",
    "        sid, txn = tuple(st.split(\"_\"))\n",
    "        alt_txns = [\"orders\", \"carts\", \"clicks\"]\n",
    "        alt_txns.remove(txn)\n",
    "        i = 0\n",
    "        while len(a)<top and i<len(alt_txns):\n",
    "            a += res[\"_\".join([sid, alt_txns[i]])]\n",
    "            i+=1\n",
    "    # no duplicate aids\n",
    "    a.sort()\n",
    "    b = []\n",
    "    i = 0\n",
    "    seen: Set[int] = set()\n",
    "    while len(b)<top and i<len(a):\n",
    "        if a[i].aid not in seen:\n",
    "            seen.add(a[i].aid)\n",
    "            b.append(a[i])\n",
    "        i+=1\n",
    "    rows.append({\n",
    "        \"session_type\": st,\n",
    "        \"labels\": \" \".join(str(c.aid) for c in b),\n",
    "    })"
   ]
  },
  {
   "cell_type": "code",
   "execution_count": 19,
   "id": "395f6dfa",
   "metadata": {
    "execution": {
     "iopub.execute_input": "2023-01-31T20:25:05.730972Z",
     "iopub.status.busy": "2023-01-31T20:25:05.730252Z",
     "iopub.status.idle": "2023-01-31T20:25:32.842101Z",
     "shell.execute_reply": "2023-01-31T20:25:32.840837Z"
    },
    "papermill": {
     "duration": 27.142794,
     "end_time": "2023-01-31T20:25:32.844643",
     "exception": false,
     "start_time": "2023-01-31T20:25:05.701849",
     "status": "completed"
    },
    "tags": []
   },
   "outputs": [
    {
     "name": "stdout",
     "output_type": "stream",
     "text": [
      "<class 'pandas.core.frame.DataFrame'>\n",
      "RangeIndex: 5015409 entries, 0 to 5015408\n",
      "Data columns (total 2 columns):\n",
      " #   Column        Dtype \n",
      "---  ------        ----- \n",
      " 0   session_type  object\n",
      " 1   labels        object\n",
      "dtypes: object(2)\n",
      "memory usage: 76.5+ MB\n"
     ]
    }
   ],
   "source": [
    "sub = pd.DataFrame.from_records(rows)\n",
    "sub.to_csv(\"submission.csv\", index=False)\n",
    "sub.info()"
   ]
  },
  {
   "cell_type": "code",
   "execution_count": 20,
   "id": "6b167f14",
   "metadata": {
    "execution": {
     "iopub.execute_input": "2023-01-31T20:25:32.898616Z",
     "iopub.status.busy": "2023-01-31T20:25:32.898216Z",
     "iopub.status.idle": "2023-01-31T20:25:32.909770Z",
     "shell.execute_reply": "2023-01-31T20:25:32.908633Z"
    },
    "papermill": {
     "duration": 0.041172,
     "end_time": "2023-01-31T20:25:32.912203",
     "exception": false,
     "start_time": "2023-01-31T20:25:32.871031",
     "status": "completed"
    },
    "tags": []
   },
   "outputs": [
    {
     "data": {
      "text/html": [
       "<div>\n",
       "<style scoped>\n",
       "    .dataframe tbody tr th:only-of-type {\n",
       "        vertical-align: middle;\n",
       "    }\n",
       "\n",
       "    .dataframe tbody tr th {\n",
       "        vertical-align: top;\n",
       "    }\n",
       "\n",
       "    .dataframe thead th {\n",
       "        text-align: right;\n",
       "    }\n",
       "</style>\n",
       "<table border=\"1\" class=\"dataframe\">\n",
       "  <thead>\n",
       "    <tr style=\"text-align: right;\">\n",
       "      <th></th>\n",
       "      <th>session_type</th>\n",
       "      <th>labels</th>\n",
       "    </tr>\n",
       "  </thead>\n",
       "  <tbody>\n",
       "    <tr>\n",
       "      <th>0</th>\n",
       "      <td>12899779_clicks</td>\n",
       "      <td>59625 739920 44003 225835 653716 1315541 1738007 106205 91558 362884 33136 300672 1408031 1378973 331360 1314286 1300371 933671 50509 898293</td>\n",
       "    </tr>\n",
       "    <tr>\n",
       "      <th>1</th>\n",
       "      <td>12899779_carts</td>\n",
       "      <td>59625 739920 44003 225835 653716 1315541 1738007 106205 91558 362884 33136 300672 1408031 1378973 331360 1314286 1300371 933671 50509 898293</td>\n",
       "    </tr>\n",
       "    <tr>\n",
       "      <th>2</th>\n",
       "      <td>12899779_orders</td>\n",
       "      <td>59625 739920 44003 225835 653716 1315541 1738007 106205 91558 362884 33136 300672 1408031 1378973 331360 1314286 1300371 933671 50509 898293</td>\n",
       "    </tr>\n",
       "    <tr>\n",
       "      <th>3</th>\n",
       "      <td>12899780_clicks</td>\n",
       "      <td>736515 582732 973453 1419849 1735169 1142000 1712906 1524585 1056217 1537673 1758603 77422 1157882 487136 760500 1388466 837443 1032776 884502 1633746</td>\n",
       "    </tr>\n",
       "    <tr>\n",
       "      <th>4</th>\n",
       "      <td>12899780_carts</td>\n",
       "      <td>736515 582732 973453 1419849 1735169 1142000 1712906 1524585 1056217 1537673 1758603 77422 1157882 487136 760500 1388466 837443 1032776 884502 1633746</td>\n",
       "    </tr>\n",
       "    <tr>\n",
       "      <th>5</th>\n",
       "      <td>12899780_orders</td>\n",
       "      <td>736515 582732 973453 1419849 1735169 1142000 1712906 1524585 1056217 1537673 1758603 77422 1157882 487136 760500 1388466 837443 1032776 884502 1633746</td>\n",
       "    </tr>\n",
       "    <tr>\n",
       "      <th>6</th>\n",
       "      <td>12899781_clicks</td>\n",
       "      <td>141736 194067 199008 918667 57315 399703 1173473 1119163 1628918 1125095 1371398 640599 1496238 551645 959548 1777876 399992 473415 734026 1278664</td>\n",
       "    </tr>\n",
       "    <tr>\n",
       "      <th>7</th>\n",
       "      <td>12899781_carts</td>\n",
       "      <td>199008 210917 602249 1378031 833302 688932 1571584 601874 400500 1814567 623052 424835 1608542 1107961 1340329 452500 1504983 852793 1632472 44788</td>\n",
       "    </tr>\n",
       "    <tr>\n",
       "      <th>8</th>\n",
       "      <td>12899781_orders</td>\n",
       "      <td>199008 210917 602249 1378031 833302 688932 1571584 601874 400500 1814567 623052 424835 1608542 1107961 1340329 452500 1504983 852793 1632472 44788</td>\n",
       "    </tr>\n",
       "    <tr>\n",
       "      <th>9</th>\n",
       "      <td>12899782_clicks</td>\n",
       "      <td>229748 1674681 638410 413962 1494780 779477 542617 300208 404110 1050025 652735 856980 1274530 1844117 1066364 1547228 147414 139799 1082119 259674</td>\n",
       "    </tr>\n",
       "  </tbody>\n",
       "</table>\n",
       "</div>"
      ],
      "text/plain": [
       "      session_type  \\\n",
       "0  12899779_clicks   \n",
       "1   12899779_carts   \n",
       "2  12899779_orders   \n",
       "3  12899780_clicks   \n",
       "4   12899780_carts   \n",
       "5  12899780_orders   \n",
       "6  12899781_clicks   \n",
       "7   12899781_carts   \n",
       "8  12899781_orders   \n",
       "9  12899782_clicks   \n",
       "\n",
       "                                                                                                                                                   labels  \n",
       "0            59625 739920 44003 225835 653716 1315541 1738007 106205 91558 362884 33136 300672 1408031 1378973 331360 1314286 1300371 933671 50509 898293  \n",
       "1            59625 739920 44003 225835 653716 1315541 1738007 106205 91558 362884 33136 300672 1408031 1378973 331360 1314286 1300371 933671 50509 898293  \n",
       "2            59625 739920 44003 225835 653716 1315541 1738007 106205 91558 362884 33136 300672 1408031 1378973 331360 1314286 1300371 933671 50509 898293  \n",
       "3  736515 582732 973453 1419849 1735169 1142000 1712906 1524585 1056217 1537673 1758603 77422 1157882 487136 760500 1388466 837443 1032776 884502 1633746  \n",
       "4  736515 582732 973453 1419849 1735169 1142000 1712906 1524585 1056217 1537673 1758603 77422 1157882 487136 760500 1388466 837443 1032776 884502 1633746  \n",
       "5  736515 582732 973453 1419849 1735169 1142000 1712906 1524585 1056217 1537673 1758603 77422 1157882 487136 760500 1388466 837443 1032776 884502 1633746  \n",
       "6      141736 194067 199008 918667 57315 399703 1173473 1119163 1628918 1125095 1371398 640599 1496238 551645 959548 1777876 399992 473415 734026 1278664  \n",
       "7      199008 210917 602249 1378031 833302 688932 1571584 601874 400500 1814567 623052 424835 1608542 1107961 1340329 452500 1504983 852793 1632472 44788  \n",
       "8      199008 210917 602249 1378031 833302 688932 1571584 601874 400500 1814567 623052 424835 1608542 1107961 1340329 452500 1504983 852793 1632472 44788  \n",
       "9     229748 1674681 638410 413962 1494780 779477 542617 300208 404110 1050025 652735 856980 1274530 1844117 1066364 1547228 147414 139799 1082119 259674  "
      ]
     },
     "execution_count": 20,
     "metadata": {},
     "output_type": "execute_result"
    }
   ],
   "source": [
    "sub.head(10)"
   ]
  },
  {
   "cell_type": "markdown",
   "id": "e2358b99",
   "metadata": {
    "papermill": {
     "duration": 0.033471,
     "end_time": "2023-01-31T20:25:32.971444",
     "exception": false,
     "start_time": "2023-01-31T20:25:32.937973",
     "status": "completed"
    },
    "tags": []
   },
   "source": [
    "# Debug"
   ]
  },
  {
   "cell_type": "code",
   "execution_count": 21,
   "id": "c491da1e",
   "metadata": {
    "execution": {
     "iopub.execute_input": "2023-01-31T20:25:33.039703Z",
     "iopub.status.busy": "2023-01-31T20:25:33.039280Z",
     "iopub.status.idle": "2023-01-31T20:25:33.044103Z",
     "shell.execute_reply": "2023-01-31T20:25:33.043256Z"
    },
    "papermill": {
     "duration": 0.045202,
     "end_time": "2023-01-31T20:25:33.046576",
     "exception": false,
     "start_time": "2023-01-31T20:25:33.001374",
     "status": "completed"
    },
    "tags": []
   },
   "outputs": [],
   "source": [
    "#!pip list"
   ]
  }
 ],
 "metadata": {
  "kernelspec": {
   "display_name": "Python 3",
   "language": "python",
   "name": "python3"
  },
  "language_info": {
   "codemirror_mode": {
    "name": "ipython",
    "version": 3
   },
   "file_extension": ".py",
   "mimetype": "text/x-python",
   "name": "python",
   "nbconvert_exporter": "python",
   "pygments_lexer": "ipython3",
   "version": "3.7.12"
  },
  "papermill": {
   "default_parameters": {},
   "duration": 15957.155099,
   "end_time": "2023-01-31T20:25:38.645179",
   "environment_variables": {},
   "exception": null,
   "input_path": "__notebook__.ipynb",
   "output_path": "__notebook__.ipynb",
   "parameters": {},
   "start_time": "2023-01-31T15:59:41.490080",
   "version": "2.3.4"
  }
 },
 "nbformat": 4,
 "nbformat_minor": 5
}
