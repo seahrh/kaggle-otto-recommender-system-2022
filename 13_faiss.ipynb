{
 "cells": [
  {
   "cell_type": "code",
   "execution_count": 8,
   "id": "c814dae1",
   "metadata": {},
   "outputs": [],
   "source": [
    "import os\n",
    "import json\n",
    "import numpy as np\n",
    "import pandas as pd\n",
    "import faiss\n",
    "import torch\n",
    "from tqdm import tqdm\n",
    "import scml"
   ]
  },
  {
   "cell_type": "code",
   "execution_count": 2,
   "id": "15fad2dc",
   "metadata": {},
   "outputs": [],
   "source": [
    "faiss_c: int = 50\n",
    "faiss_k: int = 100\n",
    "faiss_nlist: int = 1000        "
   ]
  },
  {
   "cell_type": "code",
   "execution_count": 3,
   "id": "9a2fdfa8",
   "metadata": {},
   "outputs": [],
   "source": [
    "tim = scml.Timer()\n",
    "tim.start()\n",
    "percentiles=[.01, .05, .1, .2, .3, .4, .5, .6, .7, .8, .9, .95, .99]\n",
    "os.environ[\"TOKENIZERS_PARALLELISM\"] = \"false\"\n",
    "os.environ['CUDA_LAUNCH_BLOCKING'] = \"1\"\n",
    "pd.set_option(\"use_inf_as_na\", True)\n",
    "pd.set_option(\"max_info_columns\", 9999)\n",
    "pd.set_option(\"display.max_columns\", 9999)\n",
    "pd.set_option(\"display.max_rows\", 9999)\n",
    "pd.set_option('max_colwidth', 9999)\n",
    "tqdm.pandas()\n",
    "scml.seed_everything()"
   ]
  },
  {
   "cell_type": "code",
   "execution_count": 4,
   "id": "f774ca70",
   "metadata": {},
   "outputs": [
    {
     "name": "stdout",
     "output_type": "stream",
     "text": [
      "{'epoch': 1, 'global_step': 12110, 'pytorch-lightning_version': '1.7.7', 'state_dict': OrderedDict([('word_embeddings.weight', tensor([[-0.4697, -0.0902, -0.2578,  ..., -0.4001,  0.0420,  0.0653],\n",
      "        [ 0.4781, -0.0490,  0.7954,  ...,  0.7575, -0.1404,  0.7434],\n",
      "        [-0.3789,  0.1923, -0.2426,  ...,  0.0597, -0.1023,  0.2375],\n",
      "        ...,\n",
      "        [ 0.1751, -0.0444, -0.3889,  ..., -0.2694,  0.2358, -0.2691],\n",
      "        [ 0.4944, -0.0559,  0.0382,  ..., -0.2361, -0.2321, -0.2804],\n",
      "        [-0.6416,  0.0252,  0.3920,  ..., -0.2325,  0.4232,  0.0895]],\n",
      "       device='cuda:0')), ('type_embeddings.weight', tensor([[-2.8271e-02,  2.5899e-02, -3.8499e-03, -1.2672e-02,  1.8102e-02,\n",
      "         -7.6821e-03,  6.0259e-03,  2.0547e-02,  8.2483e-03,  2.2127e-02,\n",
      "         -3.4239e-02, -3.6754e-02, -2.0670e-03,  6.0558e-03, -1.1508e-02,\n",
      "         -1.6790e-02, -6.7824e-03,  3.1600e-02, -9.1243e-03,  2.4465e-02,\n",
      "         -4.9653e-03, -3.1446e-02,  1.8366e-02, -2.0687e-02,  4.1522e-02,\n",
      "         -2.8023e-02, -3.4169e-03,  2.5544e-02, -1.3779e-02, -3.3750e-02,\n",
      "         -8.9175e-03,  1.8527e-02, -1.0872e-02, -1.8688e-02,  4.2262e-02,\n",
      "          3.0444e-02,  1.3354e-02,  2.8064e-02,  3.1408e-02,  1.4496e-02,\n",
      "          8.6383e-03,  1.2512e-03,  1.1973e-03, -2.4779e-03, -3.5260e-02,\n",
      "         -1.1747e-02,  3.6044e-02,  5.3705e-03,  9.2673e-03, -2.6892e-02,\n",
      "         -8.9158e-03, -1.2202e-01,  8.9719e-03,  4.1268e-02, -2.2232e-02,\n",
      "          8.9515e-03, -3.8607e-02, -6.3571e-03, -2.4845e-01, -1.1879e-02,\n",
      "         -3.5717e-02,  3.9721e-02,  2.6912e-02, -3.6075e-02],\n",
      "        [-1.3752e-02,  6.9201e-02, -1.7197e-02, -3.2711e-02,  3.0358e-02,\n",
      "         -1.0049e-02, -1.0007e-02,  4.9701e-02, -1.2995e-02,  5.8869e-02,\n",
      "         -1.0887e-01, -2.9630e-02,  2.7611e-02,  4.4110e-02, -2.2116e-02,\n",
      "         -4.9642e-02,  9.6637e-03,  2.4950e-02, -2.8263e-02, -4.3981e-03,\n",
      "         -5.8596e-02, -7.2675e-02,  3.0772e-03, -2.5771e-02,  9.0818e-02,\n",
      "         -1.4467e-01,  1.1139e-02,  4.1342e-02, -1.7363e-03, -3.9950e-02,\n",
      "         -1.1304e-03,  5.2712e-02, -2.3277e-02, -1.9661e-02,  1.8370e-01,\n",
      "          1.8473e-02,  3.4981e-03,  4.7895e-02,  1.4598e-01, -1.8033e+00,\n",
      "          2.4842e-02, -1.4370e-02,  1.3951e-02, -1.1802e-02, -8.0094e-02,\n",
      "         -2.0447e-02,  6.2388e-02,  3.7000e-02, -4.2160e-02,  4.9506e-03,\n",
      "         -5.7937e-03,  4.6314e+00,  3.2271e-02,  1.7600e-01, -4.7610e-02,\n",
      "          3.1150e-02, -1.0955e-01, -3.3554e-02,  8.1431e+00, -5.3407e-01,\n",
      "         -8.5336e-02,  6.5125e-02,  2.2981e-02, -3.8182e-02],\n",
      "        [-2.0462e-02,  6.5043e-02,  3.6619e-02,  1.2855e-03,  1.8222e-02,\n",
      "         -2.2788e-03,  2.3949e-02,  3.4923e-02, -1.3363e-03,  5.2148e-02,\n",
      "         -6.2098e-02, -8.4002e-03, -3.1074e-02,  1.4614e-02, -3.3226e-02,\n",
      "         -4.8766e-02, -2.4347e-02,  4.1513e-02, -2.4658e-02,  4.1860e-02,\n",
      "         -1.8369e-02, -1.0914e-01,  1.3588e-02,  1.0910e-02,  7.5482e-02,\n",
      "         -9.1777e-02, -4.4975e-02,  4.9266e-02, -3.1963e-02, -5.3065e-02,\n",
      "          1.0724e-02,  1.1626e-02, -7.3398e-03, -6.2843e-02,  1.3657e-01,\n",
      "          4.2685e-02, -4.9374e-03,  7.1016e-03,  4.4524e-02, -2.3663e+00,\n",
      "          2.8549e-02, -5.2663e-03, -1.4990e-02,  4.4737e-05, -5.8048e-02,\n",
      "         -1.4058e-02,  5.1377e-02,  5.8100e-03,  4.5094e-03, -3.1596e-02,\n",
      "         -6.8870e-02,  6.3313e+00,  4.0093e-02,  1.4162e-01, -2.9051e-02,\n",
      "         -3.2525e-02, -2.0379e-02, -5.9680e-04,  1.1364e+01, -5.9083e-01,\n",
      "         -5.1380e-02,  1.0842e-01,  2.2168e-02, -2.6770e-02]], device='cuda:0'))]), 'loops': {'fit_loop': {'state_dict': {}, 'epoch_loop.state_dict': {'_batches_that_stepped': 12110}, 'epoch_loop.batch_progress': {'total': {'ready': 12110, 'completed': 12110, 'started': 12110, 'processed': 12110}, 'current': {'ready': 6055, 'completed': 6055, 'started': 6055, 'processed': 6055}, 'is_last_batch': True}, 'epoch_loop.scheduler_progress': {'total': {'ready': 0, 'completed': 0}, 'current': {'ready': 0, 'completed': 0}}, 'epoch_loop.batch_loop.state_dict': {}, 'epoch_loop.batch_loop.optimizer_loop.state_dict': {}, 'epoch_loop.batch_loop.optimizer_loop.optim_progress': {'optimizer': {'step': {'total': {'ready': 12110, 'completed': 12110}, 'current': {'ready': 6055, 'completed': 6055}}, 'zero_grad': {'total': {'ready': 12110, 'completed': 12110, 'started': 12110}, 'current': {'ready': 6055, 'completed': 6055, 'started': 6055}}}, 'optimizer_position': 1}, 'epoch_loop.batch_loop.manual_loop.state_dict': {}, 'epoch_loop.batch_loop.manual_loop.optim_step_progress': {'total': {'ready': 0, 'completed': 0}, 'current': {'ready': 0, 'completed': 0}}, 'epoch_loop.val_loop.state_dict': {}, 'epoch_loop.val_loop.dataloader_progress': {'total': {'ready': 2, 'completed': 2}, 'current': {'ready': 1, 'completed': 1}}, 'epoch_loop.val_loop.epoch_loop.state_dict': {}, 'epoch_loop.val_loop.epoch_loop.batch_progress': {'total': {'ready': 124, 'completed': 124, 'started': 124, 'processed': 124}, 'current': {'ready': 124, 'completed': 124, 'started': 124, 'processed': 124}, 'is_last_batch': True}, 'epoch_progress': {'total': {'ready': 2, 'completed': 1, 'started': 2, 'processed': 2}, 'current': {'ready': 2, 'completed': 1, 'started': 2, 'processed': 2}}}, 'validate_loop': {'state_dict': {}, 'dataloader_progress': {'total': {'ready': 0, 'completed': 0}, 'current': {'ready': 0, 'completed': 0}}, 'epoch_loop.state_dict': {}, 'epoch_loop.batch_progress': {'total': {'ready': 0, 'completed': 0, 'started': 0, 'processed': 0}, 'current': {'ready': 0, 'completed': 0, 'started': 0, 'processed': 0}, 'is_last_batch': False}}, 'test_loop': {'state_dict': {}, 'dataloader_progress': {'total': {'ready': 0, 'completed': 0}, 'current': {'ready': 0, 'completed': 0}}, 'epoch_loop.state_dict': {}, 'epoch_loop.batch_progress': {'total': {'ready': 0, 'completed': 0, 'started': 0, 'processed': 0}, 'current': {'ready': 0, 'completed': 0, 'started': 0, 'processed': 0}, 'is_last_batch': False}}, 'predict_loop': {'state_dict': {}, 'dataloader_progress': {'total': {'ready': 0, 'completed': 0}, 'current': {'ready': 0, 'completed': 0}}, 'epoch_loop.state_dict': {}, 'epoch_loop.batch_progress': {'total': {'ready': 0, 'completed': 0, 'started': 0, 'processed': 0}, 'current': {'ready': 0, 'completed': 0, 'started': 0, 'processed': 0}}}}, 'callbacks': {\"EarlyStopping{'monitor': 'val_loss', 'mode': 'min'}\": {'wait_count': 0, 'stopped_epoch': 0, 'best_score': tensor(6.5973, device='cuda:0'), 'patience': 0}, \"ModelCheckpoint{'monitor': 'val_loss', 'mode': 'min', 'every_n_train_steps': 0, 'every_n_epochs': 1, 'train_time_interval': None, 'save_on_train_epoch_end': True}\": {'monitor': 'val_loss', 'best_model_score': tensor(6.5973, device='cuda:0'), 'best_model_path': 'models\\\\word2vec\\\\20230127_031513\\\\lightning_logs\\\\version_0\\\\checkpoints\\\\epoch=1-step=12110.ckpt', 'current_score': tensor(6.5973, device='cuda:0'), 'dirpath': 'models\\\\word2vec\\\\20230127_031513\\\\lightning_logs\\\\version_0\\\\checkpoints', 'best_k_models': {'models\\\\word2vec\\\\20230127_031513\\\\lightning_logs\\\\version_0\\\\checkpoints\\\\epoch=1-step=12110.ckpt': tensor(6.5973, device='cuda:0')}, 'kth_best_model_path': 'models\\\\word2vec\\\\20230127_031513\\\\lightning_logs\\\\version_0\\\\checkpoints\\\\epoch=1-step=12110.ckpt', 'kth_value': tensor(6.5973, device='cuda:0'), 'last_model_path': ''}}, 'optimizer_states': [{'state': {0: {'step': tensor(12110.), 'exp_avg': tensor([[ 1.6202e-06, -5.6643e-06, -8.5713e-07,  ..., -8.4060e-06,\n",
      "         -3.6384e-06, -6.1909e-06],\n",
      "        [ 6.9977e-06, -6.7775e-06, -1.1993e-05,  ..., -3.3358e-06,\n",
      "         -2.4195e-06, -9.1409e-06],\n",
      "        [-9.4741e-06, -2.2807e-06, -3.2895e-07,  ...,  1.5570e-05,\n",
      "         -2.9783e-06,  4.9068e-06],\n",
      "        ...,\n",
      "        [ 6.9664e-10, -2.8067e-09, -5.9738e-09,  ...,  6.9224e-09,\n",
      "         -7.9378e-09, -3.9967e-09],\n",
      "        [ 1.6052e-06, -2.8717e-06,  4.7277e-06,  ...,  3.8904e-06,\n",
      "          4.8981e-07,  2.4923e-06],\n",
      "        [-1.5784e-07, -1.9551e-07,  2.8882e-09,  ...,  9.9555e-08,\n",
      "          1.9958e-07,  1.2519e-07]], device='cuda:0'), 'exp_avg_sq': tensor([[1.2056e-09, 1.1913e-09, 1.1366e-09,  ..., 9.0371e-10, 1.1999e-09,\n",
      "         1.0377e-09],\n",
      "        [7.3728e-10, 8.6461e-10, 7.9481e-10,  ..., 8.7877e-10, 8.2222e-10,\n",
      "         8.3129e-10],\n",
      "        [1.6430e-09, 2.0023e-09, 1.6055e-09,  ..., 1.9862e-09, 2.0706e-09,\n",
      "         2.0294e-09],\n",
      "        ...,\n",
      "        [1.1321e-10, 7.2108e-11, 6.6856e-11,  ..., 5.9332e-11, 3.0958e-11,\n",
      "         4.0833e-11],\n",
      "        [6.4794e-11, 1.1411e-10, 1.0473e-10,  ..., 4.1848e-11, 2.1616e-10,\n",
      "         1.6730e-10],\n",
      "        [9.4083e-11, 1.1655e-10, 1.4487e-10,  ..., 9.1984e-11, 1.2015e-10,\n",
      "         1.1441e-10]], device='cuda:0')}, 1: {'step': tensor(12110.), 'exp_avg': tensor([[ 2.1890e-02, -9.6497e-03, -1.0095e-01, -9.4358e-03, -2.3254e-02,\n",
      "          7.9748e-02, -5.2831e-02, -6.4889e-02, -2.3404e-02,  4.7240e-02,\n",
      "         -1.1394e-02,  2.9642e-02, -4.8036e-03, -1.2323e-01, -5.5376e-02,\n",
      "         -8.1808e-04, -6.7823e-03,  6.1803e-02, -9.4623e-03, -4.3775e-02,\n",
      "          1.0583e-01,  3.4720e-02, -3.9003e-03,  4.7963e-02, -7.2238e-03,\n",
      "         -2.6031e-02,  5.1634e-03, -4.7570e-02,  7.6860e-02,  4.6284e-02,\n",
      "         -6.3327e-03, -1.0210e-02, -3.8199e-02, -2.5637e-02,  1.6527e-02,\n",
      "         -2.9298e-02, -5.6360e-03, -1.6026e-02,  4.8746e-02, -1.0297e-01,\n",
      "         -1.4120e-01,  1.0785e-02,  1.4041e-01, -6.1548e-03,  4.0518e-02,\n",
      "          1.3732e-02, -5.1840e-02, -6.3053e-04, -7.5907e-02,  6.9410e-02,\n",
      "         -2.1081e-02,  7.4299e-02, -6.0409e-02,  5.5400e-02,  8.1653e-03,\n",
      "         -6.3269e-02,  3.3975e-02, -1.2879e-01,  1.4603e-01, -4.0201e-02,\n",
      "          3.4309e-02, -3.8801e-02, -5.9274e-02,  2.1141e-02],\n",
      "        [-9.4551e-04,  3.8648e-03, -9.7961e-03, -4.2347e-03,  6.6363e-03,\n",
      "         -9.7597e-03, -5.2253e-03,  3.3694e-03,  1.8490e-03,  4.2822e-03,\n",
      "          8.7717e-03,  4.1213e-03, -5.4719e-03, -3.7072e-03, -9.6677e-03,\n",
      "         -3.6013e-03,  5.5110e-03,  6.3005e-04, -5.4131e-03,  1.0130e-02,\n",
      "          7.8015e-03, -1.1497e-02,  7.5956e-03,  2.8750e-03, -2.0110e-03,\n",
      "         -3.3772e-03,  3.0020e-03,  4.4854e-03,  2.0180e-03, -4.7489e-03,\n",
      "          3.4778e-03, -3.4164e-04, -5.3039e-03, -2.6745e-03, -5.1465e-03,\n",
      "          2.1860e-04, -6.2892e-03,  6.6370e-03, -8.7860e-04,  3.4171e-03,\n",
      "         -3.6860e-03, -1.0478e-02,  8.6421e-04,  6.0676e-03,  5.4736e-03,\n",
      "          7.7760e-03, -3.0164e-04, -3.8068e-03, -3.6113e-03,  5.7285e-03,\n",
      "          1.1473e-03,  3.1490e-03, -7.6985e-03,  1.6056e-02,  3.3675e-04,\n",
      "          5.5149e-04, -4.4209e-03,  1.1390e-03, -1.3129e-02,  4.2649e-03,\n",
      "         -2.1465e-03,  6.2583e-03, -6.0586e-03,  1.1122e-03],\n",
      "        [-4.1125e-04,  5.0179e-04,  1.0050e-03, -1.0467e-04, -2.3441e-04,\n",
      "          8.5099e-06,  5.7662e-04, -3.4271e-04,  8.3861e-04,  2.2015e-04,\n",
      "          6.8326e-04, -3.7051e-04,  1.6672e-04,  1.4171e-04, -2.3428e-05,\n",
      "          2.3718e-04,  7.4082e-05,  5.2501e-04,  2.0963e-04,  7.0758e-04,\n",
      "          1.4463e-04, -1.1693e-04,  5.7534e-04,  1.2159e-04, -1.2403e-04,\n",
      "         -4.3627e-04,  2.5914e-04, -4.8338e-04, -1.4343e-04, -1.4096e-03,\n",
      "          3.7584e-04, -2.4320e-04,  2.4739e-04,  6.2726e-04,  1.5440e-04,\n",
      "         -1.1995e-03, -5.5292e-04, -2.7910e-04, -5.7891e-04,  1.8788e-04,\n",
      "          2.6466e-04,  1.6437e-03, -7.9615e-05,  1.9553e-04,  2.6020e-04,\n",
      "          3.4062e-05, -1.6361e-04, -3.0414e-04,  3.6283e-04, -9.8961e-04,\n",
      "          1.9371e-04, -3.3762e-04, -7.0826e-04,  4.1542e-04, -3.1134e-04,\n",
      "         -5.1066e-05,  9.1791e-05,  1.7516e-04, -4.2242e-04,  1.6404e-04,\n",
      "          1.1434e-04, -6.0035e-04,  3.6102e-04, -8.2592e-04]], device='cuda:0'), 'exp_avg_sq': tensor([[1.2841e-03, 1.2902e-03, 2.2861e-03, 1.3348e-03, 1.2311e-03, 1.8754e-03,\n",
      "         1.5064e-03, 1.7881e-03, 1.2234e-03, 1.3085e-03, 1.2321e-03, 1.3013e-03,\n",
      "         1.2153e-03, 2.7405e-03, 1.4809e-03, 1.3106e-03, 1.2942e-03, 1.8892e-03,\n",
      "         1.2412e-03, 1.4975e-03, 2.2805e-03, 1.2883e-03, 1.1589e-03, 1.3725e-03,\n",
      "         1.2583e-03, 1.3053e-03, 1.1671e-03, 1.3394e-03, 1.8050e-03, 1.6336e-03,\n",
      "         1.2146e-03, 1.2590e-03, 1.3552e-03, 1.3717e-03, 1.2734e-03, 1.3199e-03,\n",
      "         1.3131e-03, 1.2530e-03, 1.3428e-03, 4.3169e-03, 3.0967e-03, 1.2248e-03,\n",
      "         2.9746e-03, 1.2891e-03, 1.3975e-03, 1.2327e-03, 1.4804e-03, 1.2694e-03,\n",
      "         1.8729e-03, 1.6024e-03, 1.2779e-03, 1.0114e-02, 1.6018e-03, 1.5086e-03,\n",
      "         1.2995e-03, 1.8048e-03, 1.2990e-03, 2.9494e-03, 2.3823e-02, 1.7123e-03,\n",
      "         1.4757e-03, 1.3769e-03, 1.5369e-03, 1.3651e-03],\n",
      "        [1.3635e-05, 1.4912e-05, 2.2834e-05, 1.5442e-05, 1.7689e-05, 2.2752e-05,\n",
      "         1.5592e-05, 1.5644e-05, 1.4975e-05, 1.6010e-05, 2.2111e-05, 1.4932e-05,\n",
      "         1.7612e-05, 1.6648e-05, 2.1930e-05, 1.5419e-05, 1.8414e-05, 1.4384e-05,\n",
      "         1.5864e-05, 2.3019e-05, 1.8401e-05, 2.9510e-05, 2.0194e-05, 1.5036e-05,\n",
      "         1.4444e-05, 1.3054e-05, 1.4915e-05, 1.5383e-05, 1.3669e-05, 1.5741e-05,\n",
      "         1.5082e-05, 1.4925e-05, 1.7510e-05, 1.5160e-05, 1.6938e-05, 1.4038e-05,\n",
      "         1.6626e-05, 1.7599e-05, 1.2626e-05, 1.2464e-05, 1.6468e-05, 2.7750e-05,\n",
      "         1.4505e-05, 1.7064e-05, 1.9284e-05, 1.9746e-05, 1.4362e-05, 1.4481e-05,\n",
      "         1.4996e-05, 1.7542e-05, 1.4359e-05, 9.5896e-06, 2.3578e-05, 3.9071e-05,\n",
      "         1.4771e-05, 1.4077e-05, 1.4852e-05, 1.4397e-05, 2.4158e-05, 1.5347e-05,\n",
      "         1.3961e-05, 1.7973e-05, 1.7097e-05, 1.3849e-05],\n",
      "        [5.0123e-06, 4.7224e-06, 5.2175e-06, 4.7543e-06, 4.8166e-06, 4.8207e-06,\n",
      "         4.7408e-06, 5.0267e-06, 4.8705e-06, 4.5517e-06, 4.7049e-06, 4.8482e-06,\n",
      "         4.8581e-06, 5.0319e-06, 4.7017e-06, 4.5384e-06, 4.9618e-06, 4.9975e-06,\n",
      "         5.0158e-06, 4.9210e-06, 4.9628e-06, 4.9319e-06, 4.6966e-06, 4.7074e-06,\n",
      "         4.5136e-06, 4.5446e-06, 4.9800e-06, 4.6868e-06, 4.9080e-06, 5.1479e-06,\n",
      "         5.0714e-06, 4.8243e-06, 4.9179e-06, 5.0716e-06, 4.2310e-06, 4.8811e-06,\n",
      "         4.8749e-06, 4.7513e-06, 4.2548e-06, 3.5522e-06, 5.2848e-06, 5.0676e-06,\n",
      "         4.9529e-06, 5.0136e-06, 4.5250e-06, 4.8873e-06, 4.7442e-06, 4.5964e-06,\n",
      "         5.0150e-06, 4.8255e-06, 4.7909e-06, 2.9958e-06, 4.9283e-06, 4.0798e-06,\n",
      "         4.8768e-06, 4.9313e-06, 4.7024e-06, 5.0538e-06, 2.9736e-06, 4.2636e-06,\n",
      "         4.5474e-06, 4.7468e-06, 4.9911e-06, 4.8541e-06]], device='cuda:0')}}, 'param_groups': [{'lr': 0.005, 'betas': (0.9, 0.999), 'eps': 1e-08, 'weight_decay': 0.01, 'amsgrad': False, 'foreach': None, 'maximize': False, 'capturable': False, 'params': [0, 1]}, {'lr': 0.001, 'betas': (0.9, 0.999), 'eps': 1e-08, 'weight_decay': 0.01, 'amsgrad': False, 'foreach': None, 'maximize': False, 'capturable': False, 'params': []}, {'lr': 0.001, 'betas': (0.9, 0.999), 'eps': 1e-08, 'weight_decay': 0.01, 'amsgrad': False, 'foreach': None, 'maximize': False, 'capturable': False, 'params': []}]}], 'lr_schedulers': []}\n"
     ]
    }
   ],
   "source": [
    "ckp = torch.load(\"models/word2vec/20230127_031513/lightning_logs/version_0/checkpoints/epoch=1-step=12110.ckpt\")\n",
    "print(ckp)"
   ]
  },
  {
   "cell_type": "code",
   "execution_count": 5,
   "id": "25bbf06e",
   "metadata": {},
   "outputs": [
    {
     "name": "stderr",
     "output_type": "stream",
     "text": [
      "100%|██████████████████████| 1855603/1855603 [00:06<00:00, 305818.16it/s]\n"
     ]
    },
    {
     "name": "stdout",
     "output_type": "stream",
     "text": [
      "word_em.shape=(1855603, 64)\n",
      "type_em.shape=(3, 64)\n",
      "em.shape=(5566809, 64)\n"
     ]
    }
   ],
   "source": [
    "word_em = ckp[\"state_dict\"][\"word_embeddings.weight\"].cpu().numpy()\n",
    "type_em = ckp[\"state_dict\"][\"type_embeddings.weight\"].cpu().numpy()\n",
    "em = []\n",
    "for wem in tqdm(word_em):\n",
    "    for tem in type_em:\n",
    "        em.append(wem + tem)\n",
    "em = np.array(em, dtype=np.float32)\n",
    "print(f\"word_em.shape={word_em.shape}\\ntype_em.shape={type_em.shape}\\nem.shape={em.shape}\")\n",
    "assert word_em.shape[0] * type_em.shape[0] == em.shape[0]"
   ]
  },
  {
   "cell_type": "code",
   "execution_count": 9,
   "id": "a60a2888",
   "metadata": {},
   "outputs": [
    {
     "name": "stdout",
     "output_type": "stream",
     "text": [
      "Saved output/item.index\n",
      "Wall time: 22.5 s\n"
     ]
    }
   ],
   "source": [
    "%%time\n",
    "faiss.normalize_L2(em)\n",
    "d = em.shape[1]\n",
    "m = 8  # number of subquantizers\n",
    "quantizer = faiss.IndexFlatIP(d)\n",
    "# 8 specifies that each sub-vector is encoded as 8 bits\n",
    "index = faiss.IndexIVFPQ(quantizer, d, faiss_nlist, m, 8)\n",
    "index.verbose = True\n",
    "index.train(em)\n",
    "index.add(em)\n",
    "filepath = f\"output/item.index\"\n",
    "faiss.write_index(index, filepath)\n",
    "print(f\"Saved {filepath}\")"
   ]
  },
  {
   "cell_type": "code",
   "execution_count": 10,
   "id": "ca5981f9",
   "metadata": {},
   "outputs": [
    {
     "name": "stdout",
     "output_type": "stream",
     "text": [
      "Expecting id 5 but found 4\n",
      "Expecting id 275 but found 274\n",
      "Expecting id 488 but found 487\n",
      "Expecting id 875 but found 874\n"
     ]
    }
   ],
   "source": [
    "index = faiss.read_index(filepath)\n",
    "assert index.is_trained and index.ntotal == em.shape[0]\n",
    "# sanity check\n",
    "index.nprobe = 1\n",
    "k = 4\n",
    "n = 1000\n",
    "distances, ids = index.search(em[:n], k)\n",
    "for i in range(n):\n",
    "    if ids[i][0] != i:\n",
    "        print(f\"Expecting id {i} but found {ids[i][0]}\")"
   ]
  },
  {
   "cell_type": "code",
   "execution_count": 11,
   "id": "8439b3e0",
   "metadata": {},
   "outputs": [
    {
     "name": "stdout",
     "output_type": "stream",
     "text": [
      "Total time taken 0:00:58.231592\n"
     ]
    }
   ],
   "source": [
    "tim.stop()\n",
    "print(f\"Total time taken {str(tim.elapsed)}\")"
   ]
  }
 ],
 "metadata": {
  "kernelspec": {
   "display_name": "Python 3 (ipykernel)",
   "language": "python",
   "name": "python3"
  },
  "language_info": {
   "codemirror_mode": {
    "name": "ipython",
    "version": 3
   },
   "file_extension": ".py",
   "mimetype": "text/x-python",
   "name": "python",
   "nbconvert_exporter": "python",
   "pygments_lexer": "ipython3",
   "version": "3.7.5"
  }
 },
 "nbformat": 4,
 "nbformat_minor": 5
}
