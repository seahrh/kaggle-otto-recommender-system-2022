{
 "cells": [
  {
   "cell_type": "code",
   "execution_count": 1,
   "id": "36a78f8e",
   "metadata": {},
   "outputs": [],
   "source": [
    "import json\n",
    "from collections import Counter\n",
    "import networkx as nx\n",
    "from networkx.readwrite import json_graph\n",
    "import numpy as np\n",
    "import pandas as pd\n",
    "from tqdm import tqdm\n",
    "from typing import Dict, List\n",
    "import scml"
   ]
  },
  {
   "cell_type": "code",
   "execution_count": 2,
   "id": "cff9616e",
   "metadata": {},
   "outputs": [],
   "source": [
    "tim = scml.Timer()\n",
    "tim.start()\n",
    "percentiles=[.01, .05, .1, .2, .3, .4, .5, .6, .7, .8, .9, .95, .99]\n",
    "pd.set_option(\"use_inf_as_na\", True)\n",
    "pd.set_option(\"max_info_columns\", 9999)\n",
    "pd.set_option(\"display.max_columns\", 9999)\n",
    "pd.set_option(\"display.max_rows\", 9999)\n",
    "pd.set_option('max_colwidth', 9999)\n",
    "tqdm.pandas()"
   ]
  },
  {
   "cell_type": "code",
   "execution_count": 3,
   "id": "1386c056",
   "metadata": {},
   "outputs": [
    {
     "name": "stdout",
     "output_type": "stream",
     "text": [
      "<class 'pandas.core.frame.DataFrame'>\n",
      "RangeIndex: 223644219 entries, 0 to 223644218\n",
      "Data columns (total 4 columns):\n",
      " #   Column   Dtype\n",
      "---  ------   -----\n",
      " 0   session  int32\n",
      " 1   aid      int32\n",
      " 2   ts       int64\n",
      " 3   type     int8 \n",
      "dtypes: int32(2), int64(1), int8(1)\n",
      "memory usage: 3.5 GB\n"
     ]
    }
   ],
   "source": [
    "# already sorted by session, timestamp\n",
    "df = pd.read_parquet(\"input/transactions.parquet\")\n",
    "#df = df.iloc[:1000]\n",
    "df.info()"
   ]
  },
  {
   "cell_type": "code",
   "execution_count": 4,
   "id": "00e08000",
   "metadata": {},
   "outputs": [
    {
     "name": "stderr",
     "output_type": "stream",
     "text": [
      "223644219it [13:45, 270940.08it/s]\n"
     ]
    }
   ],
   "source": [
    "wc = Counter()\n",
    "prev_sess = None\n",
    "prev = None\n",
    "edges = Counter()\n",
    "types: List[str] = [\"click\", \"cart\", \"order\"]\n",
    "for t in tqdm(df.itertuples()):\n",
    "    curr_sess = int(getattr(t, \"session\"))\n",
    "    if prev_sess is not None and prev_sess!=curr_sess:\n",
    "        prev = None\n",
    "    prev_sess = curr_sess\n",
    "    aid = str(getattr(t, \"aid\"))\n",
    "    _type = types[int(getattr(t, \"type\"))]\n",
    "    curr = f\"{aid}_{_type}\"\n",
    "    wc[aid]+=1\n",
    "    if prev is not None and prev!=curr:\n",
    "        edges[(prev, curr)]+=1\n",
    "    prev = curr"
   ]
  },
  {
   "cell_type": "code",
   "execution_count": 5,
   "id": "24d69a84",
   "metadata": {},
   "outputs": [
    {
     "name": "stdout",
     "output_type": "stream",
     "text": [
      "1855603 words\n",
      "[('1460571', 137874), ('485256', 135892), ('108125', 124885), ('29735', 116215), ('1733943', 106512), ('832192', 94766), ('184976', 92890), ('166037', 86333), ('554660', 83865), ('986164', 81557)]\n"
     ]
    }
   ],
   "source": [
    "print(f\"{len(wc)} words\\n{wc.most_common(10)}\")"
   ]
  },
  {
   "cell_type": "code",
   "execution_count": 6,
   "id": "9f9fc680",
   "metadata": {},
   "outputs": [
    {
     "data": {
      "text/plain": [
       "count    1.855603e+06\n",
       "mean     1.205237e+02\n",
       "std      7.512637e+02\n",
       "min      3.000000e+00\n",
       "1%       5.000000e+00\n",
       "5%       6.000000e+00\n",
       "10%      6.000000e+00\n",
       "20%      9.000000e+00\n",
       "30%      1.100000e+01\n",
       "40%      1.500000e+01\n",
       "50%      2.000000e+01\n",
       "60%      2.900000e+01\n",
       "70%      4.500000e+01\n",
       "80%      7.800000e+01\n",
       "90%      1.890000e+02\n",
       "95%      4.100000e+02\n",
       "99%      1.732000e+03\n",
       "max      1.378740e+05\n",
       "dtype: float64"
      ]
     },
     "execution_count": 6,
     "metadata": {},
     "output_type": "execute_result"
    }
   ],
   "source": [
    "s = pd.Series(wc.values())\n",
    "s.describe(percentiles=percentiles)"
   ]
  },
  {
   "cell_type": "code",
   "execution_count": 7,
   "id": "814714dc",
   "metadata": {},
   "outputs": [
    {
     "name": "stdout",
     "output_type": "stream",
     "text": [
      "Wall time: 8.52 s\n"
     ]
    }
   ],
   "source": [
    "%%time\n",
    "with open(\"output/vocab3.json\", \"w\") as f:\n",
    "    json.dump(wc.most_common(), f)"
   ]
  },
  {
   "cell_type": "code",
   "execution_count": 8,
   "id": "bc412528",
   "metadata": {},
   "outputs": [
    {
     "name": "stdout",
     "output_type": "stream",
     "text": [
      "[(('485256_click', '485256_cart'), 27336), (('485256_cart', '485256_click'), 19103), (('152547_click', '152547_cart'), 15021), (('166037_click', '166037_cart'), 12301), (('29735_click', '832192_click'), 11408), (('33343_click', '33343_cart'), 10174), (('1733943_click', '1733943_cart'), 9762), (('231487_click', '231487_cart'), 9413), (('29735_click', '29735_cart'), 9300), (('832192_click', '29735_click'), 9013)]\n"
     ]
    }
   ],
   "source": [
    "print(edges.most_common(10))"
   ]
  },
  {
   "cell_type": "code",
   "execution_count": 9,
   "id": "37c5a778",
   "metadata": {},
   "outputs": [
    {
     "name": "stdout",
     "output_type": "stream",
     "text": [
      "DiGraph with 3764159 nodes and 100953434 edges\n"
     ]
    }
   ],
   "source": [
    "g = nx.DiGraph()\n",
    "g.add_weighted_edges_from((u, v, w) for (u, v), w in edges.most_common())\n",
    "print(g)"
   ]
  },
  {
   "cell_type": "code",
   "execution_count": 10,
   "id": "aa2ed4c2",
   "metadata": {},
   "outputs": [
    {
     "name": "stdout",
     "output_type": "stream",
     "text": [
      "Wall time: 27min 19s\n"
     ]
    }
   ],
   "source": [
    "%%time\n",
    "with open(f\"output/graph.json\", \"w\") as f:\n",
    "    json.dump(json_graph.adjacency_data(g), f)"
   ]
  },
  {
   "cell_type": "code",
   "execution_count": 11,
   "id": "5fcd2eba",
   "metadata": {},
   "outputs": [
    {
     "name": "stdout",
     "output_type": "stream",
     "text": [
      "Total time taken 0:48:47.894346\n"
     ]
    }
   ],
   "source": [
    "tim.stop()\n",
    "print(f\"Total time taken {str(tim.elapsed)}\")"
   ]
  }
 ],
 "metadata": {
  "kernelspec": {
   "display_name": "Python 3 (ipykernel)",
   "language": "python",
   "name": "python3"
  },
  "language_info": {
   "codemirror_mode": {
    "name": "ipython",
    "version": 3
   },
   "file_extension": ".py",
   "mimetype": "text/x-python",
   "name": "python",
   "nbconvert_exporter": "python",
   "pygments_lexer": "ipython3",
   "version": "3.7.5"
  }
 },
 "nbformat": 4,
 "nbformat_minor": 5
}
