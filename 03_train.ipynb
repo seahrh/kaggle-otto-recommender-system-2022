{
 "cells": [
  {
   "cell_type": "code",
   "execution_count": 1,
   "id": "d5e87eed",
   "metadata": {},
   "outputs": [],
   "source": [
    "import os\n",
    "import gc\n",
    "import math\n",
    "import json\n",
    "from datetime import datetime\n",
    "import shutil\n",
    "from pathlib import Path\n",
    "import optuna\n",
    "import numpy as np\n",
    "import pandas as pd\n",
    "import pytorch_lightning as pl\n",
    "from tqdm import tqdm\n",
    "import torch\n",
    "from sklearn.model_selection import StratifiedGroupKFold\n",
    "from torch.utils.data import DataLoader\n",
    "from typing import Dict, List, Tuple, NamedTuple\n",
    "from transformers import AutoTokenizer, AutoConfig, BertTokenizerFast\n",
    "import scml"
   ]
  },
  {
   "cell_type": "code",
   "execution_count": 2,
   "id": "9c27c5ca",
   "metadata": {},
   "outputs": [
    {
     "name": "stdout",
     "output_type": "stream",
     "text": [
      "Conf(model_name='roberta-base', epochs=3, lr=(2e-06, 2e-06), multi_sample_dropout_size=(8, 8), multi_sample_dropout_increment=(0, 0), swa_start_epoch=(-1, -1), swa_anneal_epochs=(3, 3), pretrained_dir=WindowsPath('pretrained'), zoo={'deberta-v3-base': ModelConf(directory=WindowsPath('pretrained/microsoft/deberta-v3-base'), model_max_length=512, stride=128, batch_size=2, gradient_checkpointing=False), 'roberta-base': ModelConf(directory=WindowsPath('pretrained/roberta-base'), model_max_length=512, stride=128, batch_size=4, gradient_checkpointing=False)}, sample_frac=1.0, gpus=[0], patience=1, n_trials=1, n_folds=3, seed=31)\n"
     ]
    }
   ],
   "source": [
    "class ModelConf(NamedTuple):\n",
    "    directory: Path\n",
    "    model_max_length: int\n",
    "    stride: int\n",
    "    batch_size: int\n",
    "    gradient_checkpointing: bool\n",
    "\n",
    "\n",
    "class Conf(NamedTuple):\n",
    "    model_name: str = \"roberta-base\"\n",
    "    epochs: int = 3\n",
    "    lr: Tuple[float, float] = (2e-6, 2e-6)\n",
    "    multi_sample_dropout_size: Tuple[int, int] = (8, 8)\n",
    "    multi_sample_dropout_increment: Tuple[float, float] = (0, 0)\n",
    "    swa_start_epoch: Tuple[int, int] = (-1, -1)\n",
    "    swa_anneal_epochs: Tuple[int, int] = (3, 3)\n",
    "    pretrained_dir: Path = Path(\"pretrained\")\n",
    "    zoo: Dict[str, ModelConf] = {\n",
    "        \"deberta-v3-base\": ModelConf( # sentencepiece tokenizer\n",
    "            directory=pretrained_dir / \"microsoft\" / \"deberta-v3-base\",\n",
    "            model_max_length=512,\n",
    "            stride=128,\n",
    "            batch_size=2,\n",
    "            gradient_checkpointing=False\n",
    "        ),\n",
    "        \"roberta-base\": ModelConf( # bbpe tokenizer\n",
    "            directory=pretrained_dir / \"roberta-base\",\n",
    "            model_max_length=512,\n",
    "            stride=128,\n",
    "            batch_size=4,\n",
    "            gradient_checkpointing=False\n",
    "        )\n",
    "    }\n",
    "    sample_frac: float = 1.0\n",
    "    gpus: List[int] = [0]\n",
    "    patience: int = 1\n",
    "    n_trials: int = 1\n",
    "    n_folds: int = 3\n",
    "    seed: int = 31\n",
    "        \n",
    "        \n",
    "conf = Conf()\n",
    "mc = conf.zoo[conf.model_name]\n",
    "print(conf)"
   ]
  },
  {
   "cell_type": "code",
   "execution_count": 3,
   "id": "3d94785c",
   "metadata": {},
   "outputs": [
    {
     "name": "stderr",
     "output_type": "stream",
     "text": [
      "Global seed set to 31\n"
     ]
    },
    {
     "data": {
      "text/plain": [
       "31"
      ]
     },
     "execution_count": 3,
     "metadata": {},
     "output_type": "execute_result"
    }
   ],
   "source": [
    "tim = scml.Timer()\n",
    "tim.start()\n",
    "percentiles=[.01, .05, .1, .2, .3, .4, .5, .6, .7, .8, .9, .95, .99]\n",
    "os.environ[\"TOKENIZERS_PARALLELISM\"] = \"false\"\n",
    "pd.set_option(\"use_inf_as_na\", True)\n",
    "pd.set_option(\"max_info_columns\", 9999)\n",
    "pd.set_option(\"display.max_columns\", 9999)\n",
    "pd.set_option(\"display.max_rows\", 9999)\n",
    "pd.set_option('max_colwidth', 9999)\n",
    "tqdm.pandas()\n",
    "scml.seed_everything(conf.seed)\n",
    "pl.seed_everything(conf.seed)"
   ]
  },
  {
   "cell_type": "code",
   "execution_count": 4,
   "id": "627c88c0",
   "metadata": {},
   "outputs": [
    {
     "name": "stdout",
     "output_type": "stream",
     "text": [
      "cpu\n"
     ]
    }
   ],
   "source": [
    "device: torch.device = torch.device(\"cpu\")\n",
    "if torch.cuda.is_available():\n",
    "    device = torch.device(\"cuda\")\n",
    "    for i in range(torch.cuda.device_count()):\n",
    "        print(f\"device={i}, {torch.cuda.get_device_name(i)}\")\n",
    "        print('Mem Allocated:', round(torch.cuda.memory_allocated(i)/1024**3,1), 'GB')\n",
    "        print('Mem Cached:   ', round(torch.cuda.memory_reserved(i)/1024**3,1), 'GB')\n",
    "else:\n",
    "    print(\"cpu\")"
   ]
  },
  {
   "cell_type": "code",
   "execution_count": 5,
   "id": "63e6aca8",
   "metadata": {},
   "outputs": [
    {
     "name": "stdout",
     "output_type": "stream",
     "text": [
      "<class 'pandas.core.frame.DataFrame'>\n",
      "RangeIndex: 12899779 entries, 0 to 12899778\n",
      "Data columns (total 3 columns):\n",
      " #   Column   Dtype \n",
      "---  ------   ----- \n",
      " 0   session  int32 \n",
      " 1   seq      object\n",
      " 2   length   int16 \n",
      "dtypes: int16(1), int32(1), object(1)\n",
      "memory usage: 172.2+ MB\n",
      "Wall time: 12.3 s\n"
     ]
    }
   ],
   "source": [
    "%%time\n",
    "df = pd.read_parquet(\"input/sequences.parquet\")\n",
    "if conf.sample_frac<1:\n",
    "    df = df.sample(frac=conf.sample_frac)\n",
    "df.info()"
   ]
  },
  {
   "cell_type": "code",
   "execution_count": 6,
   "id": "fd347b68",
   "metadata": {},
   "outputs": [
    {
     "name": "stdout",
     "output_type": "stream",
     "text": [
      "PreTrainedTokenizerFast(name_or_path='', vocab_size=1855612, model_max_len=512, is_fast=True, padding_side='right', truncation_side='right', special_tokens={'bos_token': '<s>', 'eos_token': '</s>', 'unk_token': '<unk>', 'sep_token': '<s>', 'pad_token': '<pad>', 'cls_token': '<cls>', 'mask_token': '<mask>', 'additional_special_tokens': ['<click>', '<cart>', '<order>']})\n",
      "model_input_names=['input_ids', 'token_type_ids', 'attention_mask']\n",
      "<unk>=3\n",
      "<pad>=1\n",
      "<s>=0\n"
     ]
    }
   ],
   "source": [
    "#tokenizer = AutoTokenizer.from_pretrained(str(mc.directory), model_max_length=mc.model_max_length)\n",
    "tokenizer = BertTokenizerFast(\n",
    "    vocab_file=\"input/vocab.txt\", \n",
    "    unk_token=\"<unk>\",\n",
    "    sep_token=\"<s>\",\n",
    "    pad_token=\"<pad>\",\n",
    "    cls_token=\"<cls>\",\n",
    "    mask_token=\"<mask>\",\n",
    "    bos_token=\"<s>\",\n",
    "    eos_token=\"</s>\",\n",
    "    additional_special_tokens=[\"click_token\", \"cart_token\", \"order_token\"],\n",
    "    model_max_length=mc.model_max_length,\n",
    "    padding_side=\"right\",\n",
    ")\n",
    "tokenizer.add_special_tokens({\n",
    "    \"additional_special_tokens\": [\"<click>\", \"<cart>\", \"<order>\"],\n",
    "})\n",
    "unk_token = tokenizer.unk_token\n",
    "unk_id = tokenizer.unk_token_id\n",
    "pad_token = tokenizer.pad_token\n",
    "pad_id = tokenizer.pad_token_id\n",
    "sep_token = tokenizer.sep_token\n",
    "sep_id = tokenizer.sep_token_id\n",
    "print(f\"{repr(tokenizer)}\\nmodel_input_names={tokenizer.model_input_names}\")\n",
    "print(f\"{unk_token}={unk_id}\\n{pad_token}={pad_id}\\n{sep_token}={sep_id}\")"
   ]
  },
  {
   "cell_type": "code",
   "execution_count": null,
   "id": "b33a5cb6",
   "metadata": {},
   "outputs": [],
   "source": [
    "%%time\n",
    "x = tokenizer(\n",
    "    df[\"seq\"].tolist(),\n",
    "    truncation=True, \n",
    "    padding=\"max_length\",\n",
    "    stride=mc.stride,\n",
    "    add_special_tokens=True,\n",
    "    return_overflowing_tokens=True,\n",
    "    return_offsets_mapping=False,\n",
    "    return_special_tokens_mask=False,\n",
    ")\n",
    "print(f\"{repr(x.keys())}\")\n",
    "overflow_to_sample_mapping = x[\"overflow_to_sample_mapping\"]\n",
    "print(f\"len(overflow_to_sample_mapping)={len(overflow_to_sample_mapping):,}\")\n",
    "#offset_mapping = x[\"offset_mapping\"]\n",
    "#print(f\"len(offset_mapping)={len(offset_mapping):,}\")\n",
    "print(x[\"input_ids\"][0])"
   ]
  },
  {
   "cell_type": "code",
   "execution_count": null,
   "id": "3512ec6f",
   "metadata": {},
   "outputs": [],
   "source": [
    "assert x[\"input_ids\"][0] == []"
   ]
  },
  {
   "cell_type": "code",
   "execution_count": 9,
   "id": "7e2cdc61",
   "metadata": {},
   "outputs": [
    {
     "name": "stdout",
     "output_type": "stream",
     "text": [
      "Total time taken 0:00:15.738479\n"
     ]
    }
   ],
   "source": [
    "tim.stop()\n",
    "print(f\"Total time taken {str(tim.elapsed)}\")\n",
    "#print(f\"Saved {str(job_dir)}\")"
   ]
  }
 ],
 "metadata": {
  "kernelspec": {
   "display_name": "Python 3 (ipykernel)",
   "language": "python",
   "name": "python3"
  },
  "language_info": {
   "codemirror_mode": {
    "name": "ipython",
    "version": 3
   },
   "file_extension": ".py",
   "mimetype": "text/x-python",
   "name": "python",
   "nbconvert_exporter": "python",
   "pygments_lexer": "ipython3",
   "version": "3.7.5"
  }
 },
 "nbformat": 4,
 "nbformat_minor": 5
}
