{
 "cells": [
  {
   "cell_type": "code",
   "execution_count": 1,
   "id": "d5e87eed",
   "metadata": {},
   "outputs": [],
   "source": [
    "import os\n",
    "import gc\n",
    "import math\n",
    "import json\n",
    "from datetime import datetime\n",
    "import shutil\n",
    "from pathlib import Path\n",
    "import optuna\n",
    "import numpy as np\n",
    "import pandas as pd\n",
    "import pytorch_lightning as pl\n",
    "from tqdm import tqdm\n",
    "import torch\n",
    "from sklearn.model_selection import StratifiedGroupKFold\n",
    "from torch.utils.data import DataLoader\n",
    "from typing import Dict, List, Tuple, NamedTuple\n",
    "from transformers import AutoTokenizer, AutoConfig, BertTokenizerFast\n",
    "from transformers import BertConfig, RobertaConfig, EncoderDecoderConfig, EncoderDecoderModel\n",
    "import scml\n",
    "import mylib"
   ]
  },
  {
   "cell_type": "code",
   "execution_count": 2,
   "id": "9c27c5ca",
   "metadata": {},
   "outputs": [
    {
     "name": "stdout",
     "output_type": "stream",
     "text": [
      "Conf(model_name='roberta-base', epochs=3, lr=(2e-06, 2e-06), multi_sample_dropout_size=(8, 8), multi_sample_dropout_increment=(0, 0), swa_start_epoch=(-1, -1), swa_anneal_epochs=(3, 3), pretrained_dir=WindowsPath('pretrained'), zoo={'deberta-v3-base': ModelConf(directory=WindowsPath('pretrained/microsoft/deberta-v3-base'), model_max_length=512, stride=0, batch_size=2, gradient_checkpointing=False), 'roberta-base': ModelConf(directory=WindowsPath('pretrained/roberta-base'), model_max_length=512, stride=0, batch_size=4, gradient_checkpointing=False)}, sample_frac=1e-05, gpus=[0], patience=1, n_trials=1, n_folds=3, seed=31)\n"
     ]
    }
   ],
   "source": [
    "class ModelConf(NamedTuple):\n",
    "    directory: Path\n",
    "    model_max_length: int\n",
    "    stride: int\n",
    "    batch_size: int\n",
    "    gradient_checkpointing: bool\n",
    "\n",
    "\n",
    "class Conf(NamedTuple):\n",
    "    model_name: str = \"roberta-base\"\n",
    "    epochs: int = 3\n",
    "    lr: Tuple[float, float] = (2e-6, 2e-6)\n",
    "    multi_sample_dropout_size: Tuple[int, int] = (8, 8)\n",
    "    multi_sample_dropout_increment: Tuple[float, float] = (0, 0)\n",
    "    swa_start_epoch: Tuple[int, int] = (-1, -1)\n",
    "    swa_anneal_epochs: Tuple[int, int] = (3, 3)\n",
    "    pretrained_dir: Path = Path(\"pretrained\")\n",
    "    zoo: Dict[str, ModelConf] = {\n",
    "        \"deberta-v3-base\": ModelConf( # sentencepiece tokenizer\n",
    "            directory=pretrained_dir / \"microsoft\" / \"deberta-v3-base\",\n",
    "            model_max_length=512,\n",
    "            stride=0,\n",
    "            batch_size=2,\n",
    "            gradient_checkpointing=False\n",
    "        ),\n",
    "        \"roberta-base\": ModelConf( # bbpe tokenizer\n",
    "            directory=pretrained_dir / \"roberta-base\",\n",
    "            model_max_length=512,\n",
    "            stride=0,\n",
    "            batch_size=4,\n",
    "            gradient_checkpointing=False\n",
    "        )\n",
    "    }\n",
    "    sample_frac: float = 1e-5\n",
    "    gpus: List[int] = [0]\n",
    "    patience: int = 1\n",
    "    n_trials: int = 1\n",
    "    n_folds: int = 3\n",
    "    seed: int = 31\n",
    "        \n",
    "        \n",
    "conf = Conf()\n",
    "mc = conf.zoo[conf.model_name]\n",
    "print(conf)"
   ]
  },
  {
   "cell_type": "code",
   "execution_count": 3,
   "id": "3d94785c",
   "metadata": {},
   "outputs": [
    {
     "name": "stderr",
     "output_type": "stream",
     "text": [
      "Global seed set to 31\n"
     ]
    },
    {
     "data": {
      "text/plain": [
       "31"
      ]
     },
     "execution_count": 3,
     "metadata": {},
     "output_type": "execute_result"
    }
   ],
   "source": [
    "tim = scml.Timer()\n",
    "tim.start()\n",
    "percentiles=[.01, .05, .1, .2, .3, .4, .5, .6, .7, .8, .9, .95, .99]\n",
    "os.environ[\"TOKENIZERS_PARALLELISM\"] = \"false\"\n",
    "pd.set_option(\"use_inf_as_na\", True)\n",
    "pd.set_option(\"max_info_columns\", 9999)\n",
    "pd.set_option(\"display.max_columns\", 9999)\n",
    "pd.set_option(\"display.max_rows\", 9999)\n",
    "pd.set_option('max_colwidth', 9999)\n",
    "tqdm.pandas()\n",
    "scml.seed_everything(conf.seed)\n",
    "pl.seed_everything(conf.seed)"
   ]
  },
  {
   "cell_type": "code",
   "execution_count": 4,
   "id": "627c88c0",
   "metadata": {},
   "outputs": [
    {
     "name": "stdout",
     "output_type": "stream",
     "text": [
      "device=0, NVIDIA GeForce GTX 1060 6GB\n",
      "Mem Allocated: 0.0 GB\n",
      "Mem Cached:    0.0 GB\n"
     ]
    }
   ],
   "source": [
    "device: torch.device = torch.device(\"cpu\")\n",
    "if torch.cuda.is_available():\n",
    "    device = torch.device(\"cuda\")\n",
    "    for i in range(torch.cuda.device_count()):\n",
    "        print(f\"device={i}, {torch.cuda.get_device_name(i)}\")\n",
    "        print('Mem Allocated:', round(torch.cuda.memory_allocated(i)/1024**3,1), 'GB')\n",
    "        print('Mem Cached:   ', round(torch.cuda.memory_reserved(i)/1024**3,1), 'GB')\n",
    "else:\n",
    "    print(\"cpu\")"
   ]
  },
  {
   "cell_type": "code",
   "execution_count": 5,
   "id": "63e6aca8",
   "metadata": {},
   "outputs": [
    {
     "name": "stdout",
     "output_type": "stream",
     "text": [
      "<class 'pandas.core.frame.DataFrame'>\n",
      "Int64Index: 129 entries, 2326609 to 6185607\n",
      "Data columns (total 3 columns):\n",
      " #   Column   Non-Null Count  Dtype \n",
      "---  ------   --------------  ----- \n",
      " 0   session  129 non-null    int32 \n",
      " 1   seq      129 non-null    object\n",
      " 2   length   129 non-null    int16 \n",
      "dtypes: int16(1), int32(1), object(1)\n",
      "memory usage: 2.8+ KB\n",
      "Wall time: 15.3 s\n"
     ]
    }
   ],
   "source": [
    "%%time\n",
    "df = pd.read_parquet(\"input/sequences.parquet\")\n",
    "if conf.sample_frac<1:\n",
    "    df = df.sample(frac=conf.sample_frac)\n",
    "df.info()\n",
    "assert min(df[\"length\"])>=4 and max(df[\"length\"])<=1000"
   ]
  },
  {
   "cell_type": "code",
   "execution_count": 6,
   "id": "fd347b68",
   "metadata": {},
   "outputs": [
    {
     "name": "stdout",
     "output_type": "stream",
     "text": [
      "PreTrainedTokenizerFast(name_or_path='', vocab_size=1855612, model_max_len=512, is_fast=True, padding_side='right', truncation_side='right', special_tokens={'bos_token': '<s>', 'eos_token': '</s>', 'unk_token': '<unk>', 'sep_token': '<s>', 'pad_token': '<pad>', 'cls_token': '<cls>', 'mask_token': '<mask>', 'additional_special_tokens': ['<click>', '<cart>', '<order>']})\n",
      "model_input_names=['input_ids', 'token_type_ids', 'attention_mask']\n",
      "<unk>=3\n",
      "<pad>=1\n",
      "<s>=0\n"
     ]
    }
   ],
   "source": [
    "#tokenizer = AutoTokenizer.from_pretrained(str(mc.directory), model_max_length=mc.model_max_length)\n",
    "tokenizer = BertTokenizerFast(\n",
    "    vocab_file=\"input/vocab.txt\", \n",
    "    unk_token=\"<unk>\",\n",
    "    sep_token=\"<s>\",\n",
    "    pad_token=\"<pad>\",\n",
    "    cls_token=\"<cls>\",\n",
    "    mask_token=\"<mask>\",\n",
    "    bos_token=\"<s>\",\n",
    "    eos_token=\"</s>\",\n",
    "    additional_special_tokens=[\"click_token\", \"cart_token\", \"order_token\"],\n",
    "    model_max_length=512,\n",
    "    padding_side=\"right\",\n",
    ")\n",
    "tokenizer.add_special_tokens({\n",
    "    \"additional_special_tokens\": [\"<click>\", \"<cart>\", \"<order>\"],\n",
    "})\n",
    "unk_token = tokenizer.unk_token\n",
    "unk_id = tokenizer.unk_token_id\n",
    "pad_token = tokenizer.pad_token\n",
    "pad_id = tokenizer.pad_token_id\n",
    "sep_token = tokenizer.sep_token\n",
    "sep_id = tokenizer.sep_token_id\n",
    "print(f\"{repr(tokenizer)}\\nmodel_input_names={tokenizer.model_input_names}\")\n",
    "print(f\"{unk_token}={unk_id}\\n{pad_token}={pad_id}\\n{sep_token}={sep_id}\")"
   ]
  },
  {
   "cell_type": "code",
   "execution_count": 7,
   "id": "47cae8fe",
   "metadata": {},
   "outputs": [
    {
     "name": "stderr",
     "output_type": "stream",
     "text": [
      "100%|██████████████████████████████████████████| 129/129 [00:00<?, ?it/s]\n"
     ]
    }
   ],
   "source": [
    "s1, s2 = [], []\n",
    "for s in tqdm(df[\"seq\"]):\n",
    "    s_list = s.split()\n",
    "    i = len(s_list)//2\n",
    "    if i>2 and i%2==1:\n",
    "        i-=1\n",
    "    if i%2==1:\n",
    "        raise ValueError(\"length of span must be even\")\n",
    "    a = s_list[:i]\n",
    "    b = s_list[i:]\n",
    "    s1.append(\" \".join(a))\n",
    "    s2.append(\" \".join(b))"
   ]
  },
  {
   "cell_type": "code",
   "execution_count": 8,
   "id": "0f79b82c",
   "metadata": {},
   "outputs": [
    {
     "data": {
      "text/plain": [
       "56"
      ]
     },
     "execution_count": 8,
     "metadata": {},
     "output_type": "execute_result"
    }
   ],
   "source": [
    "sids = df[\"session\"].tolist()\n",
    "del df\n",
    "gc.collect()"
   ]
  },
  {
   "cell_type": "code",
   "execution_count": 9,
   "id": "b33a5cb6",
   "metadata": {},
   "outputs": [
    {
     "name": "stdout",
     "output_type": "stream",
     "text": [
      "dict_keys(['input_ids', 'attention_mask'])\n",
      "Wall time: 15 ms\n"
     ]
    }
   ],
   "source": [
    "%%time\n",
    "x = tokenizer(\n",
    "    s1,\n",
    "    truncation=True, \n",
    "    padding=\"max_length\",\n",
    "    stride=0,\n",
    "    add_special_tokens=True,\n",
    "    return_overflowing_tokens=False,\n",
    "    return_offsets_mapping=False,\n",
    "    return_special_tokens_mask=False,\n",
    "    return_token_type_ids=False,\n",
    ")\n",
    "print(f\"{repr(x.keys())}\")\n",
    "#overflow_to_sample_mapping = x[\"overflow_to_sample_mapping\"]\n",
    "#print(f\"len(overflow_to_sample_mapping)={len(overflow_to_sample_mapping):,}\")\n",
    "#offset_mapping = x[\"offset_mapping\"]\n",
    "#print(f\"len(offset_mapping)={len(offset_mapping):,}\")\n",
    "#print(x[\"input_ids\"][0])"
   ]
  },
  {
   "cell_type": "code",
   "execution_count": 10,
   "id": "13024bdc",
   "metadata": {},
   "outputs": [
    {
     "name": "stdout",
     "output_type": "stream",
     "text": [
      "dict_keys(['input_ids', 'attention_mask'])\n",
      "Wall time: 11 ms\n"
     ]
    }
   ],
   "source": [
    "%%time\n",
    "y = tokenizer(\n",
    "    s2,\n",
    "    truncation=True, \n",
    "    padding=False,\n",
    "    stride=0,\n",
    "    add_special_tokens=False,\n",
    "    return_overflowing_tokens=False,\n",
    "    return_offsets_mapping=False,\n",
    "    return_special_tokens_mask=False,\n",
    "    return_token_type_ids=False,\n",
    ")\n",
    "print(f\"{repr(y.keys())}\")\n",
    "#overflow_to_sample_mapping = x[\"overflow_to_sample_mapping\"]\n",
    "#print(f\"len(overflow_to_sample_mapping)={len(overflow_to_sample_mapping):,}\")\n",
    "#offset_mapping = x[\"offset_mapping\"]\n",
    "#print(f\"len(offset_mapping)={len(offset_mapping):,}\")\n",
    "#print(x[\"input_ids\"][0])"
   ]
  },
  {
   "cell_type": "code",
   "execution_count": 11,
   "id": "1660ae32",
   "metadata": {},
   "outputs": [
    {
     "name": "stdout",
     "output_type": "stream",
     "text": [
      "UNK 0.00%\t0 out of 66,048 tokens\n",
      "PAD 96.96%\t64,040 out of 66,048 tokens\n",
      "SEP 0.20%\t129 out of 66,048 tokens\n",
      "input_ids.shape=(129, 512)\n",
      "Wall time: 0 ns\n"
     ]
    }
   ],
   "source": [
    "%%time\n",
    "input_ids = np.array(x[\"input_ids\"], dtype=np.uint32)\n",
    "n_pad = (input_ids == tokenizer.pad_token_id).sum()\n",
    "n_unk = (input_ids == tokenizer.unk_token_id).sum()\n",
    "n_sep = (input_ids == tokenizer.sep_token_id).sum()\n",
    "d = input_ids.shape[0] * input_ids.shape[1]\n",
    "print(f\"UNK {n_unk/d*100:.2f}%\\t{n_unk:,} out of {d:,} tokens\")\n",
    "print(f\"PAD {n_pad/d*100:.2f}%\\t{n_pad:,} out of {d:,} tokens\")\n",
    "print(f\"SEP {n_sep/d*100:.2f}%\\t{n_sep:,} out of {d:,} tokens\")\n",
    "print(f\"input_ids.shape={input_ids.shape}\")"
   ]
  },
  {
   "cell_type": "code",
   "execution_count": 12,
   "id": "1f0dd3e8",
   "metadata": {},
   "outputs": [
    {
     "name": "stdout",
     "output_type": "stream",
     "text": [
      "ds.shape=(129, 512)\n",
      "{'input_ids': tensor([     5,      6,  23702,      7,  12656,      6,  95742,      6, 382832,\n",
      "             7, 382832,      6,  29147,      6, 382832,      6,  12732,      6,\n",
      "        652875,      6,  78014,      6,  13306,      7,  13306,      6,  78014,\n",
      "             6,  12731,      6,  78014,      6,  78008,      6,  12656,      6,\n",
      "        382832,      6,    611,      0,      1,      1,      1,      1,      1,\n",
      "             1,      1,      1,      1,      1,      1,      1,      1,      1,\n",
      "             1,      1,      1,      1,      1,      1,      1,      1,      1,\n",
      "             1,      1,      1,      1,      1,      1,      1,      1,      1,\n",
      "             1,      1,      1,      1,      1,      1,      1,      1,      1,\n",
      "             1,      1,      1,      1,      1,      1,      1,      1,      1,\n",
      "             1,      1,      1,      1,      1,      1,      1,      1,      1,\n",
      "             1,      1,      1,      1,      1,      1,      1,      1,      1,\n",
      "             1,      1,      1,      1,      1,      1,      1,      1,      1,\n",
      "             1,      1,      1,      1,      1,      1,      1,      1,      1,\n",
      "             1,      1,      1,      1,      1,      1,      1,      1,      1,\n",
      "             1,      1,      1,      1,      1,      1,      1,      1,      1,\n",
      "             1,      1,      1,      1,      1,      1,      1,      1,      1,\n",
      "             1,      1,      1,      1,      1,      1,      1,      1,      1,\n",
      "             1,      1,      1,      1,      1,      1,      1,      1,      1,\n",
      "             1,      1,      1,      1,      1,      1,      1,      1,      1,\n",
      "             1,      1,      1,      1,      1,      1,      1,      1,      1,\n",
      "             1,      1,      1,      1,      1,      1,      1,      1,      1,\n",
      "             1,      1,      1,      1,      1,      1,      1,      1,      1,\n",
      "             1,      1,      1,      1,      1,      1,      1,      1,      1,\n",
      "             1,      1,      1,      1,      1,      1,      1,      1,      1,\n",
      "             1,      1,      1,      1,      1,      1,      1,      1,      1,\n",
      "             1,      1,      1,      1,      1,      1,      1,      1,      1,\n",
      "             1,      1,      1,      1,      1,      1,      1,      1,      1,\n",
      "             1,      1,      1,      1,      1,      1,      1,      1,      1,\n",
      "             1,      1,      1,      1,      1,      1,      1,      1,      1,\n",
      "             1,      1,      1,      1,      1,      1,      1,      1,      1,\n",
      "             1,      1,      1,      1,      1,      1,      1,      1,      1,\n",
      "             1,      1,      1,      1,      1,      1,      1,      1,      1,\n",
      "             1,      1,      1,      1,      1,      1,      1,      1,      1,\n",
      "             1,      1,      1,      1,      1,      1,      1,      1,      1,\n",
      "             1,      1,      1,      1,      1,      1,      1,      1,      1,\n",
      "             1,      1,      1,      1,      1,      1,      1,      1,      1,\n",
      "             1,      1,      1,      1,      1,      1,      1,      1,      1,\n",
      "             1,      1,      1,      1,      1,      1,      1,      1,      1,\n",
      "             1,      1,      1,      1,      1,      1,      1,      1,      1,\n",
      "             1,      1,      1,      1,      1,      1,      1,      1,      1,\n",
      "             1,      1,      1,      1,      1,      1,      1,      1,      1,\n",
      "             1,      1,      1,      1,      1,      1,      1,      1,      1,\n",
      "             1,      1,      1,      1,      1,      1,      1,      1,      1,\n",
      "             1,      1,      1,      1,      1,      1,      1,      1,      1,\n",
      "             1,      1,      1,      1,      1,      1,      1,      1,      1,\n",
      "             1,      1,      1,      1,      1,      1,      1,      1,      1,\n",
      "             1,      1,      1,      1,      1,      1,      1,      1,      1,\n",
      "             1,      1,      1,      1,      1,      1,      1,      1,      1,\n",
      "             1,      1,      1,      1,      1,      1,      1,      1,      1,\n",
      "             1,      1,      1,      1,      1,      1,      1,      1,      1,\n",
      "             1,      1,      1,      1,      1,      1,      1,      1,      1,\n",
      "             1,      1,      1,      1,      1,      1,      1,      1,      1,\n",
      "             1,      1,      1,      1,      1,      1,      1,      1,      1,\n",
      "             1,      1,      1,      1,      1,      1,      1,      1,      1,\n",
      "             1,      1,      1,      1,      1,      1,      1,      1,      1,\n",
      "             1,      1,      1,      1,      1,      1,      1,      1]), 'attention_mask': tensor([1, 1, 1, 1, 1, 1, 1, 1, 1, 1, 1, 1, 1, 1, 1, 1, 1, 1, 1, 1, 1, 1, 1, 1,\n",
      "        1, 1, 1, 1, 1, 1, 1, 1, 1, 1, 1, 1, 1, 1, 1, 1, 0, 0, 0, 0, 0, 0, 0, 0,\n",
      "        0, 0, 0, 0, 0, 0, 0, 0, 0, 0, 0, 0, 0, 0, 0, 0, 0, 0, 0, 0, 0, 0, 0, 0,\n",
      "        0, 0, 0, 0, 0, 0, 0, 0, 0, 0, 0, 0, 0, 0, 0, 0, 0, 0, 0, 0, 0, 0, 0, 0,\n",
      "        0, 0, 0, 0, 0, 0, 0, 0, 0, 0, 0, 0, 0, 0, 0, 0, 0, 0, 0, 0, 0, 0, 0, 0,\n",
      "        0, 0, 0, 0, 0, 0, 0, 0, 0, 0, 0, 0, 0, 0, 0, 0, 0, 0, 0, 0, 0, 0, 0, 0,\n",
      "        0, 0, 0, 0, 0, 0, 0, 0, 0, 0, 0, 0, 0, 0, 0, 0, 0, 0, 0, 0, 0, 0, 0, 0,\n",
      "        0, 0, 0, 0, 0, 0, 0, 0, 0, 0, 0, 0, 0, 0, 0, 0, 0, 0, 0, 0, 0, 0, 0, 0,\n",
      "        0, 0, 0, 0, 0, 0, 0, 0, 0, 0, 0, 0, 0, 0, 0, 0, 0, 0, 0, 0, 0, 0, 0, 0,\n",
      "        0, 0, 0, 0, 0, 0, 0, 0, 0, 0, 0, 0, 0, 0, 0, 0, 0, 0, 0, 0, 0, 0, 0, 0,\n",
      "        0, 0, 0, 0, 0, 0, 0, 0, 0, 0, 0, 0, 0, 0, 0, 0, 0, 0, 0, 0, 0, 0, 0, 0,\n",
      "        0, 0, 0, 0, 0, 0, 0, 0, 0, 0, 0, 0, 0, 0, 0, 0, 0, 0, 0, 0, 0, 0, 0, 0,\n",
      "        0, 0, 0, 0, 0, 0, 0, 0, 0, 0, 0, 0, 0, 0, 0, 0, 0, 0, 0, 0, 0, 0, 0, 0,\n",
      "        0, 0, 0, 0, 0, 0, 0, 0, 0, 0, 0, 0, 0, 0, 0, 0, 0, 0, 0, 0, 0, 0, 0, 0,\n",
      "        0, 0, 0, 0, 0, 0, 0, 0, 0, 0, 0, 0, 0, 0, 0, 0, 0, 0, 0, 0, 0, 0, 0, 0,\n",
      "        0, 0, 0, 0, 0, 0, 0, 0, 0, 0, 0, 0, 0, 0, 0, 0, 0, 0, 0, 0, 0, 0, 0, 0,\n",
      "        0, 0, 0, 0, 0, 0, 0, 0, 0, 0, 0, 0, 0, 0, 0, 0, 0, 0, 0, 0, 0, 0, 0, 0,\n",
      "        0, 0, 0, 0, 0, 0, 0, 0, 0, 0, 0, 0, 0, 0, 0, 0, 0, 0, 0, 0, 0, 0, 0, 0,\n",
      "        0, 0, 0, 0, 0, 0, 0, 0, 0, 0, 0, 0, 0, 0, 0, 0, 0, 0, 0, 0, 0, 0, 0, 0,\n",
      "        0, 0, 0, 0, 0, 0, 0, 0, 0, 0, 0, 0, 0, 0, 0, 0, 0, 0, 0, 0, 0, 0, 0, 0,\n",
      "        0, 0, 0, 0, 0, 0, 0, 0, 0, 0, 0, 0, 0, 0, 0, 0, 0, 0, 0, 0, 0, 0, 0, 0,\n",
      "        0, 0, 0, 0, 0, 0, 0, 0]), 'labels': tensor([     6,  12065,      6,  28108,      6,  79910,      6,  12656,      6,\n",
      "          6950,      6, 163586,      6,  47211,      6,  18870,      6,  55840,\n",
      "             7,  55840,      6,  18870,      6,  13919,      6,  19010,      6,\n",
      "        298177,      6, 149149,      6,    811,      6,  94101,      6, 229143,\n",
      "             6,  57743])}\n"
     ]
    }
   ],
   "source": [
    "ds = mylib.OttoDataset(\n",
    "    x, \n",
    "    labels=y[\"input_ids\"],\n",
    "    session_ids=sids,\n",
    ")\n",
    "shape = (len(ds), ds.seqlen())\n",
    "print(f\"ds.shape={shape}\\n{ds[0]}\")"
   ]
  },
  {
   "cell_type": "code",
   "execution_count": null,
   "id": "51c8a0d8",
   "metadata": {},
   "outputs": [],
   "source": [
    "job_ts = datetime.now().strftime('%Y%m%d_%H%M%S')\n",
    "job_dir = Path(\"models\") / conf.model_name / job_ts\n",
    "job_dir.mkdir(parents=True, exist_ok=True)\n",
    "print(f\"job_dir={job_dir}\")"
   ]
  },
  {
   "cell_type": "markdown",
   "id": "90501063",
   "metadata": {},
   "source": [
    "# Train final model on best Hps"
   ]
  },
  {
   "cell_type": "code",
   "execution_count": null,
   "id": "cb47acfd",
   "metadata": {},
   "outputs": [],
   "source": [
    "%%time\n",
    "splitter = StratifiedGroupKFold(n_splits=50)\n",
    "dummy = np.zeros(len(ds))\n",
    "for ti, vi in splitter.split(dummy, y=ds.stratification(), groups=ds.session_ids):\n",
    "    tra_ds = torch.utils.data.Subset(ds, ti)\n",
    "    val_ds = torch.utils.data.Subset(ds, vi)\n",
    "    break\n",
    "print(f\"len(tra_ds)={len(tra_ds)}, len(val_ds)={len(val_ds)}\")"
   ]
  },
  {
   "cell_type": "code",
   "execution_count": null,
   "id": "19f45143",
   "metadata": {},
   "outputs": [],
   "source": []
  },
  {
   "cell_type": "code",
   "execution_count": 13,
   "id": "7e2cdc61",
   "metadata": {},
   "outputs": [
    {
     "name": "stdout",
     "output_type": "stream",
     "text": [
      "Total time taken 0:00:19.007476\n"
     ]
    }
   ],
   "source": [
    "tim.stop()\n",
    "print(f\"Total time taken {str(tim.elapsed)}\")\n",
    "#print(f\"Saved {str(job_dir)}\")"
   ]
  }
 ],
 "metadata": {
  "kernelspec": {
   "display_name": "Python 3 (ipykernel)",
   "language": "python",
   "name": "python3"
  },
  "language_info": {
   "codemirror_mode": {
    "name": "ipython",
    "version": 3
   },
   "file_extension": ".py",
   "mimetype": "text/x-python",
   "name": "python",
   "nbconvert_exporter": "python",
   "pygments_lexer": "ipython3",
   "version": "3.7.5"
  }
 },
 "nbformat": 4,
 "nbformat_minor": 5
}
