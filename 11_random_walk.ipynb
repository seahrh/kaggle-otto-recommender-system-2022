{
 "cells": [
  {
   "cell_type": "code",
   "execution_count": 1,
   "id": "0f9d2ea0",
   "metadata": {},
   "outputs": [],
   "source": [
    "import json\n",
    "import gc\n",
    "import random\n",
    "import networkx as nx\n",
    "from networkx.readwrite import json_graph\n",
    "import numpy as np\n",
    "import pandas as pd\n",
    "from tqdm import tqdm\n",
    "from typing import Dict, List\n",
    "import scml\n",
    "import mylib"
   ]
  },
  {
   "cell_type": "code",
   "execution_count": 2,
   "id": "f0f0f1e2",
   "metadata": {},
   "outputs": [],
   "source": [
    "# number of context words in the left and right directions\n",
    "m = 2\n",
    "iters = 1\n",
    "type2id = {\n",
    "    \"click\": 0,\n",
    "    \"cart\": 1,\n",
    "    \"order\": 2,\n",
    "}"
   ]
  },
  {
   "cell_type": "code",
   "execution_count": 3,
   "id": "beb4d9d4",
   "metadata": {},
   "outputs": [],
   "source": [
    "tim = scml.Timer()\n",
    "tim.start()\n",
    "percentiles=[.01, .05, .1, .2, .3, .4, .5, .6, .7, .8, .9, .95, .99]\n",
    "pd.set_option(\"use_inf_as_na\", True)\n",
    "pd.set_option(\"max_info_columns\", 9999)\n",
    "pd.set_option(\"display.max_columns\", 9999)\n",
    "pd.set_option(\"display.max_rows\", 9999)\n",
    "pd.set_option('max_colwidth', 9999)\n",
    "tqdm.pandas()\n",
    "scml.seed_everything(31)"
   ]
  },
  {
   "cell_type": "code",
   "execution_count": 4,
   "id": "bf66627d",
   "metadata": {},
   "outputs": [
    {
     "name": "stdout",
     "output_type": "stream",
     "text": [
      "len(label2id)=1,855,603\n",
      "Wall time: 2.21 s\n"
     ]
    }
   ],
   "source": [
    "%%time\n",
    "with open(\"input/vocab2.json\") as f:\n",
    "    id2label = [w for w, c in json.load(f)]\n",
    "label2id = {k:v for v, k in enumerate(id2label)}\n",
    "print(f\"len(label2id)={len(label2id):,}\")"
   ]
  },
  {
   "cell_type": "code",
   "execution_count": 5,
   "id": "259a4b25",
   "metadata": {},
   "outputs": [
    {
     "data": {
      "text/plain": [
       "21"
      ]
     },
     "execution_count": 5,
     "metadata": {},
     "output_type": "execute_result"
    }
   ],
   "source": [
    "del id2label\n",
    "gc.collect()"
   ]
  },
  {
   "cell_type": "code",
   "execution_count": 6,
   "id": "3a0e6121",
   "metadata": {},
   "outputs": [
    {
     "name": "stdout",
     "output_type": "stream",
     "text": [
      "DiGraph with 3747723 nodes and 99004731 edges\n",
      "Wall time: 8min 20s\n"
     ]
    }
   ],
   "source": [
    "%%time\n",
    "with open(\"input/graph.json\") as f:\n",
    "    g = nx.adjacency_graph(json.load(f))\n",
    "print(g)"
   ]
  },
  {
   "cell_type": "code",
   "execution_count": 7,
   "id": "926c96bf",
   "metadata": {},
   "outputs": [
    {
     "name": "stderr",
     "output_type": "stream",
     "text": [
      "i=0: 100%|██████████████████| 3747723/3747723 [2:25:51<00:00, 428.25it/s]\n"
     ]
    }
   ],
   "source": [
    "rows = []\n",
    "for i in range(iters):\n",
    "    for center in tqdm(g.nodes, desc=f\"i={i}\"):\n",
    "        # going left: predecessor\n",
    "        center_word, center_type = tuple(center.split(\"_\"))\n",
    "        curr = center\n",
    "        for _ in range(m):\n",
    "            choices = []\n",
    "            for u, v, d in g.in_edges(curr, data=True):\n",
    "                #print(f\"u={u}, v={v}, d={d}\")\n",
    "                choices.append((u, d[\"weight\"]))\n",
    "            if len(choices)==0:\n",
    "                break\n",
    "            curr = mylib.weighted_choice(choices)\n",
    "            curr_word, curr_type = tuple(curr.split(\"_\"))\n",
    "            rows.append({\n",
    "                \"center_word\": label2id[center_word],\n",
    "                \"center_type\": type2id[center_type],\n",
    "                \"outside_word\": label2id[curr_word],\n",
    "                \"outside_type\": type2id[curr_type],\n",
    "            })\n",
    "        # going right: successor\n",
    "        curr = center\n",
    "        for _ in range(m):\n",
    "            choices = []\n",
    "            for u, v, d in g.out_edges(curr, data=True):\n",
    "                choices.append((v, d[\"weight\"]))\n",
    "            if len(choices)==0:\n",
    "                break\n",
    "            curr = mylib.weighted_choice(choices)\n",
    "            curr_word, curr_type = tuple(curr.split(\"_\"))\n",
    "            rows.append({\n",
    "                \"center_word\": label2id[center_word],\n",
    "                \"center_type\": type2id[center_type],\n",
    "                \"outside_word\": label2id[curr_word],\n",
    "                \"outside_type\": type2id[curr_type],\n",
    "            })"
   ]
  },
  {
   "cell_type": "code",
   "execution_count": 8,
   "id": "3c0cf328",
   "metadata": {},
   "outputs": [
    {
     "name": "stdout",
     "output_type": "stream",
     "text": [
      "<class 'pandas.core.frame.DataFrame'>\n",
      "RangeIndex: 14463069 entries, 0 to 14463068\n",
      "Data columns (total 4 columns):\n",
      " #   Column        Dtype\n",
      "---  ------        -----\n",
      " 0   center_word   int32\n",
      " 1   center_type   int8 \n",
      " 2   outside_word  int32\n",
      " 3   outside_type  int8 \n",
      "dtypes: int32(2), int8(2)\n",
      "memory usage: 137.9 MB\n"
     ]
    }
   ],
   "source": [
    "df = pd.DataFrame.from_records(rows)\n",
    "df.drop_duplicates(keep=\"first\", inplace=True, ignore_index=True)\n",
    "cols = [\"center_word\", \"outside_word\"]\n",
    "df[cols] = df[cols].astype(np.int32)\n",
    "cols = [\"center_type\", \"outside_type\"]\n",
    "df[cols] = df[cols].astype(np.int8)\n",
    "df.info()"
   ]
  },
  {
   "cell_type": "code",
   "execution_count": 9,
   "id": "84810576",
   "metadata": {},
   "outputs": [
    {
     "data": {
      "text/html": [
       "<div>\n",
       "<style scoped>\n",
       "    .dataframe tbody tr th:only-of-type {\n",
       "        vertical-align: middle;\n",
       "    }\n",
       "\n",
       "    .dataframe tbody tr th {\n",
       "        vertical-align: top;\n",
       "    }\n",
       "\n",
       "    .dataframe thead th {\n",
       "        text-align: right;\n",
       "    }\n",
       "</style>\n",
       "<table border=\"1\" class=\"dataframe\">\n",
       "  <thead>\n",
       "    <tr style=\"text-align: right;\">\n",
       "      <th></th>\n",
       "      <th>center_word</th>\n",
       "      <th>center_type</th>\n",
       "      <th>outside_word</th>\n",
       "      <th>outside_type</th>\n",
       "    </tr>\n",
       "  </thead>\n",
       "  <tbody>\n",
       "    <tr>\n",
       "      <th>count</th>\n",
       "      <td>1.446307e+07</td>\n",
       "      <td>1.446307e+07</td>\n",
       "      <td>1.446307e+07</td>\n",
       "      <td>1.446307e+07</td>\n",
       "    </tr>\n",
       "    <tr>\n",
       "      <th>mean</th>\n",
       "      <td>7.882327e+05</td>\n",
       "      <td>6.641981e-01</td>\n",
       "      <td>4.145593e+05</td>\n",
       "      <td>2.612125e-01</td>\n",
       "    </tr>\n",
       "    <tr>\n",
       "      <th>std</th>\n",
       "      <td>5.170247e+05</td>\n",
       "      <td>7.512680e-01</td>\n",
       "      <td>4.613624e+05</td>\n",
       "      <td>6.006757e-01</td>\n",
       "    </tr>\n",
       "    <tr>\n",
       "      <th>min</th>\n",
       "      <td>0.000000e+00</td>\n",
       "      <td>0.000000e+00</td>\n",
       "      <td>0.000000e+00</td>\n",
       "      <td>0.000000e+00</td>\n",
       "    </tr>\n",
       "    <tr>\n",
       "      <th>1%</th>\n",
       "      <td>1.282300e+04</td>\n",
       "      <td>0.000000e+00</td>\n",
       "      <td>1.630000e+02</td>\n",
       "      <td>0.000000e+00</td>\n",
       "    </tr>\n",
       "    <tr>\n",
       "      <th>5%</th>\n",
       "      <td>6.438600e+04</td>\n",
       "      <td>0.000000e+00</td>\n",
       "      <td>2.249000e+03</td>\n",
       "      <td>0.000000e+00</td>\n",
       "    </tr>\n",
       "    <tr>\n",
       "      <th>10%</th>\n",
       "      <td>1.299880e+05</td>\n",
       "      <td>0.000000e+00</td>\n",
       "      <td>8.006000e+03</td>\n",
       "      <td>0.000000e+00</td>\n",
       "    </tr>\n",
       "    <tr>\n",
       "      <th>20%</th>\n",
       "      <td>2.658210e+05</td>\n",
       "      <td>0.000000e+00</td>\n",
       "      <td>3.016800e+04</td>\n",
       "      <td>0.000000e+00</td>\n",
       "    </tr>\n",
       "    <tr>\n",
       "      <th>30%</th>\n",
       "      <td>4.097160e+05</td>\n",
       "      <td>0.000000e+00</td>\n",
       "      <td>6.970300e+04</td>\n",
       "      <td>0.000000e+00</td>\n",
       "    </tr>\n",
       "    <tr>\n",
       "      <th>40%</th>\n",
       "      <td>5.635480e+05</td>\n",
       "      <td>0.000000e+00</td>\n",
       "      <td>1.314140e+05</td>\n",
       "      <td>0.000000e+00</td>\n",
       "    </tr>\n",
       "    <tr>\n",
       "      <th>50%</th>\n",
       "      <td>7.289380e+05</td>\n",
       "      <td>0.000000e+00</td>\n",
       "      <td>2.232920e+05</td>\n",
       "      <td>0.000000e+00</td>\n",
       "    </tr>\n",
       "    <tr>\n",
       "      <th>60%</th>\n",
       "      <td>9.077878e+05</td>\n",
       "      <td>1.000000e+00</td>\n",
       "      <td>3.552470e+05</td>\n",
       "      <td>0.000000e+00</td>\n",
       "    </tr>\n",
       "    <tr>\n",
       "      <th>70%</th>\n",
       "      <td>1.102784e+06</td>\n",
       "      <td>1.000000e+00</td>\n",
       "      <td>5.393380e+05</td>\n",
       "      <td>0.000000e+00</td>\n",
       "    </tr>\n",
       "    <tr>\n",
       "      <th>80%</th>\n",
       "      <td>1.315465e+06</td>\n",
       "      <td>1.000000e+00</td>\n",
       "      <td>7.951050e+05</td>\n",
       "      <td>0.000000e+00</td>\n",
       "    </tr>\n",
       "    <tr>\n",
       "      <th>90%</th>\n",
       "      <td>1.550927e+06</td>\n",
       "      <td>2.000000e+00</td>\n",
       "      <td>1.164960e+06</td>\n",
       "      <td>1.000000e+00</td>\n",
       "    </tr>\n",
       "    <tr>\n",
       "      <th>95%</th>\n",
       "      <td>1.687000e+06</td>\n",
       "      <td>2.000000e+00</td>\n",
       "      <td>1.426999e+06</td>\n",
       "      <td>2.000000e+00</td>\n",
       "    </tr>\n",
       "    <tr>\n",
       "      <th>99%</th>\n",
       "      <td>1.818313e+06</td>\n",
       "      <td>2.000000e+00</td>\n",
       "      <td>1.725197e+06</td>\n",
       "      <td>2.000000e+00</td>\n",
       "    </tr>\n",
       "    <tr>\n",
       "      <th>max</th>\n",
       "      <td>1.855601e+06</td>\n",
       "      <td>2.000000e+00</td>\n",
       "      <td>1.855599e+06</td>\n",
       "      <td>2.000000e+00</td>\n",
       "    </tr>\n",
       "  </tbody>\n",
       "</table>\n",
       "</div>"
      ],
      "text/plain": [
       "        center_word   center_type  outside_word  outside_type\n",
       "count  1.446307e+07  1.446307e+07  1.446307e+07  1.446307e+07\n",
       "mean   7.882327e+05  6.641981e-01  4.145593e+05  2.612125e-01\n",
       "std    5.170247e+05  7.512680e-01  4.613624e+05  6.006757e-01\n",
       "min    0.000000e+00  0.000000e+00  0.000000e+00  0.000000e+00\n",
       "1%     1.282300e+04  0.000000e+00  1.630000e+02  0.000000e+00\n",
       "5%     6.438600e+04  0.000000e+00  2.249000e+03  0.000000e+00\n",
       "10%    1.299880e+05  0.000000e+00  8.006000e+03  0.000000e+00\n",
       "20%    2.658210e+05  0.000000e+00  3.016800e+04  0.000000e+00\n",
       "30%    4.097160e+05  0.000000e+00  6.970300e+04  0.000000e+00\n",
       "40%    5.635480e+05  0.000000e+00  1.314140e+05  0.000000e+00\n",
       "50%    7.289380e+05  0.000000e+00  2.232920e+05  0.000000e+00\n",
       "60%    9.077878e+05  1.000000e+00  3.552470e+05  0.000000e+00\n",
       "70%    1.102784e+06  1.000000e+00  5.393380e+05  0.000000e+00\n",
       "80%    1.315465e+06  1.000000e+00  7.951050e+05  0.000000e+00\n",
       "90%    1.550927e+06  2.000000e+00  1.164960e+06  1.000000e+00\n",
       "95%    1.687000e+06  2.000000e+00  1.426999e+06  2.000000e+00\n",
       "99%    1.818313e+06  2.000000e+00  1.725197e+06  2.000000e+00\n",
       "max    1.855601e+06  2.000000e+00  1.855599e+06  2.000000e+00"
      ]
     },
     "execution_count": 9,
     "metadata": {},
     "output_type": "execute_result"
    }
   ],
   "source": [
    "df.describe(percentiles=percentiles)"
   ]
  },
  {
   "cell_type": "code",
   "execution_count": 10,
   "id": "d5aca53f",
   "metadata": {},
   "outputs": [
    {
     "name": "stdout",
     "output_type": "stream",
     "text": [
      "Wall time: 1.05 s\n"
     ]
    }
   ],
   "source": [
    "%%time\n",
    "assert df.notna().all(axis=None)\n",
    "df.to_parquet(\"output/pairs.parquet\", index=False)"
   ]
  },
  {
   "cell_type": "code",
   "execution_count": 11,
   "id": "36de029d",
   "metadata": {},
   "outputs": [
    {
     "name": "stdout",
     "output_type": "stream",
     "text": [
      "Total time taken 2:34:40.016259\n"
     ]
    }
   ],
   "source": [
    "tim.stop()\n",
    "print(f\"Total time taken {str(tim.elapsed)}\")"
   ]
  }
 ],
 "metadata": {
  "kernelspec": {
   "display_name": "Python 3 (ipykernel)",
   "language": "python",
   "name": "python3"
  },
  "language_info": {
   "codemirror_mode": {
    "name": "ipython",
    "version": 3
   },
   "file_extension": ".py",
   "mimetype": "text/x-python",
   "name": "python",
   "nbconvert_exporter": "python",
   "pygments_lexer": "ipython3",
   "version": "3.7.5"
  }
 },
 "nbformat": 4,
 "nbformat_minor": 5
}
