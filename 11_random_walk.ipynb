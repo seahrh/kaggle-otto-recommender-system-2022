{
 "cells": [
  {
   "cell_type": "code",
   "execution_count": 1,
   "id": "0f9d2ea0",
   "metadata": {},
   "outputs": [],
   "source": [
    "import json\n",
    "import gc\n",
    "import random\n",
    "import networkx as nx\n",
    "from networkx.readwrite import json_graph\n",
    "import numpy as np\n",
    "import pandas as pd\n",
    "from tqdm import tqdm\n",
    "from typing import Dict, List\n",
    "import scml\n",
    "import mylib"
   ]
  },
  {
   "cell_type": "code",
   "execution_count": 2,
   "id": "f0f0f1e2",
   "metadata": {},
   "outputs": [],
   "source": [
    "# window length to the left or right context\n",
    "m = 2\n",
    "iters = 1"
   ]
  },
  {
   "cell_type": "code",
   "execution_count": 3,
   "id": "beb4d9d4",
   "metadata": {},
   "outputs": [],
   "source": [
    "tim = scml.Timer()\n",
    "tim.start()\n",
    "percentiles=[.01, .05, .1, .2, .3, .4, .5, .6, .7, .8, .9, .95, .99]\n",
    "pd.set_option(\"use_inf_as_na\", True)\n",
    "pd.set_option(\"max_info_columns\", 9999)\n",
    "pd.set_option(\"display.max_columns\", 9999)\n",
    "pd.set_option(\"display.max_rows\", 9999)\n",
    "pd.set_option('max_colwidth', 9999)\n",
    "tqdm.pandas()\n",
    "scml.seed_everything(31)"
   ]
  },
  {
   "cell_type": "code",
   "execution_count": 4,
   "id": "bf66627d",
   "metadata": {},
   "outputs": [
    {
     "name": "stdout",
     "output_type": "stream",
     "text": [
      "len(label2id)=3,748,278\n",
      "Wall time: 4.39 s\n"
     ]
    }
   ],
   "source": [
    "%%time\n",
    "with open(\"input/vocab2.json\") as f:\n",
    "    id2label = [w for w, c in json.load(f)]\n",
    "label2id = {k:v for v, k in enumerate(id2label)}\n",
    "print(f\"len(label2id)={len(label2id):,}\")"
   ]
  },
  {
   "cell_type": "code",
   "execution_count": 5,
   "id": "259a4b25",
   "metadata": {},
   "outputs": [
    {
     "data": {
      "text/plain": [
       "21"
      ]
     },
     "execution_count": 5,
     "metadata": {},
     "output_type": "execute_result"
    }
   ],
   "source": [
    "del id2label\n",
    "gc.collect()"
   ]
  },
  {
   "cell_type": "code",
   "execution_count": 6,
   "id": "3a0e6121",
   "metadata": {},
   "outputs": [
    {
     "name": "stdout",
     "output_type": "stream",
     "text": [
      "DiGraph with 3747723 nodes and 99004731 edges\n",
      "Wall time: 8min 50s\n"
     ]
    }
   ],
   "source": [
    "%%time\n",
    "with open(\"input/graph.json\") as f:\n",
    "    g = nx.adjacency_graph(json.load(f))\n",
    "print(g)"
   ]
  },
  {
   "cell_type": "code",
   "execution_count": 9,
   "id": "926c96bf",
   "metadata": {},
   "outputs": [
    {
     "name": "stderr",
     "output_type": "stream",
     "text": [
      "i=0: 100%|██████████████████| 3747723/3747723 [2:36:04<00:00, 400.19it/s]\n"
     ]
    }
   ],
   "source": [
    "rows = []\n",
    "for i in range(iters):\n",
    "    for center in tqdm(g.nodes, desc=f\"i={i}\"):\n",
    "        curr = center\n",
    "        for _ in range(m):\n",
    "            choices = []\n",
    "            for u, v, d in g.in_edges(curr, data=True):\n",
    "                #print(f\"u={u}, v={v}, d={d}\")\n",
    "                choices.append((u, d[\"weight\"]))\n",
    "            if len(choices)==0:\n",
    "                break\n",
    "            curr = mylib.weighted_choice(choices)\n",
    "            rows.append({\n",
    "                \"center\": label2id[center],\n",
    "                \"outside\": label2id[curr]\n",
    "            })\n",
    "        curr = center\n",
    "        for _ in range(m):\n",
    "            choices = []\n",
    "            for u, v, d in g.out_edges(curr, data=True):\n",
    "                choices.append((v, d[\"weight\"]))\n",
    "            if len(choices)==0:\n",
    "                break\n",
    "            curr = mylib.weighted_choice(choices)\n",
    "            rows.append({\n",
    "                \"center\": label2id[center],\n",
    "                \"outside\": label2id[curr]\n",
    "            })"
   ]
  },
  {
   "cell_type": "code",
   "execution_count": 14,
   "id": "3c0cf328",
   "metadata": {},
   "outputs": [
    {
     "name": "stdout",
     "output_type": "stream",
     "text": [
      "<class 'pandas.core.frame.DataFrame'>\n",
      "RangeIndex: 14461968 entries, 0 to 14461967\n",
      "Data columns (total 2 columns):\n",
      " #   Column   Dtype\n",
      "---  ------   -----\n",
      " 0   center   int32\n",
      " 1   outside  int32\n",
      "dtypes: int32(2)\n",
      "memory usage: 110.3 MB\n"
     ]
    }
   ],
   "source": [
    "df = pd.DataFrame.from_records(rows)\n",
    "df.drop_duplicates(keep=\"first\", inplace=True, ignore_index=True)\n",
    "cols = [\"center\", \"outside\"]\n",
    "df[cols] = df[cols].astype(np.int32)\n",
    "df.info()"
   ]
  },
  {
   "cell_type": "code",
   "execution_count": 15,
   "id": "84810576",
   "metadata": {},
   "outputs": [
    {
     "data": {
      "text/html": [
       "<div>\n",
       "<style scoped>\n",
       "    .dataframe tbody tr th:only-of-type {\n",
       "        vertical-align: middle;\n",
       "    }\n",
       "\n",
       "    .dataframe tbody tr th {\n",
       "        vertical-align: top;\n",
       "    }\n",
       "\n",
       "    .dataframe thead th {\n",
       "        text-align: right;\n",
       "    }\n",
       "</style>\n",
       "<table border=\"1\" class=\"dataframe\">\n",
       "  <thead>\n",
       "    <tr style=\"text-align: right;\">\n",
       "      <th></th>\n",
       "      <th>center</th>\n",
       "      <th>outside</th>\n",
       "    </tr>\n",
       "  </thead>\n",
       "  <tbody>\n",
       "    <tr>\n",
       "      <th>count</th>\n",
       "      <td>1.446197e+07</td>\n",
       "      <td>1.446197e+07</td>\n",
       "    </tr>\n",
       "    <tr>\n",
       "      <th>mean</th>\n",
       "      <td>1.846924e+06</td>\n",
       "      <td>7.173861e+05</td>\n",
       "    </tr>\n",
       "    <tr>\n",
       "      <th>std</th>\n",
       "      <td>1.075523e+06</td>\n",
       "      <td>8.564725e+05</td>\n",
       "    </tr>\n",
       "    <tr>\n",
       "      <th>min</th>\n",
       "      <td>0.000000e+00</td>\n",
       "      <td>0.000000e+00</td>\n",
       "    </tr>\n",
       "    <tr>\n",
       "      <th>1%</th>\n",
       "      <td>3.646300e+04</td>\n",
       "      <td>2.050000e+02</td>\n",
       "    </tr>\n",
       "    <tr>\n",
       "      <th>5%</th>\n",
       "      <td>1.825360e+05</td>\n",
       "      <td>3.050000e+03</td>\n",
       "    </tr>\n",
       "    <tr>\n",
       "      <th>10%</th>\n",
       "      <td>3.654940e+05</td>\n",
       "      <td>1.112300e+04</td>\n",
       "    </tr>\n",
       "    <tr>\n",
       "      <th>20%</th>\n",
       "      <td>7.320464e+05</td>\n",
       "      <td>4.343400e+04</td>\n",
       "    </tr>\n",
       "    <tr>\n",
       "      <th>30%</th>\n",
       "      <td>1.099470e+06</td>\n",
       "      <td>1.033570e+05</td>\n",
       "    </tr>\n",
       "    <tr>\n",
       "      <th>40%</th>\n",
       "      <td>1.467838e+06</td>\n",
       "      <td>2.014650e+05</td>\n",
       "    </tr>\n",
       "    <tr>\n",
       "      <th>50%</th>\n",
       "      <td>1.837427e+06</td>\n",
       "      <td>3.518920e+05</td>\n",
       "    </tr>\n",
       "    <tr>\n",
       "      <th>60%</th>\n",
       "      <td>2.208247e+06</td>\n",
       "      <td>5.715680e+05</td>\n",
       "    </tr>\n",
       "    <tr>\n",
       "      <th>70%</th>\n",
       "      <td>2.582174e+06</td>\n",
       "      <td>8.843950e+05</td>\n",
       "    </tr>\n",
       "    <tr>\n",
       "      <th>80%</th>\n",
       "      <td>2.960634e+06</td>\n",
       "      <td>1.339216e+06</td>\n",
       "    </tr>\n",
       "    <tr>\n",
       "      <th>90%</th>\n",
       "      <td>3.346368e+06</td>\n",
       "      <td>2.056096e+06</td>\n",
       "    </tr>\n",
       "    <tr>\n",
       "      <th>95%</th>\n",
       "      <td>3.543265e+06</td>\n",
       "      <td>2.621224e+06</td>\n",
       "    </tr>\n",
       "    <tr>\n",
       "      <th>99%</th>\n",
       "      <td>3.706011e+06</td>\n",
       "      <td>3.464311e+06</td>\n",
       "    </tr>\n",
       "    <tr>\n",
       "      <th>max</th>\n",
       "      <td>3.748277e+06</td>\n",
       "      <td>3.748275e+06</td>\n",
       "    </tr>\n",
       "  </tbody>\n",
       "</table>\n",
       "</div>"
      ],
      "text/plain": [
       "             center       outside\n",
       "count  1.446197e+07  1.446197e+07\n",
       "mean   1.846924e+06  7.173861e+05\n",
       "std    1.075523e+06  8.564725e+05\n",
       "min    0.000000e+00  0.000000e+00\n",
       "1%     3.646300e+04  2.050000e+02\n",
       "5%     1.825360e+05  3.050000e+03\n",
       "10%    3.654940e+05  1.112300e+04\n",
       "20%    7.320464e+05  4.343400e+04\n",
       "30%    1.099470e+06  1.033570e+05\n",
       "40%    1.467838e+06  2.014650e+05\n",
       "50%    1.837427e+06  3.518920e+05\n",
       "60%    2.208247e+06  5.715680e+05\n",
       "70%    2.582174e+06  8.843950e+05\n",
       "80%    2.960634e+06  1.339216e+06\n",
       "90%    3.346368e+06  2.056096e+06\n",
       "95%    3.543265e+06  2.621224e+06\n",
       "99%    3.706011e+06  3.464311e+06\n",
       "max    3.748277e+06  3.748275e+06"
      ]
     },
     "execution_count": 15,
     "metadata": {},
     "output_type": "execute_result"
    }
   ],
   "source": [
    "df.describe(percentiles=percentiles)"
   ]
  },
  {
   "cell_type": "code",
   "execution_count": 16,
   "id": "d5aca53f",
   "metadata": {},
   "outputs": [
    {
     "name": "stdout",
     "output_type": "stream",
     "text": [
      "Wall time: 421 ms\n"
     ]
    }
   ],
   "source": [
    "%%time\n",
    "assert df.notna().all(axis=None)\n",
    "df.to_parquet(\"output/pairs.parquet\", index=False)"
   ]
  },
  {
   "cell_type": "code",
   "execution_count": 17,
   "id": "36de029d",
   "metadata": {},
   "outputs": [
    {
     "ename": "RuntimeError",
     "evalue": "Not started",
     "output_type": "error",
     "traceback": [
      "\u001b[1;31m--------------------------------------------------------------------------\u001b[0m",
      "\u001b[1;31mRuntimeError\u001b[0m                             Traceback (most recent call last)",
      "\u001b[1;32m~\\AppData\\Local\\Temp\\ipykernel_9784\\4293858856.py\u001b[0m in \u001b[0;36m<module>\u001b[1;34m\u001b[0m\n\u001b[1;32m----> 1\u001b[1;33m \u001b[0mtim\u001b[0m\u001b[1;33m.\u001b[0m\u001b[0mstop\u001b[0m\u001b[1;33m(\u001b[0m\u001b[1;33m)\u001b[0m\u001b[1;33m\u001b[0m\u001b[1;33m\u001b[0m\u001b[0m\n\u001b[0m\u001b[0;32m      2\u001b[0m \u001b[0mprint\u001b[0m\u001b[1;33m(\u001b[0m\u001b[1;34mf\"Total time taken {str(tim.elapsed)}\"\u001b[0m\u001b[1;33m)\u001b[0m\u001b[1;33m\u001b[0m\u001b[1;33m\u001b[0m\u001b[0m\n",
      "\u001b[1;32ms:\\dev\\seahrh\\kaggle-otto-recommender-system-2022\\env\\lib\\site-packages\\scml\\timex.py\u001b[0m in \u001b[0;36mstop\u001b[1;34m(self)\u001b[0m\n\u001b[0;32m     20\u001b[0m     \u001b[1;32mdef\u001b[0m \u001b[0mstop\u001b[0m\u001b[1;33m(\u001b[0m\u001b[0mself\u001b[0m\u001b[1;33m)\u001b[0m\u001b[1;33m:\u001b[0m\u001b[1;33m\u001b[0m\u001b[1;33m\u001b[0m\u001b[0m\n\u001b[0;32m     21\u001b[0m         \u001b[1;32mif\u001b[0m \u001b[0mself\u001b[0m\u001b[1;33m.\u001b[0m\u001b[0m_start\u001b[0m \u001b[1;32mis\u001b[0m \u001b[1;32mNone\u001b[0m\u001b[1;33m:\u001b[0m\u001b[1;33m\u001b[0m\u001b[1;33m\u001b[0m\u001b[0m\n\u001b[1;32m---> 22\u001b[1;33m             \u001b[1;32mraise\u001b[0m \u001b[0mRuntimeError\u001b[0m\u001b[1;33m(\u001b[0m\u001b[1;34m\"Not started\"\u001b[0m\u001b[1;33m)\u001b[0m\u001b[1;33m\u001b[0m\u001b[1;33m\u001b[0m\u001b[0m\n\u001b[0m\u001b[0;32m     23\u001b[0m         \u001b[0mns\u001b[0m \u001b[1;33m=\u001b[0m \u001b[0mself\u001b[0m\u001b[1;33m.\u001b[0m\u001b[0m_func\u001b[0m\u001b[1;33m(\u001b[0m\u001b[1;33m)\u001b[0m \u001b[1;33m-\u001b[0m \u001b[0mself\u001b[0m\u001b[1;33m.\u001b[0m\u001b[0m_start\u001b[0m\u001b[1;33m\u001b[0m\u001b[1;33m\u001b[0m\u001b[0m\n\u001b[0;32m     24\u001b[0m         \u001b[0mself\u001b[0m\u001b[1;33m.\u001b[0m\u001b[0melapsed\u001b[0m \u001b[1;33m=\u001b[0m \u001b[0mtimedelta\u001b[0m\u001b[1;33m(\u001b[0m\u001b[0mmicroseconds\u001b[0m\u001b[1;33m=\u001b[0m\u001b[0mmath\u001b[0m\u001b[1;33m.\u001b[0m\u001b[0mceil\u001b[0m\u001b[1;33m(\u001b[0m\u001b[0mns\u001b[0m \u001b[1;33m/\u001b[0m \u001b[1;36m1000\u001b[0m\u001b[1;33m)\u001b[0m\u001b[1;33m)\u001b[0m\u001b[1;33m\u001b[0m\u001b[1;33m\u001b[0m\u001b[0m\n",
      "\u001b[1;31mRuntimeError\u001b[0m: Not started"
     ]
    }
   ],
   "source": [
    "tim.stop()\n",
    "print(f\"Total time taken {str(tim.elapsed)}\")"
   ]
  }
 ],
 "metadata": {
  "kernelspec": {
   "display_name": "Python 3 (ipykernel)",
   "language": "python",
   "name": "python3"
  },
  "language_info": {
   "codemirror_mode": {
    "name": "ipython",
    "version": 3
   },
   "file_extension": ".py",
   "mimetype": "text/x-python",
   "name": "python",
   "nbconvert_exporter": "python",
   "pygments_lexer": "ipython3",
   "version": "3.7.5"
  }
 },
 "nbformat": 4,
 "nbformat_minor": 5
}
