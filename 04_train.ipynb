{
 "cells": [
  {
   "cell_type": "code",
   "execution_count": 1,
   "id": "d5e87eed",
   "metadata": {},
   "outputs": [],
   "source": [
    "import os\n",
    "import gc\n",
    "import math\n",
    "import json\n",
    "from datetime import datetime\n",
    "import shutil\n",
    "from pathlib import Path\n",
    "import optuna\n",
    "import numpy as np\n",
    "import pandas as pd\n",
    "import pytorch_lightning as pl\n",
    "from tqdm import tqdm\n",
    "import torch\n",
    "from sklearn.model_selection import GroupKFold\n",
    "#from sklearn.model_selection import StratifiedGroupKFold\n",
    "from torch.utils.data import DataLoader\n",
    "from transformers import BatchEncoding, BertTokenizerFast\n",
    "from typing import Dict, List, Tuple, NamedTuple\n",
    "import scml\n",
    "import mylib"
   ]
  },
  {
   "cell_type": "code",
   "execution_count": 2,
   "id": "9c27c5ca",
   "metadata": {},
   "outputs": [
    {
     "name": "stdout",
     "output_type": "stream",
     "text": [
      "Conf(sample_frac=1, epochs=30, lr=(0.001, 0.001), multi_sample_dropout_size=(8, 8), multi_sample_dropout_increment=(0, 0), swa_start_epoch=(-1, -1), swa_anneal_epochs=(3, 3), pretrained_dir=WindowsPath('pretrained'), hidden_size=32, model_max_length=32, stride=0, batch_size=4, model_name='roberta_to_roberta', gradient_checkpointing=False, gpus=[0], patience=1, n_trials=1, n_folds=3, seed=31)\n"
     ]
    }
   ],
   "source": [
    "class ModelConf(NamedTuple):\n",
    "    directory: Path\n",
    "    model_max_length: int\n",
    "    stride: int\n",
    "    batch_size: int\n",
    "    gradient_checkpointing: bool\n",
    "\n",
    "\n",
    "class Conf(NamedTuple):\n",
    "    sample_frac: float = 1\n",
    "    epochs: int = 30\n",
    "    lr: Tuple[float, float] = (1e-3, 1e-3)\n",
    "    multi_sample_dropout_size: Tuple[int, int] = (8, 8)\n",
    "    multi_sample_dropout_increment: Tuple[float, float] = (0, 0)\n",
    "    swa_start_epoch: Tuple[int, int] = (-1, -1)\n",
    "    swa_anneal_epochs: Tuple[int, int] = (3, 3)\n",
    "    pretrained_dir: Path = Path(\"pretrained\")\n",
    "    hidden_size: int = 32\n",
    "    model_max_length: int = 32\n",
    "    stride: int = 0\n",
    "    batch_size: int = 4\n",
    "    model_name: str = \"roberta_to_roberta\"\n",
    "    gradient_checkpointing: bool = False\n",
    "    gpus: List[int] = [0]\n",
    "    patience: int = 1\n",
    "    n_trials: int = 1\n",
    "    n_folds: int = 3\n",
    "    seed: int = 31\n",
    "    \n",
    "        \n",
    "conf = Conf()\n",
    "print(conf)"
   ]
  },
  {
   "cell_type": "code",
   "execution_count": 3,
   "id": "3d94785c",
   "metadata": {},
   "outputs": [
    {
     "name": "stderr",
     "output_type": "stream",
     "text": [
      "Global seed set to 31\n"
     ]
    },
    {
     "data": {
      "text/plain": [
       "31"
      ]
     },
     "execution_count": 3,
     "metadata": {},
     "output_type": "execute_result"
    }
   ],
   "source": [
    "tim = scml.Timer()\n",
    "tim.start()\n",
    "percentiles=[.01, .05, .1, .2, .3, .4, .5, .6, .7, .8, .9, .95, .99]\n",
    "os.environ[\"TOKENIZERS_PARALLELISM\"] = \"false\"\n",
    "os.environ['CUDA_LAUNCH_BLOCKING'] = \"1\"\n",
    "pd.set_option(\"use_inf_as_na\", True)\n",
    "pd.set_option(\"max_info_columns\", 9999)\n",
    "pd.set_option(\"display.max_columns\", 9999)\n",
    "pd.set_option(\"display.max_rows\", 9999)\n",
    "pd.set_option('max_colwidth', 9999)\n",
    "tqdm.pandas()\n",
    "scml.seed_everything(conf.seed)\n",
    "pl.seed_everything(conf.seed)"
   ]
  },
  {
   "cell_type": "code",
   "execution_count": 4,
   "id": "627c88c0",
   "metadata": {},
   "outputs": [
    {
     "name": "stdout",
     "output_type": "stream",
     "text": [
      "device=0, NVIDIA GeForce GTX 1060 6GB\n",
      "Mem Allocated: 0.0 GB\n",
      "Mem Cached:    0.0 GB\n"
     ]
    }
   ],
   "source": [
    "device: torch.device = torch.device(\"cpu\")\n",
    "if torch.cuda.is_available():\n",
    "    device = torch.device(\"cuda\")\n",
    "    for i in range(torch.cuda.device_count()):\n",
    "        print(f\"device={i}, {torch.cuda.get_device_name(i)}\")\n",
    "        print('Mem Allocated:', round(torch.cuda.memory_allocated(i)/1024**3,1), 'GB')\n",
    "        print('Mem Cached:   ', round(torch.cuda.memory_reserved(i)/1024**3,1), 'GB')\n",
    "else:\n",
    "    print(\"cpu\")"
   ]
  },
  {
   "cell_type": "code",
   "execution_count": 5,
   "id": "3fab1eb6",
   "metadata": {},
   "outputs": [
    {
     "name": "stdout",
     "output_type": "stream",
     "text": [
      "PreTrainedTokenizerFast(name_or_path='tokenizer', vocab_size=1855612, model_max_len=32, is_fast=True, padding_side='right', truncation_side='right', special_tokens={'bos_token': '<s>', 'eos_token': '</s>', 'unk_token': '<unk>', 'sep_token': '<s>', 'pad_token': '<pad>', 'cls_token': '<cls>', 'mask_token': '<mask>', 'additional_special_tokens': ['<click>', '<cart>', '<order>']})\n"
     ]
    }
   ],
   "source": [
    "tokenizer = BertTokenizerFast.from_pretrained(\"tokenizer\")\n",
    "print(tokenizer)"
   ]
  },
  {
   "cell_type": "code",
   "execution_count": null,
   "id": "a1f520e9",
   "metadata": {},
   "outputs": [],
   "source": [
    "%%time\n",
    "with open(\"input/x.json\") as f:\n",
    "    x = json.load(f)\n",
    "with open(\"input/y.json\") as f:\n",
    "    y = json.load(f)\n",
    "with open(\"input/sids.json\") as f:\n",
    "    sids = json.load(f)\n",
    "print(f\"len(x)={len(x['input_ids'])}\\nlen(y)={len(y['input_ids'])}\\nlen(sids)={len(sids)}\")\n",
    "assert len(sids)==len(y[\"input_ids\"])\n",
    "assert len(sids)==len(x[\"input_ids\"])"
   ]
  },
  {
   "cell_type": "code",
   "execution_count": null,
   "id": "1f0dd3e8",
   "metadata": {},
   "outputs": [],
   "source": [
    "ds = mylib.OttoDataset(\n",
    "    BatchEncoding(x), \n",
    "    labels=y[\"input_ids\"],\n",
    "    session_ids=sids,\n",
    ")\n",
    "shape = (len(ds), ds.seqlen())\n",
    "print(f\"ds.shape={shape}\\n{ds[30]}\\n{ds[0]}\")"
   ]
  },
  {
   "cell_type": "code",
   "execution_count": null,
   "id": "51c8a0d8",
   "metadata": {},
   "outputs": [],
   "source": [
    "job_ts = datetime.now().strftime('%Y%m%d_%H%M%S')\n",
    "job_dir = Path(\"models\") / conf.model_name / job_ts\n",
    "job_dir.mkdir(parents=True, exist_ok=True)\n",
    "print(f\"job_dir={job_dir}\")"
   ]
  },
  {
   "cell_type": "markdown",
   "id": "90501063",
   "metadata": {},
   "source": [
    "# Train final model on best Hps"
   ]
  },
  {
   "cell_type": "code",
   "execution_count": null,
   "id": "cb47acfd",
   "metadata": {},
   "outputs": [],
   "source": [
    "%%time\n",
    "splitter = GroupKFold(n_splits=50)\n",
    "dummy = np.zeros(len(ds))\n",
    "for ti, vi in splitter.split(dummy, y=ds.stratification(), groups=ds.session_ids):\n",
    "    tra_ds = torch.utils.data.Subset(ds, ti)\n",
    "    val_ds = torch.utils.data.Subset(ds, vi)\n",
    "    break\n",
    "print(f\"len(tra_ds)={len(tra_ds)}, len(val_ds)={len(val_ds)}\")"
   ]
  },
  {
   "cell_type": "code",
   "execution_count": null,
   "id": "19f45143",
   "metadata": {},
   "outputs": [],
   "source": [
    "#best = df.iloc[0].to_dict()\n",
    "best = {\n",
    "    \"lr\": conf.lr[0],\n",
    "}\n",
    "print(f\"best={best}\")"
   ]
  },
  {
   "cell_type": "code",
   "execution_count": null,
   "id": "35655c57",
   "metadata": {},
   "outputs": [],
   "source": [
    "model = mylib.OttoLightningModel(\n",
    "    lr=best[\"lr\"],\n",
    "    decoder_start_token_id=tokenizer.cls_token_id,\n",
    "    pad_token_id=tokenizer.pad_token_id,\n",
    "    vocab_size=len(tokenizer),\n",
    "    hidden_size=conf.hidden_size,\n",
    ")\n",
    "print(model.model.config)"
   ]
  },
  {
   "cell_type": "code",
   "execution_count": null,
   "id": "0386da79",
   "metadata": {},
   "outputs": [],
   "source": [
    "print(model.model)"
   ]
  },
  {
   "cell_type": "code",
   "execution_count": null,
   "id": "a3e8a79c",
   "metadata": {},
   "outputs": [],
   "source": [
    "gc.collect()\n",
    "torch.cuda.empty_cache()\n",
    "trainer = mylib.Trainer(\n",
    "    default_root_dir=job_dir,\n",
    "    gpus=conf.gpus,\n",
    "    max_epochs=conf.epochs,  \n",
    "    callbacks=mylib.training_callbacks(patience=conf.patience),\n",
    "    deterministic=False,\n",
    ")\n",
    "trainer.fit(\n",
    "    model,\n",
    "    train_dataloaders=DataLoader(\n",
    "        tra_ds,\n",
    "        batch_size=conf.batch_size,\n",
    "        shuffle=True,\n",
    "        num_workers=0,\n",
    "    ),\n",
    "    val_dataloaders=DataLoader(\n",
    "        val_ds,\n",
    "        batch_size=conf.batch_size,\n",
    "        shuffle=False,\n",
    "        num_workers=0,\n",
    "    ),\n",
    ")"
   ]
  },
  {
   "cell_type": "code",
   "execution_count": null,
   "id": "7e2cdc61",
   "metadata": {},
   "outputs": [],
   "source": [
    "tim.stop()\n",
    "print(f\"Total time taken {str(tim.elapsed)}\")\n",
    "#print(f\"Saved {str(job_dir)}\")"
   ]
  }
 ],
 "metadata": {
  "kernelspec": {
   "display_name": "Python 3 (ipykernel)",
   "language": "python",
   "name": "python3"
  },
  "language_info": {
   "codemirror_mode": {
    "name": "ipython",
    "version": 3
   },
   "file_extension": ".py",
   "mimetype": "text/x-python",
   "name": "python",
   "nbconvert_exporter": "python",
   "pygments_lexer": "ipython3",
   "version": "3.7.5"
  }
 },
 "nbformat": 4,
 "nbformat_minor": 5
}
