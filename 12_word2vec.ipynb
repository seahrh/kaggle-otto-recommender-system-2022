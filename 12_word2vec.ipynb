{
 "cells": [
  {
   "cell_type": "code",
   "execution_count": 1,
   "id": "d5e87eed",
   "metadata": {},
   "outputs": [],
   "source": [
    "import os\n",
    "import gc\n",
    "import math\n",
    "import json\n",
    "from datetime import datetime\n",
    "import shutil\n",
    "from pathlib import Path\n",
    "import optuna\n",
    "import numpy as np\n",
    "import pandas as pd\n",
    "import pytorch_lightning as pl\n",
    "from tqdm import tqdm\n",
    "import torch\n",
    "from sklearn.model_selection import KFold, GroupKFold, StratifiedGroupKFold\n",
    "from torch.utils.data import DataLoader\n",
    "from transformers import BatchEncoding, BertTokenizerFast\n",
    "from typing import Dict, List, Tuple, NamedTuple\n",
    "import scml\n",
    "import mylib"
   ]
  },
  {
   "cell_type": "code",
   "execution_count": 2,
   "id": "9c27c5ca",
   "metadata": {},
   "outputs": [
    {
     "name": "stdout",
     "output_type": "stream",
     "text": [
      "Conf(sample_frac=1, epochs=2, lr=(0.001, 0.001), embedding_size=32, negative_samples=10, batch_size=2048, model_name='word2vec', gradient_checkpointing=False, gpus=[0], patience=0, n_trials=1, n_folds=3, seed=31)\n"
     ]
    }
   ],
   "source": [
    "class Conf(NamedTuple):\n",
    "    sample_frac: float = 1\n",
    "    epochs: int = 2\n",
    "    lr: Tuple[float, float] = (1e-3, 1e-3)\n",
    "    embedding_size: int = 32  # 64 hits oom\n",
    "    negative_samples: int = 10\n",
    "    batch_size: int = 2048\n",
    "    model_name: str = \"word2vec\"\n",
    "    gradient_checkpointing: bool = False\n",
    "    gpus: List[int] = [0]\n",
    "    patience: int = 0\n",
    "    n_trials: int = 1\n",
    "    n_folds: int = 3\n",
    "    seed: int = 31\n",
    "    \n",
    "        \n",
    "conf = Conf()\n",
    "print(conf)"
   ]
  },
  {
   "cell_type": "code",
   "execution_count": 3,
   "id": "3d94785c",
   "metadata": {},
   "outputs": [
    {
     "name": "stderr",
     "output_type": "stream",
     "text": [
      "Global seed set to 31\n"
     ]
    },
    {
     "data": {
      "text/plain": [
       "31"
      ]
     },
     "execution_count": 3,
     "metadata": {},
     "output_type": "execute_result"
    }
   ],
   "source": [
    "tim = scml.Timer()\n",
    "tim.start()\n",
    "percentiles=[.01, .05, .1, .2, .3, .4, .5, .6, .7, .8, .9, .95, .99]\n",
    "os.environ[\"TOKENIZERS_PARALLELISM\"] = \"false\"\n",
    "os.environ['CUDA_LAUNCH_BLOCKING'] = \"1\"\n",
    "pd.set_option(\"use_inf_as_na\", True)\n",
    "pd.set_option(\"max_info_columns\", 9999)\n",
    "pd.set_option(\"display.max_columns\", 9999)\n",
    "pd.set_option(\"display.max_rows\", 9999)\n",
    "pd.set_option('max_colwidth', 9999)\n",
    "tqdm.pandas()\n",
    "scml.seed_everything(conf.seed)\n",
    "pl.seed_everything(conf.seed)"
   ]
  },
  {
   "cell_type": "code",
   "execution_count": 4,
   "id": "627c88c0",
   "metadata": {},
   "outputs": [
    {
     "name": "stdout",
     "output_type": "stream",
     "text": [
      "device=0, NVIDIA GeForce GTX 1060 6GB\n",
      "Mem Allocated: 0.0 GB\n",
      "Mem Cached:    0.0 GB\n"
     ]
    }
   ],
   "source": [
    "device: torch.device = torch.device(\"cpu\")\n",
    "if torch.cuda.is_available():\n",
    "    device = torch.device(\"cuda\")\n",
    "    for i in range(torch.cuda.device_count()):\n",
    "        print(f\"device={i}, {torch.cuda.get_device_name(i)}\")\n",
    "        print('Mem Allocated:', round(torch.cuda.memory_allocated(i)/1024**3,1), 'GB')\n",
    "        print('Mem Cached:   ', round(torch.cuda.memory_reserved(i)/1024**3,1), 'GB')\n",
    "else:\n",
    "    print(\"cpu\")"
   ]
  },
  {
   "cell_type": "code",
   "execution_count": 5,
   "id": "52a1735f",
   "metadata": {},
   "outputs": [
    {
     "name": "stdout",
     "output_type": "stream",
     "text": [
      "len(id2label)=3,748,278\n",
      "id2label[:10]=[['1460571_click', 121287], ['108125_click', 114456], ['29735_click', 101148], ['485256_click', 97154], ['1733943_click', 91395], ['184976_click', 85122], ['832192_click', 81127], ['1502122_click', 73805], ['554660_click', 72161], ['1603001_click', 68519]]\n"
     ]
    }
   ],
   "source": [
    "with open(\"input/vocab2.json\") as f:\n",
    "    id2label = json.load(f)\n",
    "print(f\"len(id2label)={len(id2label):,}\\nid2label[:10]={id2label[:10]}\")"
   ]
  },
  {
   "cell_type": "code",
   "execution_count": 6,
   "id": "a1f520e9",
   "metadata": {},
   "outputs": [
    {
     "name": "stdout",
     "output_type": "stream",
     "text": [
      "<class 'pandas.core.frame.DataFrame'>\n",
      "RangeIndex: 14461968 entries, 0 to 14461967\n",
      "Data columns (total 2 columns):\n",
      " #   Column   Dtype\n",
      "---  ------   -----\n",
      " 0   center   int32\n",
      " 1   outside  int32\n",
      "dtypes: int32(2)\n",
      "memory usage: 110.3 MB\n"
     ]
    }
   ],
   "source": [
    "df = pd.read_parquet(\"input/pairs.parquet\")\n",
    "df.info()"
   ]
  },
  {
   "cell_type": "code",
   "execution_count": 7,
   "id": "1f0dd3e8",
   "metadata": {},
   "outputs": [
    {
     "name": "stdout",
     "output_type": "stream",
     "text": [
      "len(ds)=14,461,968\n",
      "{'center_words': tensor(154), 'outside_words': tensor(101)}\n",
      "{'center_words': tensor(3), 'outside_words': tensor(130483)}\n"
     ]
    }
   ],
   "source": [
    "ds = mylib.SkipGramDataset(\n",
    "    center_words=df[\"center\"].tolist(), \n",
    "    outside_words=df[\"outside\"].tolist(),\n",
    "    #session_ids=sids,\n",
    ")\n",
    "print(f\"len(ds)={len(ds):,}\\n{ds[30]}\\n{ds[0]}\")"
   ]
  },
  {
   "cell_type": "code",
   "execution_count": 8,
   "id": "51c8a0d8",
   "metadata": {},
   "outputs": [
    {
     "name": "stdout",
     "output_type": "stream",
     "text": [
      "job_dir=models\\word2vec\\20230117_073345\n"
     ]
    }
   ],
   "source": [
    "del df\n",
    "gc.collect()\n",
    "job_ts = datetime.now().strftime('%Y%m%d_%H%M%S')\n",
    "job_dir = Path(\"models\") / conf.model_name / job_ts\n",
    "job_dir.mkdir(parents=True, exist_ok=True)\n",
    "print(f\"job_dir={job_dir}\")"
   ]
  },
  {
   "cell_type": "markdown",
   "id": "90501063",
   "metadata": {},
   "source": [
    "# Train final model on best Hps"
   ]
  },
  {
   "cell_type": "code",
   "execution_count": 9,
   "id": "cb47acfd",
   "metadata": {},
   "outputs": [
    {
     "name": "stdout",
     "output_type": "stream",
     "text": [
      "len(tra_ds)=14172728, len(val_ds)=289240\n",
      "Wall time: 65.5 ms\n"
     ]
    }
   ],
   "source": [
    "%%time\n",
    "#splitter = GroupKFold(n_splits=50)\n",
    "splitter = KFold(n_splits=50)\n",
    "dummy = np.zeros(len(ds))\n",
    "#for ti, vi in splitter.split(dummy, y=ds.stratification(), groups=ds.groups()):\n",
    "for ti, vi in splitter.split(dummy):\n",
    "    tra_ds = torch.utils.data.Subset(ds, ti)\n",
    "    val_ds = torch.utils.data.Subset(ds, vi)\n",
    "    break\n",
    "print(f\"len(tra_ds)={len(tra_ds)}, len(val_ds)={len(val_ds)}\")"
   ]
  },
  {
   "cell_type": "code",
   "execution_count": 10,
   "id": "19f45143",
   "metadata": {},
   "outputs": [
    {
     "name": "stdout",
     "output_type": "stream",
     "text": [
      "best={'lr': 0.001}\n"
     ]
    }
   ],
   "source": [
    "#best = df.iloc[0].to_dict()\n",
    "best = {\n",
    "    \"lr\": conf.lr[0],\n",
    "}\n",
    "print(f\"best={best}\")"
   ]
  },
  {
   "cell_type": "code",
   "execution_count": 11,
   "id": "35655c57",
   "metadata": {},
   "outputs": [
    {
     "name": "stdout",
     "output_type": "stream",
     "text": [
      "SkipGramWord2Vec(\n",
      "  (embeddings): Embedding(3748278, 32)\n",
      ")\n"
     ]
    }
   ],
   "source": [
    "model = mylib.SkipGramWord2Vec(\n",
    "    lr=best[\"lr\"],\n",
    "    vocab_size=len(id2label),\n",
    "    embedding_size=conf.embedding_size,\n",
    "    negative_samples=conf.negative_samples,\n",
    ")\n",
    "print(model)"
   ]
  },
  {
   "cell_type": "code",
   "execution_count": 12,
   "id": "a3e8a79c",
   "metadata": {},
   "outputs": [
    {
     "name": "stderr",
     "output_type": "stream",
     "text": [
      "s:\\dev\\seahrh\\kaggle-otto-recommender-system-2022\\env\\lib\\site-packages\\pytorch_lightning\\trainer\\connectors\\accelerator_connector.py:448: LightningDeprecationWarning: Setting `Trainer(gpus=[0])` is deprecated in v1.7 and will be removed in v2.0. Please use `Trainer(accelerator='gpu', devices=[0])` instead.\n",
      "  f\"Setting `Trainer(gpus={gpus!r})` is deprecated in v1.7 and will be removed\"\n",
      "GPU available: True (cuda), used: True\n",
      "TPU available: False, using: 0 TPU cores\n",
      "IPU available: False, using: 0 IPUs\n",
      "HPU available: False, using: 0 HPUs\n",
      "Missing logger folder: models\\word2vec\\20230117_073345\\lightning_logs\n",
      "LOCAL_RANK: 0 - CUDA_VISIBLE_DEVICES: [0]\n",
      "\n",
      "  | Name       | Type      | Params\n",
      "-----------------------------------------\n",
      "0 | embeddings | Embedding | 119 M \n",
      "-----------------------------------------\n",
      "119 M     Trainable params\n",
      "0         Non-trainable params\n",
      "119 M     Total params\n",
      "479.780   Total estimated model params size (MB)\n"
     ]
    },
    {
     "data": {
      "application/vnd.jupyter.widget-view+json": {
       "model_id": "",
       "version_major": 2,
       "version_minor": 0
      },
      "text/plain": [
       "Sanity Checking: 0it [00:00, ?it/s]"
      ]
     },
     "metadata": {},
     "output_type": "display_data"
    },
    {
     "name": "stderr",
     "output_type": "stream",
     "text": [
      "s:\\dev\\seahrh\\kaggle-otto-recommender-system-2022\\env\\lib\\site-packages\\pytorch_lightning\\trainer\\connectors\\data_connector.py:241: PossibleUserWarning: The dataloader, val_dataloader 0, does not have many workers which may be a bottleneck. Consider increasing the value of the `num_workers` argument` (try 6 which is the number of cpus on this machine) in the `DataLoader` init to improve performance.\n",
      "  category=PossibleUserWarning,\n",
      "s:\\dev\\seahrh\\kaggle-otto-recommender-system-2022\\env\\lib\\site-packages\\pytorch_lightning\\trainer\\connectors\\data_connector.py:241: PossibleUserWarning: The dataloader, train_dataloader, does not have many workers which may be a bottleneck. Consider increasing the value of the `num_workers` argument` (try 6 which is the number of cpus on this machine) in the `DataLoader` init to improve performance.\n",
      "  category=PossibleUserWarning,\n"
     ]
    },
    {
     "data": {
      "application/vnd.jupyter.widget-view+json": {
       "model_id": "e2a465dee6c549cd8a4aed471da5b4eb",
       "version_major": 2,
       "version_minor": 0
      },
      "text/plain": [
       "Training: 0it [00:00, ?it/s]"
      ]
     },
     "metadata": {},
     "output_type": "display_data"
    },
    {
     "data": {
      "application/vnd.jupyter.widget-view+json": {
       "model_id": "",
       "version_major": 2,
       "version_minor": 0
      },
      "text/plain": [
       "Validation: 0it [00:00, ?it/s]"
      ]
     },
     "metadata": {},
     "output_type": "display_data"
    },
    {
     "name": "stderr",
     "output_type": "stream",
     "text": [
      "Metric val_loss improved. New best score: 7.624\n",
      "Epoch 0, global step 6921: 'val_loss' reached 7.62381 (best 7.62381), saving model to 'models\\\\word2vec\\\\20230117_073345\\\\lightning_logs\\\\version_0\\\\checkpoints\\\\epoch=0-step=6921.ckpt' as top 1\n"
     ]
    },
    {
     "data": {
      "application/vnd.jupyter.widget-view+json": {
       "model_id": "",
       "version_major": 2,
       "version_minor": 0
      },
      "text/plain": [
       "Validation: 0it [00:00, ?it/s]"
      ]
     },
     "metadata": {},
     "output_type": "display_data"
    },
    {
     "name": "stderr",
     "output_type": "stream",
     "text": [
      "Monitored metric val_loss did not improve in the last 1 records. Best score: 7.624. Signaling Trainer to stop.\n",
      "Epoch 1, global step 13842: 'val_loss' was not in top 1\n",
      "`Trainer.fit` stopped: `max_epochs=2` reached.\n"
     ]
    }
   ],
   "source": [
    "gc.collect()\n",
    "torch.cuda.empty_cache()\n",
    "trainer = pl.Trainer(\n",
    "    default_root_dir=job_dir,\n",
    "    accelerator=\"gpu\", \n",
    "    devices=conf.gpus,\n",
    "    max_epochs=conf.epochs,  \n",
    "    callbacks=mylib.training_callbacks(patience=conf.patience),\n",
    "    deterministic=False,\n",
    ")\n",
    "trainer.fit(\n",
    "    model,\n",
    "    train_dataloaders=DataLoader(\n",
    "        tra_ds,\n",
    "        batch_size=conf.batch_size,\n",
    "        shuffle=True,\n",
    "        num_workers=0,\n",
    "    ),\n",
    "    val_dataloaders=DataLoader(\n",
    "        val_ds,\n",
    "        batch_size=conf.batch_size,\n",
    "        shuffle=False,\n",
    "        num_workers=0,\n",
    "    ),\n",
    ")"
   ]
  },
  {
   "cell_type": "code",
   "execution_count": 13,
   "id": "7e2cdc61",
   "metadata": {},
   "outputs": [
    {
     "name": "stdout",
     "output_type": "stream",
     "text": [
      "Total time taken 1:01:48.789389\n",
      "Saved models\\word2vec\\20230117_073345\n"
     ]
    }
   ],
   "source": [
    "tim.stop()\n",
    "print(f\"Total time taken {str(tim.elapsed)}\")\n",
    "print(f\"Saved {str(job_dir)}\")"
   ]
  }
 ],
 "metadata": {
  "kernelspec": {
   "display_name": "Python 3 (ipykernel)",
   "language": "python",
   "name": "python3"
  },
  "language_info": {
   "codemirror_mode": {
    "name": "ipython",
    "version": 3
   },
   "file_extension": ".py",
   "mimetype": "text/x-python",
   "name": "python",
   "nbconvert_exporter": "python",
   "pygments_lexer": "ipython3",
   "version": "3.7.5"
  }
 },
 "nbformat": 4,
 "nbformat_minor": 5
}
