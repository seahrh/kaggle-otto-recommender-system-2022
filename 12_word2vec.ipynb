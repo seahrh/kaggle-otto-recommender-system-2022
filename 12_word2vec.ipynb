{
 "cells": [
  {
   "cell_type": "code",
   "execution_count": 1,
   "id": "d5e87eed",
   "metadata": {},
   "outputs": [],
   "source": [
    "import os\n",
    "import gc\n",
    "import math\n",
    "import json\n",
    "from datetime import datetime\n",
    "import shutil\n",
    "from pathlib import Path\n",
    "import optuna\n",
    "import numpy as np\n",
    "import pandas as pd\n",
    "import pytorch_lightning as pl\n",
    "from tqdm import tqdm\n",
    "import torch\n",
    "from sklearn.model_selection import KFold, GroupKFold, StratifiedGroupKFold\n",
    "from torch.utils.data import DataLoader\n",
    "from transformers import BatchEncoding, BertTokenizerFast\n",
    "from typing import Dict, List, Tuple, NamedTuple\n",
    "import scml\n",
    "import mylib"
   ]
  },
  {
   "cell_type": "code",
   "execution_count": 2,
   "id": "9c27c5ca",
   "metadata": {},
   "outputs": [
    {
     "name": "stdout",
     "output_type": "stream",
     "text": [
      "Conf(sample_frac=1, epochs=2, lr=(0.1, 0.1), embedding_size=64, negative_samples=1, batch_size=2048, model_name='word2vec', gradient_checkpointing=False, gpus=[0], patience=0, n_trials=1, n_folds=3, seed=31)\n"
     ]
    }
   ],
   "source": [
    "class Conf(NamedTuple):\n",
    "    sample_frac: float = 1\n",
    "    epochs: int = 2\n",
    "    lr: Tuple[float, float] = (1e-1, 1e-1)\n",
    "    embedding_size: int = 64\n",
    "    negative_samples: int = 1\n",
    "    batch_size: int = 2048\n",
    "    model_name: str = \"word2vec\"\n",
    "    gradient_checkpointing: bool = False\n",
    "    gpus: List[int] = [0]\n",
    "    patience: int = 0\n",
    "    n_trials: int = 1\n",
    "    n_folds: int = 3\n",
    "    seed: int = 31\n",
    "    \n",
    "        \n",
    "conf = Conf()\n",
    "print(conf)"
   ]
  },
  {
   "cell_type": "code",
   "execution_count": 3,
   "id": "3d94785c",
   "metadata": {},
   "outputs": [
    {
     "name": "stderr",
     "output_type": "stream",
     "text": [
      "Global seed set to 31\n"
     ]
    },
    {
     "data": {
      "text/plain": [
       "31"
      ]
     },
     "execution_count": 3,
     "metadata": {},
     "output_type": "execute_result"
    }
   ],
   "source": [
    "tim = scml.Timer()\n",
    "tim.start()\n",
    "percentiles=[.01, .05, .1, .2, .3, .4, .5, .6, .7, .8, .9, .95, .99]\n",
    "os.environ[\"TOKENIZERS_PARALLELISM\"] = \"false\"\n",
    "os.environ['CUDA_LAUNCH_BLOCKING'] = \"1\"\n",
    "pd.set_option(\"use_inf_as_na\", True)\n",
    "pd.set_option(\"max_info_columns\", 9999)\n",
    "pd.set_option(\"display.max_columns\", 9999)\n",
    "pd.set_option(\"display.max_rows\", 9999)\n",
    "pd.set_option('max_colwidth', 9999)\n",
    "tqdm.pandas()\n",
    "scml.seed_everything(conf.seed)\n",
    "pl.seed_everything(conf.seed)"
   ]
  },
  {
   "cell_type": "code",
   "execution_count": 4,
   "id": "627c88c0",
   "metadata": {},
   "outputs": [
    {
     "name": "stdout",
     "output_type": "stream",
     "text": [
      "device=0, NVIDIA GeForce GTX 1060 6GB\n",
      "Mem Allocated: 0.0 GB\n",
      "Mem Cached:    0.0 GB\n"
     ]
    }
   ],
   "source": [
    "device: torch.device = torch.device(\"cpu\")\n",
    "if torch.cuda.is_available():\n",
    "    device = torch.device(\"cuda\")\n",
    "    for i in range(torch.cuda.device_count()):\n",
    "        print(f\"device={i}, {torch.cuda.get_device_name(i)}\")\n",
    "        print('Mem Allocated:', round(torch.cuda.memory_allocated(i)/1024**3,1), 'GB')\n",
    "        print('Mem Cached:   ', round(torch.cuda.memory_reserved(i)/1024**3,1), 'GB')\n",
    "else:\n",
    "    print(\"cpu\")"
   ]
  },
  {
   "cell_type": "code",
   "execution_count": 5,
   "id": "52a1735f",
   "metadata": {},
   "outputs": [
    {
     "name": "stdout",
     "output_type": "stream",
     "text": [
      "len(id2label)=1,855,603\n",
      "id2label[:10]=[['1460571', 129004], ['485256', 126836], ['108125', 118524], ['29735', 113279], ['1733943', 105091], ['832192', 91325], ['184976', 90244], ['166037', 84657], ['554660', 80197], ['231487', 79872]]\n"
     ]
    }
   ],
   "source": [
    "with open(\"input/vocab2.json\") as f:\n",
    "    id2label = json.load(f)\n",
    "print(f\"len(id2label)={len(id2label):,}\\nid2label[:10]={id2label[:10]}\")"
   ]
  },
  {
   "cell_type": "code",
   "execution_count": 6,
   "id": "a1f520e9",
   "metadata": {},
   "outputs": [
    {
     "name": "stdout",
     "output_type": "stream",
     "text": [
      "<class 'pandas.core.frame.DataFrame'>\n",
      "RangeIndex: 14463069 entries, 0 to 14463068\n",
      "Data columns (total 4 columns):\n",
      " #   Column        Dtype\n",
      "---  ------        -----\n",
      " 0   center_word   int32\n",
      " 1   center_type   int8 \n",
      " 2   outside_word  int32\n",
      " 3   outside_type  int8 \n",
      "dtypes: int32(2), int8(2)\n",
      "memory usage: 137.9 MB\n"
     ]
    }
   ],
   "source": [
    "df = pd.read_parquet(\"input/pairs.parquet\")\n",
    "df.info()"
   ]
  },
  {
   "cell_type": "code",
   "execution_count": 7,
   "id": "1f0dd3e8",
   "metadata": {},
   "outputs": [
    {
     "name": "stdout",
     "output_type": "stream",
     "text": [
      "len(ds)=14,463,069\n",
      "{'center_words': tensor(63), 'center_types': tensor(0), 'outside_words': tensor(63), 'outside_types': tensor(1)}\n",
      "{'center_words': tensor(1), 'center_types': tensor(0), 'outside_words': tensor(1), 'outside_types': tensor(1)}\n"
     ]
    }
   ],
   "source": [
    "ds = mylib.SkipGramDataset(\n",
    "    center_words=df[\"center_word\"].tolist(), \n",
    "    outside_words=df[\"outside_word\"].tolist(),\n",
    "    center_types=df[\"center_type\"].tolist(),\n",
    "    outside_types=df[\"outside_type\"].tolist(),\n",
    ")\n",
    "print(f\"len(ds)={len(ds):,}\\n{ds[30]}\\n{ds[0]}\")"
   ]
  },
  {
   "cell_type": "code",
   "execution_count": 8,
   "id": "51c8a0d8",
   "metadata": {},
   "outputs": [
    {
     "name": "stdout",
     "output_type": "stream",
     "text": [
      "job_dir=models\\word2vec\\20230123_111418\n"
     ]
    }
   ],
   "source": [
    "del df\n",
    "gc.collect()\n",
    "job_ts = datetime.now().strftime('%Y%m%d_%H%M%S')\n",
    "job_dir = Path(\"models\") / conf.model_name / job_ts\n",
    "job_dir.mkdir(parents=True, exist_ok=True)\n",
    "print(f\"job_dir={job_dir}\")"
   ]
  },
  {
   "cell_type": "markdown",
   "id": "90501063",
   "metadata": {},
   "source": [
    "# Train final model on best Hps"
   ]
  },
  {
   "cell_type": "code",
   "execution_count": 9,
   "id": "cb47acfd",
   "metadata": {},
   "outputs": [
    {
     "name": "stdout",
     "output_type": "stream",
     "text": [
      "len(tra_ds)=14173807, len(val_ds)=289262\n",
      "Wall time: 48.2 ms\n"
     ]
    }
   ],
   "source": [
    "%%time\n",
    "#splitter = GroupKFold(n_splits=50)\n",
    "splitter = KFold(n_splits=50)\n",
    "dummy = np.zeros(len(ds))\n",
    "#for ti, vi in splitter.split(dummy, y=ds.stratification(), groups=ds.groups()):\n",
    "for ti, vi in splitter.split(dummy):\n",
    "    tra_ds = torch.utils.data.Subset(ds, ti)\n",
    "    val_ds = torch.utils.data.Subset(ds, vi)\n",
    "    break\n",
    "print(f\"len(tra_ds)={len(tra_ds)}, len(val_ds)={len(val_ds)}\")"
   ]
  },
  {
   "cell_type": "code",
   "execution_count": 10,
   "id": "19f45143",
   "metadata": {},
   "outputs": [
    {
     "name": "stdout",
     "output_type": "stream",
     "text": [
      "best={'lr': 0.1}\n"
     ]
    }
   ],
   "source": [
    "#best = df.iloc[0].to_dict()\n",
    "best = {\n",
    "    \"lr\": conf.lr[0],\n",
    "}\n",
    "print(f\"best={best}\")"
   ]
  },
  {
   "cell_type": "code",
   "execution_count": 11,
   "id": "35655c57",
   "metadata": {},
   "outputs": [
    {
     "name": "stdout",
     "output_type": "stream",
     "text": [
      "SkipGramWord2Vec(\n",
      "  (word_embeddings): Embedding(1855603, 64)\n",
      "  (type_embeddings): Embedding(3, 64)\n",
      ")\n"
     ]
    }
   ],
   "source": [
    "model = mylib.SkipGramWord2Vec(\n",
    "    lr=best[\"lr\"],\n",
    "    vocab_size=len(id2label),\n",
    "    types_size=3,\n",
    "    embedding_size=conf.embedding_size,\n",
    "    negative_samples=conf.negative_samples,\n",
    ")\n",
    "print(model)"
   ]
  },
  {
   "cell_type": "code",
   "execution_count": 12,
   "id": "a3e8a79c",
   "metadata": {},
   "outputs": [
    {
     "name": "stderr",
     "output_type": "stream",
     "text": [
      "GPU available: True (cuda), used: True\n",
      "TPU available: False, using: 0 TPU cores\n",
      "IPU available: False, using: 0 IPUs\n",
      "HPU available: False, using: 0 HPUs\n",
      "Missing logger folder: models\\word2vec\\20230123_111418\\lightning_logs\n",
      "LOCAL_RANK: 0 - CUDA_VISIBLE_DEVICES: [0]\n",
      "\n",
      "  | Name            | Type      | Params\n",
      "----------------------------------------------\n",
      "0 | word_embeddings | Embedding | 118 M \n",
      "1 | type_embeddings | Embedding | 192   \n",
      "----------------------------------------------\n",
      "118 M     Trainable params\n",
      "0         Non-trainable params\n",
      "118 M     Total params\n",
      "475.035   Total estimated model params size (MB)\n"
     ]
    },
    {
     "data": {
      "application/vnd.jupyter.widget-view+json": {
       "model_id": "",
       "version_major": 2,
       "version_minor": 0
      },
      "text/plain": [
       "Sanity Checking: 0it [00:00, ?it/s]"
      ]
     },
     "metadata": {},
     "output_type": "display_data"
    },
    {
     "name": "stderr",
     "output_type": "stream",
     "text": [
      "s:\\dev\\seahrh\\kaggle-otto-recommender-system-2022\\env\\lib\\site-packages\\pytorch_lightning\\trainer\\connectors\\data_connector.py:241: PossibleUserWarning: The dataloader, val_dataloader 0, does not have many workers which may be a bottleneck. Consider increasing the value of the `num_workers` argument` (try 6 which is the number of cpus on this machine) in the `DataLoader` init to improve performance.\n",
      "  category=PossibleUserWarning,\n",
      "s:\\dev\\seahrh\\kaggle-otto-recommender-system-2022\\env\\lib\\site-packages\\pytorch_lightning\\trainer\\connectors\\data_connector.py:241: PossibleUserWarning: The dataloader, train_dataloader, does not have many workers which may be a bottleneck. Consider increasing the value of the `num_workers` argument` (try 6 which is the number of cpus on this machine) in the `DataLoader` init to improve performance.\n",
      "  category=PossibleUserWarning,\n"
     ]
    },
    {
     "data": {
      "application/vnd.jupyter.widget-view+json": {
       "model_id": "608b7838ed0b469e8e7c0c0b91f20cff",
       "version_major": 2,
       "version_minor": 0
      },
      "text/plain": [
       "Training: 0it [00:00, ?it/s]"
      ]
     },
     "metadata": {},
     "output_type": "display_data"
    },
    {
     "data": {
      "application/vnd.jupyter.widget-view+json": {
       "model_id": "",
       "version_major": 2,
       "version_minor": 0
      },
      "text/plain": [
       "Validation: 0it [00:00, ?it/s]"
      ]
     },
     "metadata": {},
     "output_type": "display_data"
    },
    {
     "name": "stderr",
     "output_type": "stream",
     "text": [
      "Metric val_loss improved. New best score: 1.333\n",
      "Epoch 0, global step 6921: 'val_loss' reached 1.33251 (best 1.33251), saving model to 'models\\\\word2vec\\\\20230123_111418\\\\lightning_logs\\\\version_0\\\\checkpoints\\\\epoch=0-step=6921.ckpt' as top 1\n",
      "s:\\dev\\seahrh\\kaggle-otto-recommender-system-2022\\env\\lib\\site-packages\\pytorch_lightning\\trainer\\trainer.py:653: UserWarning: Detected KeyboardInterrupt, attempting graceful shutdown...\n",
      "  rank_zero_warn(\"Detected KeyboardInterrupt, attempting graceful shutdown...\")\n"
     ]
    }
   ],
   "source": [
    "gc.collect()\n",
    "torch.cuda.empty_cache()\n",
    "trainer = pl.Trainer(\n",
    "    default_root_dir=job_dir,\n",
    "    accelerator=\"gpu\", \n",
    "    devices=conf.gpus,\n",
    "    max_epochs=conf.epochs,  \n",
    "    callbacks=mylib.training_callbacks(patience=conf.patience),\n",
    "    deterministic=False,\n",
    ")\n",
    "trainer.fit(\n",
    "    model,\n",
    "    train_dataloaders=DataLoader(\n",
    "        tra_ds,\n",
    "        batch_size=conf.batch_size,\n",
    "        shuffle=True,\n",
    "        num_workers=0,\n",
    "    ),\n",
    "    val_dataloaders=DataLoader(\n",
    "        val_ds,\n",
    "        batch_size=conf.batch_size,\n",
    "        shuffle=False,\n",
    "        num_workers=0,\n",
    "    ),\n",
    ")"
   ]
  },
  {
   "cell_type": "code",
   "execution_count": 13,
   "id": "7e2cdc61",
   "metadata": {},
   "outputs": [
    {
     "name": "stdout",
     "output_type": "stream",
     "text": [
      "Total time taken 0:29:34.428076\n",
      "Saved models\\word2vec\\20230123_111418\n"
     ]
    }
   ],
   "source": [
    "tim.stop()\n",
    "print(f\"Total time taken {str(tim.elapsed)}\")\n",
    "print(f\"Saved {str(job_dir)}\")"
   ]
  }
 ],
 "metadata": {
  "kernelspec": {
   "display_name": "Python 3 (ipykernel)",
   "language": "python",
   "name": "python3"
  },
  "language_info": {
   "codemirror_mode": {
    "name": "ipython",
    "version": 3
   },
   "file_extension": ".py",
   "mimetype": "text/x-python",
   "name": "python",
   "nbconvert_exporter": "python",
   "pygments_lexer": "ipython3",
   "version": "3.7.5"
  }
 },
 "nbformat": 4,
 "nbformat_minor": 5
}
