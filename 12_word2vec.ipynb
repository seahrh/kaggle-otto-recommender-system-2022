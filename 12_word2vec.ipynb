{
 "cells": [
  {
   "cell_type": "code",
   "execution_count": 1,
   "id": "d5e87eed",
   "metadata": {},
   "outputs": [],
   "source": [
    "import os\n",
    "import gc\n",
    "import math\n",
    "import json\n",
    "from datetime import datetime\n",
    "import shutil\n",
    "from pathlib import Path\n",
    "import optuna\n",
    "import numpy as np\n",
    "import pandas as pd\n",
    "import pytorch_lightning as pl\n",
    "from tqdm import tqdm\n",
    "import torch\n",
    "from sklearn.model_selection import KFold, GroupKFold, StratifiedGroupKFold\n",
    "from torch.utils.data import DataLoader\n",
    "from transformers import BatchEncoding, BertTokenizerFast\n",
    "from typing import Dict, List, Tuple, NamedTuple\n",
    "import scml\n",
    "import mylib"
   ]
  },
  {
   "cell_type": "code",
   "execution_count": 2,
   "id": "9c27c5ca",
   "metadata": {},
   "outputs": [
    {
     "name": "stdout",
     "output_type": "stream",
     "text": [
      "Conf(sample_frac=1, epochs=20, lr=(0.003, 0.003), embedding_size=32, limit=0, negative_samples=10, batch_size=10000, model_name='word2vec', gradient_checkpointing=False, gpus=[0], patience=0, n_trials=1, n_folds=3, seed=31)\n"
     ]
    }
   ],
   "source": [
    "class Conf(NamedTuple):\n",
    "    sample_frac: float = 1\n",
    "    epochs: int = 50\n",
    "    lr: Tuple[float, float] = (3e-3, 3e-3)\n",
    "    embedding_size: int = 32\n",
    "    limit: int = 0\n",
    "    negative_samples: int = 10\n",
    "    batch_size: int = 10_000\n",
    "    model_name: str = \"word2vec\"\n",
    "    gradient_checkpointing: bool = False\n",
    "    gpus: List[int] = [0]\n",
    "    patience: int = 0\n",
    "    n_trials: int = 1\n",
    "    n_folds: int = 3\n",
    "    seed: int = 31\n",
    "    \n",
    "        \n",
    "conf = Conf()\n",
    "print(conf)"
   ]
  },
  {
   "cell_type": "code",
   "execution_count": 3,
   "id": "3d94785c",
   "metadata": {},
   "outputs": [
    {
     "name": "stderr",
     "output_type": "stream",
     "text": [
      "Global seed set to 31\n"
     ]
    },
    {
     "data": {
      "text/plain": [
       "31"
      ]
     },
     "execution_count": 3,
     "metadata": {},
     "output_type": "execute_result"
    }
   ],
   "source": [
    "tim = scml.Timer()\n",
    "tim.start()\n",
    "percentiles=[.01, .05, .1, .2, .3, .4, .5, .6, .7, .8, .9, .95, .99]\n",
    "os.environ[\"TOKENIZERS_PARALLELISM\"] = \"false\"\n",
    "os.environ['CUDA_LAUNCH_BLOCKING'] = \"1\"\n",
    "pd.set_option(\"use_inf_as_na\", True)\n",
    "pd.set_option(\"max_info_columns\", 9999)\n",
    "pd.set_option(\"display.max_columns\", 9999)\n",
    "pd.set_option(\"display.max_rows\", 9999)\n",
    "pd.set_option('max_colwidth', 9999)\n",
    "tqdm.pandas()\n",
    "scml.seed_everything(conf.seed)\n",
    "pl.seed_everything(conf.seed)"
   ]
  },
  {
   "cell_type": "code",
   "execution_count": 4,
   "id": "627c88c0",
   "metadata": {},
   "outputs": [
    {
     "name": "stdout",
     "output_type": "stream",
     "text": [
      "device=0, NVIDIA GeForce GTX 1060 6GB\n",
      "Mem Allocated: 0.0 GB\n",
      "Mem Cached:    0.0 GB\n"
     ]
    }
   ],
   "source": [
    "device: torch.device = torch.device(\"cpu\")\n",
    "if torch.cuda.is_available():\n",
    "    device = torch.device(\"cuda\")\n",
    "    for i in range(torch.cuda.device_count()):\n",
    "        print(f\"device={i}, {torch.cuda.get_device_name(i)}\")\n",
    "        print('Mem Allocated:', round(torch.cuda.memory_allocated(i)/1024**3,1), 'GB')\n",
    "        print('Mem Cached:   ', round(torch.cuda.memory_reserved(i)/1024**3,1), 'GB')\n",
    "else:\n",
    "    print(\"cpu\")"
   ]
  },
  {
   "cell_type": "code",
   "execution_count": 5,
   "id": "52a1735f",
   "metadata": {},
   "outputs": [
    {
     "name": "stdout",
     "output_type": "stream",
     "text": [
      "len(id2label)=1,855,603\n",
      "id2label[:10]=[['1460571', 137874], ['485256', 135892], ['108125', 124885], ['29735', 116215], ['1733943', 106512], ['832192', 94766], ['184976', 92890], ['166037', 86333], ['554660', 83865], ['986164', 81557]]\n"
     ]
    }
   ],
   "source": [
    "with open(\"input/vocab3.json\") as f:\n",
    "    id2label = json.load(f)\n",
    "if conf.limit>0:\n",
    "    id2label = id2label[:conf.limit]\n",
    "    white = {int(k) for k, _ in id2label}\n",
    "    white = list(white)\n",
    "print(f\"len(id2label)={len(id2label):,}\\nid2label[:10]={id2label[:10]}\")"
   ]
  },
  {
   "cell_type": "code",
   "execution_count": 6,
   "id": "a1f520e9",
   "metadata": {},
   "outputs": [
    {
     "name": "stdout",
     "output_type": "stream",
     "text": [
      "<class 'pandas.core.frame.DataFrame'>\n",
      "RangeIndex: 25526612 entries, 0 to 25526611\n",
      "Data columns (total 4 columns):\n",
      " #   Column        Dtype\n",
      "---  ------        -----\n",
      " 0   center_word   int32\n",
      " 1   center_type   int8 \n",
      " 2   outside_word  int32\n",
      " 3   outside_type  int8 \n",
      "dtypes: int32(2), int8(2)\n",
      "memory usage: 243.4 MB\n"
     ]
    }
   ],
   "source": [
    "df = pd.read_parquet(\"input/pairs.parquet\")\n",
    "if conf.limit>0:\n",
    "    df = df[(df[\"center_word\"].isin(white)) & (df[\"outside_word\"].isin(white))].copy()\n",
    "df.info()"
   ]
  },
  {
   "cell_type": "code",
   "execution_count": 7,
   "id": "1f0dd3e8",
   "metadata": {},
   "outputs": [
    {
     "name": "stdout",
     "output_type": "stream",
     "text": [
      "len(ds)=25,526,612\n",
      "{'center_words': tensor(1), 'center_types': tensor(0), 'outside_words': tensor(248), 'outside_types': tensor(0)}\n",
      "{'center_words': tensor(1), 'center_types': tensor(0), 'outside_words': tensor(35), 'outside_types': tensor(0)}\n"
     ]
    }
   ],
   "source": [
    "ds = mylib.SkipGramDataset(\n",
    "    center_words=df[\"center_word\"].tolist(), \n",
    "    outside_words=df[\"outside_word\"].tolist(),\n",
    "    center_types=df[\"center_type\"].tolist(),\n",
    "    outside_types=df[\"outside_type\"].tolist(),\n",
    ")\n",
    "print(f\"len(ds)={len(ds):,}\\n{ds[30]}\\n{ds[0]}\")"
   ]
  },
  {
   "cell_type": "code",
   "execution_count": 8,
   "id": "51c8a0d8",
   "metadata": {},
   "outputs": [
    {
     "name": "stdout",
     "output_type": "stream",
     "text": [
      "job_dir=models\\word2vec\\20230131_030406\n"
     ]
    }
   ],
   "source": [
    "del df\n",
    "gc.collect()\n",
    "job_ts = datetime.now().strftime('%Y%m%d_%H%M%S')\n",
    "job_dir = Path(\"models\") / conf.model_name / job_ts\n",
    "job_dir.mkdir(parents=True, exist_ok=True)\n",
    "print(f\"job_dir={job_dir}\")"
   ]
  },
  {
   "cell_type": "markdown",
   "id": "90501063",
   "metadata": {},
   "source": [
    "# Train final model on best Hps"
   ]
  },
  {
   "cell_type": "code",
   "execution_count": 9,
   "id": "cb47acfd",
   "metadata": {},
   "outputs": [
    {
     "name": "stdout",
     "output_type": "stream",
     "text": [
      "len(tra_ds)=25,016,079, len(val_ds)=510,533\n",
      "Wall time: 98 ms\n"
     ]
    }
   ],
   "source": [
    "%%time\n",
    "#splitter = GroupKFold(n_splits=50)\n",
    "splitter = KFold(n_splits=50)\n",
    "dummy = np.zeros(len(ds))\n",
    "#for ti, vi in splitter.split(dummy, y=ds.stratification(), groups=ds.groups()):\n",
    "for ti, vi in splitter.split(dummy):\n",
    "    tra_ds = torch.utils.data.Subset(ds, ti)\n",
    "    val_ds = torch.utils.data.Subset(ds, vi)\n",
    "    break\n",
    "print(f\"len(tra_ds)={len(tra_ds):,}, len(val_ds)={len(val_ds):,}\")"
   ]
  },
  {
   "cell_type": "code",
   "execution_count": 10,
   "id": "19f45143",
   "metadata": {},
   "outputs": [
    {
     "name": "stdout",
     "output_type": "stream",
     "text": [
      "best={'lr': 0.003}\n"
     ]
    }
   ],
   "source": [
    "#best = df.iloc[0].to_dict()\n",
    "best = {\n",
    "    \"lr\": conf.lr[0],\n",
    "}\n",
    "print(f\"best={best}\")"
   ]
  },
  {
   "cell_type": "code",
   "execution_count": 11,
   "id": "35655c57",
   "metadata": {},
   "outputs": [
    {
     "name": "stdout",
     "output_type": "stream",
     "text": [
      "SkipGramWord2Vec(\n",
      "  (word_embeddings): Embedding(1855603, 32)\n",
      "  (type_embeddings): Embedding(3, 32)\n",
      ")\n"
     ]
    }
   ],
   "source": [
    "model = mylib.SkipGramWord2Vec(\n",
    "    lr=best[\"lr\"],\n",
    "    vocab_size=len(id2label),\n",
    "    types_size=3,\n",
    "    embedding_size=conf.embedding_size,\n",
    "    negative_samples=conf.negative_samples,\n",
    ")\n",
    "print(model)"
   ]
  },
  {
   "cell_type": "code",
   "execution_count": 12,
   "id": "a3e8a79c",
   "metadata": {},
   "outputs": [
    {
     "name": "stderr",
     "output_type": "stream",
     "text": [
      "GPU available: True (cuda), used: True\n",
      "TPU available: False, using: 0 TPU cores\n",
      "IPU available: False, using: 0 IPUs\n",
      "HPU available: False, using: 0 HPUs\n",
      "Missing logger folder: models\\word2vec\\20230131_030406\\lightning_logs\n",
      "LOCAL_RANK: 0 - CUDA_VISIBLE_DEVICES: [0]\n",
      "\n",
      "  | Name            | Type      | Params\n",
      "----------------------------------------------\n",
      "0 | word_embeddings | Embedding | 59.4 M\n",
      "1 | type_embeddings | Embedding | 96    \n",
      "----------------------------------------------\n",
      "59.4 M    Trainable params\n",
      "0         Non-trainable params\n",
      "59.4 M    Total params\n",
      "237.518   Total estimated model params size (MB)\n"
     ]
    },
    {
     "data": {
      "application/vnd.jupyter.widget-view+json": {
       "model_id": "",
       "version_major": 2,
       "version_minor": 0
      },
      "text/plain": [
       "Sanity Checking: 0it [00:00, ?it/s]"
      ]
     },
     "metadata": {},
     "output_type": "display_data"
    },
    {
     "name": "stderr",
     "output_type": "stream",
     "text": [
      "s:\\dev\\seahrh\\kaggle-otto-recommender-system-2022\\env\\lib\\site-packages\\pytorch_lightning\\trainer\\connectors\\data_connector.py:241: PossibleUserWarning: The dataloader, val_dataloader 0, does not have many workers which may be a bottleneck. Consider increasing the value of the `num_workers` argument` (try 6 which is the number of cpus on this machine) in the `DataLoader` init to improve performance.\n",
      "  category=PossibleUserWarning,\n",
      "s:\\dev\\seahrh\\kaggle-otto-recommender-system-2022\\env\\lib\\site-packages\\pytorch_lightning\\trainer\\connectors\\data_connector.py:241: PossibleUserWarning: The dataloader, train_dataloader, does not have many workers which may be a bottleneck. Consider increasing the value of the `num_workers` argument` (try 6 which is the number of cpus on this machine) in the `DataLoader` init to improve performance.\n",
      "  category=PossibleUserWarning,\n"
     ]
    },
    {
     "data": {
      "application/vnd.jupyter.widget-view+json": {
       "model_id": "434cb4056bd64a3aa70d458a8cd4ef24",
       "version_major": 2,
       "version_minor": 0
      },
      "text/plain": [
       "Training: 0it [00:00, ?it/s]"
      ]
     },
     "metadata": {},
     "output_type": "display_data"
    },
    {
     "data": {
      "application/vnd.jupyter.widget-view+json": {
       "model_id": "",
       "version_major": 2,
       "version_minor": 0
      },
      "text/plain": [
       "Validation: 0it [00:00, ?it/s]"
      ]
     },
     "metadata": {},
     "output_type": "display_data"
    },
    {
     "name": "stderr",
     "output_type": "stream",
     "text": [
      "Metric val_loss improved. New best score: 4.511\n",
      "Epoch 0, global step 2502: 'val_loss' reached 4.51117 (best 4.51117), saving model to 'models\\\\word2vec\\\\20230131_030406\\\\lightning_logs\\\\version_0\\\\checkpoints\\\\epoch=0-step=2502.ckpt' as top 1\n"
     ]
    },
    {
     "data": {
      "application/vnd.jupyter.widget-view+json": {
       "model_id": "",
       "version_major": 2,
       "version_minor": 0
      },
      "text/plain": [
       "Validation: 0it [00:00, ?it/s]"
      ]
     },
     "metadata": {},
     "output_type": "display_data"
    },
    {
     "name": "stderr",
     "output_type": "stream",
     "text": [
      "Metric val_loss improved by 1.646 >= min_delta = 0.0. New best score: 2.865\n",
      "Epoch 1, global step 5004: 'val_loss' reached 2.86494 (best 2.86494), saving model to 'models\\\\word2vec\\\\20230131_030406\\\\lightning_logs\\\\version_0\\\\checkpoints\\\\epoch=1-step=5004.ckpt' as top 1\n"
     ]
    },
    {
     "data": {
      "application/vnd.jupyter.widget-view+json": {
       "model_id": "",
       "version_major": 2,
       "version_minor": 0
      },
      "text/plain": [
       "Validation: 0it [00:00, ?it/s]"
      ]
     },
     "metadata": {},
     "output_type": "display_data"
    },
    {
     "name": "stderr",
     "output_type": "stream",
     "text": [
      "Metric val_loss improved by 0.237 >= min_delta = 0.0. New best score: 2.628\n",
      "Epoch 2, global step 7506: 'val_loss' reached 2.62752 (best 2.62752), saving model to 'models\\\\word2vec\\\\20230131_030406\\\\lightning_logs\\\\version_0\\\\checkpoints\\\\epoch=2-step=7506.ckpt' as top 1\n"
     ]
    },
    {
     "data": {
      "application/vnd.jupyter.widget-view+json": {
       "model_id": "",
       "version_major": 2,
       "version_minor": 0
      },
      "text/plain": [
       "Validation: 0it [00:00, ?it/s]"
      ]
     },
     "metadata": {},
     "output_type": "display_data"
    },
    {
     "name": "stderr",
     "output_type": "stream",
     "text": [
      "Metric val_loss improved by 0.253 >= min_delta = 0.0. New best score: 2.374\n",
      "Epoch 3, global step 10008: 'val_loss' reached 2.37443 (best 2.37443), saving model to 'models\\\\word2vec\\\\20230131_030406\\\\lightning_logs\\\\version_0\\\\checkpoints\\\\epoch=3-step=10008.ckpt' as top 1\n"
     ]
    },
    {
     "data": {
      "application/vnd.jupyter.widget-view+json": {
       "model_id": "",
       "version_major": 2,
       "version_minor": 0
      },
      "text/plain": [
       "Validation: 0it [00:00, ?it/s]"
      ]
     },
     "metadata": {},
     "output_type": "display_data"
    },
    {
     "name": "stderr",
     "output_type": "stream",
     "text": [
      "Metric val_loss improved by 0.134 >= min_delta = 0.0. New best score: 2.241\n",
      "Epoch 4, global step 12510: 'val_loss' reached 2.24090 (best 2.24090), saving model to 'models\\\\word2vec\\\\20230131_030406\\\\lightning_logs\\\\version_0\\\\checkpoints\\\\epoch=4-step=12510.ckpt' as top 1\n"
     ]
    },
    {
     "data": {
      "application/vnd.jupyter.widget-view+json": {
       "model_id": "",
       "version_major": 2,
       "version_minor": 0
      },
      "text/plain": [
       "Validation: 0it [00:00, ?it/s]"
      ]
     },
     "metadata": {},
     "output_type": "display_data"
    },
    {
     "name": "stderr",
     "output_type": "stream",
     "text": [
      "Metric val_loss improved by 0.103 >= min_delta = 0.0. New best score: 2.138\n",
      "Epoch 5, global step 15012: 'val_loss' reached 2.13789 (best 2.13789), saving model to 'models\\\\word2vec\\\\20230131_030406\\\\lightning_logs\\\\version_0\\\\checkpoints\\\\epoch=5-step=15012.ckpt' as top 1\n"
     ]
    },
    {
     "data": {
      "application/vnd.jupyter.widget-view+json": {
       "model_id": "",
       "version_major": 2,
       "version_minor": 0
      },
      "text/plain": [
       "Validation: 0it [00:00, ?it/s]"
      ]
     },
     "metadata": {},
     "output_type": "display_data"
    },
    {
     "name": "stderr",
     "output_type": "stream",
     "text": [
      "Metric val_loss improved by 0.073 >= min_delta = 0.0. New best score: 2.065\n",
      "Epoch 6, global step 17514: 'val_loss' reached 2.06488 (best 2.06488), saving model to 'models\\\\word2vec\\\\20230131_030406\\\\lightning_logs\\\\version_0\\\\checkpoints\\\\epoch=6-step=17514.ckpt' as top 1\n"
     ]
    },
    {
     "data": {
      "application/vnd.jupyter.widget-view+json": {
       "model_id": "",
       "version_major": 2,
       "version_minor": 0
      },
      "text/plain": [
       "Validation: 0it [00:00, ?it/s]"
      ]
     },
     "metadata": {},
     "output_type": "display_data"
    },
    {
     "name": "stderr",
     "output_type": "stream",
     "text": [
      "Metric val_loss improved by 0.073 >= min_delta = 0.0. New best score: 1.992\n",
      "Epoch 7, global step 20016: 'val_loss' reached 1.99186 (best 1.99186), saving model to 'models\\\\word2vec\\\\20230131_030406\\\\lightning_logs\\\\version_0\\\\checkpoints\\\\epoch=7-step=20016.ckpt' as top 1\n"
     ]
    },
    {
     "data": {
      "application/vnd.jupyter.widget-view+json": {
       "model_id": "",
       "version_major": 2,
       "version_minor": 0
      },
      "text/plain": [
       "Validation: 0it [00:00, ?it/s]"
      ]
     },
     "metadata": {},
     "output_type": "display_data"
    },
    {
     "name": "stderr",
     "output_type": "stream",
     "text": [
      "Metric val_loss improved by 0.051 >= min_delta = 0.0. New best score: 1.941\n",
      "Epoch 8, global step 22518: 'val_loss' reached 1.94110 (best 1.94110), saving model to 'models\\\\word2vec\\\\20230131_030406\\\\lightning_logs\\\\version_0\\\\checkpoints\\\\epoch=8-step=22518.ckpt' as top 1\n"
     ]
    },
    {
     "data": {
      "application/vnd.jupyter.widget-view+json": {
       "model_id": "",
       "version_major": 2,
       "version_minor": 0
      },
      "text/plain": [
       "Validation: 0it [00:00, ?it/s]"
      ]
     },
     "metadata": {},
     "output_type": "display_data"
    },
    {
     "name": "stderr",
     "output_type": "stream",
     "text": [
      "Metric val_loss improved by 0.031 >= min_delta = 0.0. New best score: 1.910\n",
      "Epoch 9, global step 25020: 'val_loss' reached 1.91002 (best 1.91002), saving model to 'models\\\\word2vec\\\\20230131_030406\\\\lightning_logs\\\\version_0\\\\checkpoints\\\\epoch=9-step=25020.ckpt' as top 1\n"
     ]
    },
    {
     "data": {
      "application/vnd.jupyter.widget-view+json": {
       "model_id": "",
       "version_major": 2,
       "version_minor": 0
      },
      "text/plain": [
       "Validation: 0it [00:00, ?it/s]"
      ]
     },
     "metadata": {},
     "output_type": "display_data"
    },
    {
     "name": "stderr",
     "output_type": "stream",
     "text": [
      "Metric val_loss improved by 0.030 >= min_delta = 0.0. New best score: 1.880\n",
      "Epoch 10, global step 27522: 'val_loss' reached 1.87972 (best 1.87972), saving model to 'models\\\\word2vec\\\\20230131_030406\\\\lightning_logs\\\\version_0\\\\checkpoints\\\\epoch=10-step=27522.ckpt' as top 1\n"
     ]
    },
    {
     "data": {
      "application/vnd.jupyter.widget-view+json": {
       "model_id": "",
       "version_major": 2,
       "version_minor": 0
      },
      "text/plain": [
       "Validation: 0it [00:00, ?it/s]"
      ]
     },
     "metadata": {},
     "output_type": "display_data"
    },
    {
     "name": "stderr",
     "output_type": "stream",
     "text": [
      "Metric val_loss improved by 0.019 >= min_delta = 0.0. New best score: 1.861\n",
      "Epoch 11, global step 30024: 'val_loss' reached 1.86056 (best 1.86056), saving model to 'models\\\\word2vec\\\\20230131_030406\\\\lightning_logs\\\\version_0\\\\checkpoints\\\\epoch=11-step=30024.ckpt' as top 1\n"
     ]
    },
    {
     "data": {
      "application/vnd.jupyter.widget-view+json": {
       "model_id": "",
       "version_major": 2,
       "version_minor": 0
      },
      "text/plain": [
       "Validation: 0it [00:00, ?it/s]"
      ]
     },
     "metadata": {},
     "output_type": "display_data"
    },
    {
     "name": "stderr",
     "output_type": "stream",
     "text": [
      "Metric val_loss improved by 0.025 >= min_delta = 0.0. New best score: 1.836\n",
      "Epoch 12, global step 32526: 'val_loss' reached 1.83575 (best 1.83575), saving model to 'models\\\\word2vec\\\\20230131_030406\\\\lightning_logs\\\\version_0\\\\checkpoints\\\\epoch=12-step=32526.ckpt' as top 1\n"
     ]
    },
    {
     "data": {
      "application/vnd.jupyter.widget-view+json": {
       "model_id": "",
       "version_major": 2,
       "version_minor": 0
      },
      "text/plain": [
       "Validation: 0it [00:00, ?it/s]"
      ]
     },
     "metadata": {},
     "output_type": "display_data"
    },
    {
     "name": "stderr",
     "output_type": "stream",
     "text": [
      "Metric val_loss improved by 0.010 >= min_delta = 0.0. New best score: 1.826\n",
      "Epoch 13, global step 35028: 'val_loss' reached 1.82564 (best 1.82564), saving model to 'models\\\\word2vec\\\\20230131_030406\\\\lightning_logs\\\\version_0\\\\checkpoints\\\\epoch=13-step=35028.ckpt' as top 1\n"
     ]
    },
    {
     "data": {
      "application/vnd.jupyter.widget-view+json": {
       "model_id": "",
       "version_major": 2,
       "version_minor": 0
      },
      "text/plain": [
       "Validation: 0it [00:00, ?it/s]"
      ]
     },
     "metadata": {},
     "output_type": "display_data"
    },
    {
     "name": "stderr",
     "output_type": "stream",
     "text": [
      "Metric val_loss improved by 0.028 >= min_delta = 0.0. New best score: 1.797\n",
      "Epoch 14, global step 37530: 'val_loss' reached 1.79746 (best 1.79746), saving model to 'models\\\\word2vec\\\\20230131_030406\\\\lightning_logs\\\\version_0\\\\checkpoints\\\\epoch=14-step=37530.ckpt' as top 1\n"
     ]
    },
    {
     "data": {
      "application/vnd.jupyter.widget-view+json": {
       "model_id": "",
       "version_major": 2,
       "version_minor": 0
      },
      "text/plain": [
       "Validation: 0it [00:00, ?it/s]"
      ]
     },
     "metadata": {},
     "output_type": "display_data"
    },
    {
     "name": "stderr",
     "output_type": "stream",
     "text": [
      "Metric val_loss improved by 0.000 >= min_delta = 0.0. New best score: 1.797\n",
      "Epoch 15, global step 40032: 'val_loss' reached 1.79739 (best 1.79739), saving model to 'models\\\\word2vec\\\\20230131_030406\\\\lightning_logs\\\\version_0\\\\checkpoints\\\\epoch=15-step=40032.ckpt' as top 1\n"
     ]
    },
    {
     "data": {
      "application/vnd.jupyter.widget-view+json": {
       "model_id": "",
       "version_major": 2,
       "version_minor": 0
      },
      "text/plain": [
       "Validation: 0it [00:00, ?it/s]"
      ]
     },
     "metadata": {},
     "output_type": "display_data"
    },
    {
     "name": "stderr",
     "output_type": "stream",
     "text": [
      "Metric val_loss improved by 0.008 >= min_delta = 0.0. New best score: 1.789\n",
      "Epoch 16, global step 42534: 'val_loss' reached 1.78925 (best 1.78925), saving model to 'models\\\\word2vec\\\\20230131_030406\\\\lightning_logs\\\\version_0\\\\checkpoints\\\\epoch=16-step=42534.ckpt' as top 1\n"
     ]
    },
    {
     "data": {
      "application/vnd.jupyter.widget-view+json": {
       "model_id": "",
       "version_major": 2,
       "version_minor": 0
      },
      "text/plain": [
       "Validation: 0it [00:00, ?it/s]"
      ]
     },
     "metadata": {},
     "output_type": "display_data"
    },
    {
     "name": "stderr",
     "output_type": "stream",
     "text": [
      "Metric val_loss improved by 0.013 >= min_delta = 0.0. New best score: 1.776\n",
      "Epoch 17, global step 45036: 'val_loss' reached 1.77615 (best 1.77615), saving model to 'models\\\\word2vec\\\\20230131_030406\\\\lightning_logs\\\\version_0\\\\checkpoints\\\\epoch=17-step=45036.ckpt' as top 1\n",
      "s:\\dev\\seahrh\\kaggle-otto-recommender-system-2022\\env\\lib\\site-packages\\pytorch_lightning\\trainer\\trainer.py:653: UserWarning: Detected KeyboardInterrupt, attempting graceful shutdown...\n",
      "  rank_zero_warn(\"Detected KeyboardInterrupt, attempting graceful shutdown...\")\n"
     ]
    }
   ],
   "source": [
    "gc.collect()\n",
    "torch.cuda.empty_cache()\n",
    "trainer = pl.Trainer(\n",
    "    default_root_dir=job_dir,\n",
    "    accelerator=\"gpu\", \n",
    "    devices=conf.gpus,\n",
    "    max_epochs=conf.epochs,  \n",
    "    callbacks=mylib.training_callbacks(patience=conf.patience),\n",
    "    deterministic=False,\n",
    ")\n",
    "trainer.fit(\n",
    "    model,\n",
    "    train_dataloaders=DataLoader(\n",
    "        tra_ds,\n",
    "        batch_size=conf.batch_size,\n",
    "        shuffle=True,\n",
    "        num_workers=0,\n",
    "    ),\n",
    "    val_dataloaders=DataLoader(\n",
    "        val_ds,\n",
    "        batch_size=conf.batch_size,\n",
    "        shuffle=False,\n",
    "        num_workers=0,\n",
    "    ),\n",
    ")"
   ]
  },
  {
   "cell_type": "code",
   "execution_count": 13,
   "id": "7e2cdc61",
   "metadata": {},
   "outputs": [
    {
     "name": "stdout",
     "output_type": "stream",
     "text": [
      "Total time taken 5:48:11.636069\n",
      "Saved models\\word2vec\\20230131_030406\n"
     ]
    }
   ],
   "source": [
    "tim.stop()\n",
    "print(f\"Total time taken {str(tim.elapsed)}\")\n",
    "print(f\"Saved {str(job_dir)}\")"
   ]
  }
 ],
 "metadata": {
  "kernelspec": {
   "display_name": "Python 3 (ipykernel)",
   "language": "python",
   "name": "python3"
  },
  "language_info": {
   "codemirror_mode": {
    "name": "ipython",
    "version": 3
   },
   "file_extension": ".py",
   "mimetype": "text/x-python",
   "name": "python",
   "nbconvert_exporter": "python",
   "pygments_lexer": "ipython3",
   "version": "3.7.5"
  }
 },
 "nbformat": 4,
 "nbformat_minor": 5
}
