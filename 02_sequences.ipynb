{
 "cells": [
  {
   "cell_type": "code",
   "execution_count": 1,
   "id": "7a40414c",
   "metadata": {},
   "outputs": [],
   "source": [
    "import json\n",
    "import numpy as np\n",
    "import pandas as pd\n",
    "from tqdm import tqdm\n",
    "from typing import Dict"
   ]
  },
  {
   "cell_type": "code",
   "execution_count": 2,
   "id": "5e812401",
   "metadata": {},
   "outputs": [],
   "source": [
    "percentiles=[.01, .05, .1, .2, .3, .4, .5, .6, .7, .8, .9, .95, .99]\n",
    "pd.set_option(\"use_inf_as_na\", True)\n",
    "pd.set_option(\"max_info_columns\", 9999)\n",
    "pd.set_option(\"display.max_columns\", 9999)\n",
    "pd.set_option(\"display.max_rows\", 9999)\n",
    "pd.set_option('max_colwidth', 9999)\n",
    "tqdm.pandas()"
   ]
  },
  {
   "cell_type": "code",
   "execution_count": 3,
   "id": "b5126c1a",
   "metadata": {},
   "outputs": [
    {
     "name": "stdout",
     "output_type": "stream",
     "text": [
      "<class 'pandas.core.frame.DataFrame'>\n",
      "RangeIndex: 216716096 entries, 0 to 216716095\n",
      "Data columns (total 4 columns):\n",
      " #   Column   Dtype\n",
      "---  ------   -----\n",
      " 0   session  int32\n",
      " 1   aid      int32\n",
      " 2   ts       int64\n",
      " 3   type     int8 \n",
      "dtypes: int32(2), int64(1), int8(1)\n",
      "memory usage: 3.4 GB\n"
     ]
    }
   ],
   "source": [
    "# already sorted by session, timestamp\n",
    "df = pd.read_parquet(\"input/transactions.parquet\")\n",
    "df.info()"
   ]
  },
  {
   "cell_type": "code",
   "execution_count": 4,
   "id": "e502faff",
   "metadata": {},
   "outputs": [
    {
     "name": "stderr",
     "output_type": "stream",
     "text": [
      "216716096it [08:42, 414826.93it/s]\n"
     ]
    }
   ],
   "source": [
    "vocab: Dict[str, int] = {\n",
    "    \"<s>\": 0,\n",
    "    \"<pad>\": 1,\n",
    "    \"</s>\": 2,\n",
    "    \"<unk>\": 3,\n",
    "    \"<mask>\": 4,\n",
    "    \"<cls>\": 5,\n",
    "    \"<click>\": 6,\n",
    "    \"<cart>\": 7,\n",
    "    \"<order>\": 8,\n",
    "}\n",
    "_next = len(vocab)\n",
    "prev = None\n",
    "words = []\n",
    "rows = []\n",
    "for t in tqdm(df.itertuples()):\n",
    "    curr = int(getattr(t, \"session\"))\n",
    "    if prev is not None and prev!=curr and len(words)!=0:\n",
    "        rows.append({\n",
    "            \"session\": prev,\n",
    "            \"seq\": \" \".join(words),\n",
    "            \"length\": len(words),\n",
    "        })\n",
    "        words = []\n",
    "    prev = curr\n",
    "    _type = int(getattr(t, \"type\"))\n",
    "    first = \"<click>\"\n",
    "    if _type==1:\n",
    "        first = \"<cart>\"\n",
    "    elif _type==2:\n",
    "        first = \"<order>\"\n",
    "    aid = str(getattr(t, \"aid\"))\n",
    "    if aid not in vocab:\n",
    "        vocab[aid] = _next\n",
    "        _next += 1\n",
    "    second = aid\n",
    "    words += [first, second]\n",
    "if len(words)!=0:\n",
    "    rows.append({\n",
    "        \"session\": prev,\n",
    "        \"seq\": \" \".join(words),\n",
    "        \"length\": len(words),\n",
    "    })"
   ]
  },
  {
   "cell_type": "code",
   "execution_count": 5,
   "id": "0adb4739",
   "metadata": {},
   "outputs": [
    {
     "name": "stdout",
     "output_type": "stream",
     "text": [
      "len(vocab)=1,855,612\n"
     ]
    }
   ],
   "source": [
    "print(f\"len(vocab)={len(vocab):,}\")\n",
    "with open(\"output/vocab.json\", \"w\") as f:\n",
    "    json.dump(vocab, f)\n",
    "with open(\"output/vocab.txt\", \"w\") as f:\n",
    "    words = [\"\"] * len(vocab)\n",
    "    for k,v in vocab.items():\n",
    "        words[v] = k\n",
    "    for w in words:\n",
    "        f.write(f\"{w}\\n\")"
   ]
  },
  {
   "cell_type": "code",
   "execution_count": 6,
   "id": "2a1279c9",
   "metadata": {},
   "outputs": [
    {
     "name": "stdout",
     "output_type": "stream",
     "text": [
      "<class 'pandas.core.frame.DataFrame'>\n",
      "RangeIndex: 12899779 entries, 0 to 12899778\n",
      "Data columns (total 3 columns):\n",
      " #   Column   Dtype \n",
      "---  ------   ----- \n",
      " 0   session  int32 \n",
      " 1   seq      object\n",
      " 2   length   int16 \n",
      "dtypes: int16(1), int32(1), object(1)\n",
      "memory usage: 172.2+ MB\n"
     ]
    }
   ],
   "source": [
    "df = pd.DataFrame.from_records(rows)\n",
    "cols = [\"session\"]\n",
    "df[cols] = df[cols].astype(np.int32)\n",
    "cols = [\"length\"]\n",
    "df[cols] = df[cols].astype(np.int16)\n",
    "df.info()"
   ]
  },
  {
   "cell_type": "code",
   "execution_count": 7,
   "id": "ae7ccf5f",
   "metadata": {},
   "outputs": [
    {
     "data": {
      "text/html": [
       "<div>\n",
       "<style scoped>\n",
       "    .dataframe tbody tr th:only-of-type {\n",
       "        vertical-align: middle;\n",
       "    }\n",
       "\n",
       "    .dataframe tbody tr th {\n",
       "        vertical-align: top;\n",
       "    }\n",
       "\n",
       "    .dataframe thead th {\n",
       "        text-align: right;\n",
       "    }\n",
       "</style>\n",
       "<table border=\"1\" class=\"dataframe\">\n",
       "  <thead>\n",
       "    <tr style=\"text-align: right;\">\n",
       "      <th></th>\n",
       "      <th>session</th>\n",
       "      <th>length</th>\n",
       "    </tr>\n",
       "  </thead>\n",
       "  <tbody>\n",
       "    <tr>\n",
       "      <th>count</th>\n",
       "      <td>1.289978e+07</td>\n",
       "      <td>1.289978e+07</td>\n",
       "    </tr>\n",
       "    <tr>\n",
       "      <th>mean</th>\n",
       "      <td>6.449889e+06</td>\n",
       "      <td>3.359997e+01</td>\n",
       "    </tr>\n",
       "    <tr>\n",
       "      <th>std</th>\n",
       "      <td>3.723846e+06</td>\n",
       "      <td>6.715476e+01</td>\n",
       "    </tr>\n",
       "    <tr>\n",
       "      <th>min</th>\n",
       "      <td>0.000000e+00</td>\n",
       "      <td>4.000000e+00</td>\n",
       "    </tr>\n",
       "    <tr>\n",
       "      <th>1%</th>\n",
       "      <td>1.289978e+05</td>\n",
       "      <td>4.000000e+00</td>\n",
       "    </tr>\n",
       "    <tr>\n",
       "      <th>5%</th>\n",
       "      <td>6.449889e+05</td>\n",
       "      <td>4.000000e+00</td>\n",
       "    </tr>\n",
       "    <tr>\n",
       "      <th>10%</th>\n",
       "      <td>1.289978e+06</td>\n",
       "      <td>4.000000e+00</td>\n",
       "    </tr>\n",
       "    <tr>\n",
       "      <th>20%</th>\n",
       "      <td>2.579956e+06</td>\n",
       "      <td>6.000000e+00</td>\n",
       "    </tr>\n",
       "    <tr>\n",
       "      <th>30%</th>\n",
       "      <td>3.869933e+06</td>\n",
       "      <td>6.000000e+00</td>\n",
       "    </tr>\n",
       "    <tr>\n",
       "      <th>40%</th>\n",
       "      <td>5.159911e+06</td>\n",
       "      <td>8.000000e+00</td>\n",
       "    </tr>\n",
       "    <tr>\n",
       "      <th>50%</th>\n",
       "      <td>6.449889e+06</td>\n",
       "      <td>1.200000e+01</td>\n",
       "    </tr>\n",
       "    <tr>\n",
       "      <th>60%</th>\n",
       "      <td>7.739867e+06</td>\n",
       "      <td>1.600000e+01</td>\n",
       "    </tr>\n",
       "    <tr>\n",
       "      <th>70%</th>\n",
       "      <td>9.029845e+06</td>\n",
       "      <td>2.400000e+01</td>\n",
       "    </tr>\n",
       "    <tr>\n",
       "      <th>80%</th>\n",
       "      <td>1.031982e+07</td>\n",
       "      <td>4.000000e+01</td>\n",
       "    </tr>\n",
       "    <tr>\n",
       "      <th>90%</th>\n",
       "      <td>1.160980e+07</td>\n",
       "      <td>7.800000e+01</td>\n",
       "    </tr>\n",
       "    <tr>\n",
       "      <th>95%</th>\n",
       "      <td>1.225479e+07</td>\n",
       "      <td>1.360000e+02</td>\n",
       "    </tr>\n",
       "    <tr>\n",
       "      <th>99%</th>\n",
       "      <td>1.277078e+07</td>\n",
       "      <td>3.520000e+02</td>\n",
       "    </tr>\n",
       "    <tr>\n",
       "      <th>max</th>\n",
       "      <td>1.289978e+07</td>\n",
       "      <td>1.000000e+03</td>\n",
       "    </tr>\n",
       "  </tbody>\n",
       "</table>\n",
       "</div>"
      ],
      "text/plain": [
       "            session        length\n",
       "count  1.289978e+07  1.289978e+07\n",
       "mean   6.449889e+06  3.359997e+01\n",
       "std    3.723846e+06  6.715476e+01\n",
       "min    0.000000e+00  4.000000e+00\n",
       "1%     1.289978e+05  4.000000e+00\n",
       "5%     6.449889e+05  4.000000e+00\n",
       "10%    1.289978e+06  4.000000e+00\n",
       "20%    2.579956e+06  6.000000e+00\n",
       "30%    3.869933e+06  6.000000e+00\n",
       "40%    5.159911e+06  8.000000e+00\n",
       "50%    6.449889e+06  1.200000e+01\n",
       "60%    7.739867e+06  1.600000e+01\n",
       "70%    9.029845e+06  2.400000e+01\n",
       "80%    1.031982e+07  4.000000e+01\n",
       "90%    1.160980e+07  7.800000e+01\n",
       "95%    1.225479e+07  1.360000e+02\n",
       "99%    1.277078e+07  3.520000e+02\n",
       "max    1.289978e+07  1.000000e+03"
      ]
     },
     "execution_count": 7,
     "metadata": {},
     "output_type": "execute_result"
    }
   ],
   "source": [
    "df.describe(percentiles=percentiles)"
   ]
  },
  {
   "cell_type": "code",
   "execution_count": 8,
   "id": "6cdb42f4",
   "metadata": {},
   "outputs": [
    {
     "data": {
      "text/html": [
       "<div>\n",
       "<style scoped>\n",
       "    .dataframe tbody tr th:only-of-type {\n",
       "        vertical-align: middle;\n",
       "    }\n",
       "\n",
       "    .dataframe tbody tr th {\n",
       "        vertical-align: top;\n",
       "    }\n",
       "\n",
       "    .dataframe thead th {\n",
       "        text-align: right;\n",
       "    }\n",
       "</style>\n",
       "<table border=\"1\" class=\"dataframe\">\n",
       "  <thead>\n",
       "    <tr style=\"text-align: right;\">\n",
       "      <th></th>\n",
       "      <th>session</th>\n",
       "      <th>seq</th>\n",
       "      <th>length</th>\n",
       "    </tr>\n",
       "  </thead>\n",
       "  <tbody>\n",
       "    <tr>\n",
       "      <th>0</th>\n",
       "      <td>0</td>\n",
       "      <td>&lt;click&gt; 1517085 &lt;click&gt; 1563459 &lt;click&gt; 1309446 &lt;click&gt; 16246 &lt;click&gt; 1781822 &lt;click&gt; 1152674 &lt;cart&gt; 1649869 &lt;cart&gt; 461689 &lt;order&gt; 305831 &lt;order&gt; 461689 &lt;click&gt; 362233 &lt;click&gt; 1649869 &lt;click&gt; 1649869 &lt;click&gt; 984597 &lt;click&gt; 1649869 &lt;click&gt; 803544 &lt;click&gt; 1110941 &lt;click&gt; 1190046 &lt;click&gt; 1760685 &lt;click&gt; 631008 &lt;click&gt; 461689 &lt;click&gt; 1190046 &lt;click&gt; 1650637 &lt;click&gt; 313546 &lt;click&gt; 1650637 &lt;click&gt; 979517 &lt;click&gt; 351157 &lt;click&gt; 1062149 &lt;click&gt; 1157384 &lt;click&gt; 1841388 &lt;click&gt; 1469630 &lt;click&gt; 305831 &lt;click&gt; 1110548 &lt;click&gt; 1110548 &lt;click&gt; 305831 &lt;click&gt; 1650114 &lt;click&gt; 1604396 &lt;click&gt; 1009750 &lt;click&gt; 1800933 &lt;click&gt; 495779 &lt;click&gt; 394655 &lt;click&gt; 495779 &lt;click&gt; 789245 &lt;cart&gt; 789245 &lt;click&gt; 366890 &lt;click&gt; 361317 &lt;click&gt; 1700164 &lt;click&gt; 1755597 &lt;click&gt; 789245 &lt;click&gt; 784978 &lt;click&gt; 1171505 &lt;click&gt; 784978 &lt;click&gt; 1700164 &lt;click&gt; 784978 &lt;click&gt; 1521766 &lt;click&gt; 1725503 &lt;click&gt; 528847 &lt;click&gt; 1816325 &lt;click&gt; 984597 &lt;click&gt; 1072782 &lt;click&gt; 173702 &lt;click&gt; 1072782 &lt;click&gt; 1407538 &lt;click&gt; 1629651 &lt;click&gt; 1768568 &lt;click&gt; 1318324 &lt;click&gt; 1840418 &lt;click&gt; 1813509 &lt;click&gt; 1813509 &lt;click&gt; 667924 &lt;click&gt; 1226444 &lt;click&gt; 709550 &lt;click&gt; 709417 &lt;click&gt; 1225559 &lt;click&gt; 1048044 &lt;click&gt; 1052813 &lt;click&gt; 1225559 &lt;click&gt; 240346 &lt;click&gt; 1582117 &lt;click&gt; 1707783 &lt;click&gt; 1624436 &lt;click&gt; 1157411 &lt;click&gt; 358305 &lt;click&gt; 1202970 &lt;click&gt; 832192 &lt;click&gt; 1498443 &lt;click&gt; 723931 &lt;click&gt; 1436439 &lt;click&gt; 1693461 &lt;click&gt; 1206554 &lt;click&gt; 1110741 &lt;click&gt; 346352 &lt;click&gt; 1802050 &lt;click&gt; 154930 &lt;click&gt; 964169 &lt;click&gt; 964169 &lt;click&gt; 823637 &lt;click&gt; 964169 &lt;click&gt; 1411683 &lt;click&gt; 964169 &lt;click&gt; 1167722 &lt;click&gt; 964169 &lt;click&gt; 1619737 &lt;click&gt; 964169 &lt;click&gt; 1840615 &lt;click&gt; 512756 &lt;click&gt; 946219 &lt;click&gt; 1090479 &lt;click&gt; 1164387 &lt;click&gt; 1308544 &lt;click&gt; 719622 &lt;click&gt; 1750538 &lt;click&gt; 1443747 &lt;click&gt; 1750538 &lt;click&gt; 337364 &lt;click&gt; 1653945 &lt;click&gt; 1222638 &lt;click&gt; 1622987 &lt;click&gt; 608383 &lt;click&gt; 1460239 &lt;click&gt; 1436439 &lt;click&gt; 321397 &lt;click&gt; 828625 &lt;click&gt; 1624436 &lt;click&gt; 1157411 &lt;click&gt; 1537907 &lt;click&gt; 1070142 &lt;click&gt; 959208 &lt;click&gt; 275288 &lt;click&gt; 1318324 &lt;click&gt; 1072782 &lt;click&gt; 1072782 &lt;click&gt; 173702 &lt;click&gt; 1428075 &lt;click&gt; 892659 &lt;click&gt; 1127565 &lt;click&gt; 1072782 &lt;click&gt; 97836 &lt;click&gt; 384343 &lt;click&gt; 218130 &lt;click&gt; 294248 &lt;click&gt; 166547 &lt;click&gt; 504365 &lt;click&gt; 102416 &lt;click&gt; 30373 &lt;click&gt; 724999 &lt;click&gt; 1110548 &lt;click&gt; 10268 &lt;click&gt; 219925 &lt;click&gt; 1140855 &lt;click&gt; 915702 &lt;click&gt; 480578 &lt;click&gt; 1145803 &lt;click&gt; 480578 &lt;click&gt; 516456 &lt;click&gt; 536842 &lt;click&gt; 1446430 &lt;click&gt; 581169 &lt;click&gt; 976007 &lt;click&gt; 667322 &lt;click&gt; 1801525 &lt;click&gt; 1767945 &lt;click&gt; 1342014 &lt;click&gt; 1813509 &lt;click&gt; 1785321 &lt;click&gt; 1813509 &lt;click&gt; 1840615 &lt;click&gt; 1689148 &lt;click&gt; 1840615 &lt;click&gt; 72748 &lt;click&gt; 1049280 &lt;click&gt; 1436439 &lt;click&gt; 6851 &lt;click&gt; 1433235 &lt;click&gt; 7563 &lt;click&gt; 1766089 &lt;click&gt; 7563 &lt;click&gt; 570955 &lt;click&gt; 1766089 &lt;click&gt; 570955 &lt;cart&gt; 974651 &lt;click&gt; 974651 &lt;cart&gt; 974651 &lt;cart&gt; 974651 &lt;cart&gt; 280978 &lt;cart&gt; 1521766 &lt;click&gt; 661144 &lt;cart&gt; 1760145 &lt;click&gt; 1639229 &lt;click&gt; 1624436 &lt;click&gt; 738987 &lt;click&gt; 1436439 &lt;click&gt; 102416 &lt;click&gt; 190818 &lt;click&gt; 1157411 &lt;click&gt; 138431 &lt;click&gt; 543308 &lt;click&gt; 1760145 &lt;click&gt; 543308 &lt;cart&gt; 275288 &lt;click&gt; 275288 &lt;click&gt; 1760145 &lt;click&gt; 974651 &lt;cart&gt; 974651 &lt;click&gt; 1760145 &lt;click&gt; 570955 &lt;click&gt; 661144 &lt;click&gt; 362233 &lt;click&gt; 362233 &lt;click&gt; 1760145 &lt;click&gt; 275288 &lt;click&gt; 974651 &lt;click&gt; 543308 &lt;click&gt; 624343 &lt;click&gt; 543308 &lt;click&gt; 723612 &lt;click&gt; 543308 &lt;cart&gt; 543308 &lt;cart&gt; 543308 &lt;click&gt; 442293 &lt;cart&gt; 442293 &lt;click&gt; 442293 &lt;click&gt; 442293 &lt;click&gt; 171073 &lt;click&gt; 851778 &lt;click&gt; 976134 &lt;click&gt; 856506 &lt;cart&gt; 1549618 &lt;click&gt; 419161 &lt;click&gt; 543308 &lt;click&gt; 1549618 &lt;click&gt; 760277 &lt;click&gt; 1549618 &lt;click&gt; 702179 &lt;click&gt; 1549618 &lt;click&gt; 1587393 &lt;click&gt; 76358 &lt;click&gt; 1549618 &lt;click&gt; 1199474 &lt;cart&gt; 1199474 &lt;click&gt; 1386923 &lt;click&gt; 1055124 &lt;click&gt; 859697 &lt;click&gt; 1055124 &lt;click&gt; 1386923 &lt;order&gt; 1199474 &lt;order&gt; 543308 &lt;click&gt; 961113 &lt;click&gt; 883849 &lt;click&gt; 701766 &lt;click&gt; 924751 &lt;click&gt; 168206 &lt;click&gt; 924751 &lt;click&gt; 219033 &lt;click&gt; 171982 &lt;click&gt; 1319939 &lt;click&gt; 1349536 &lt;click&gt; 334392 &lt;click&gt; 1349536 &lt;click&gt; 1349536 &lt;click&gt; 165096 &lt;click&gt; 315914 &lt;cart&gt; 315914 &lt;click&gt; 1680276 &lt;click&gt; 1818905 &lt;click&gt; 334392 &lt;click&gt; 1048797 &lt;click&gt; 1048797 &lt;click&gt; 543308 &lt;click&gt; 341626 &lt;click&gt; 219925 &lt;click&gt; 843110 &lt;click&gt; 938007 &lt;click&gt; 1228848 &lt;click&gt; 1740927 &lt;click&gt; 161938</td>\n",
       "      <td>552</td>\n",
       "    </tr>\n",
       "    <tr>\n",
       "      <th>1</th>\n",
       "      <td>1</td>\n",
       "      <td>&lt;cart&gt; 424964 &lt;click&gt; 1492293 &lt;cart&gt; 1492293 &lt;click&gt; 910862 &lt;cart&gt; 910862 &lt;click&gt; 1491172 &lt;cart&gt; 1491172 &lt;click&gt; 424964 &lt;click&gt; 1515526 &lt;click&gt; 440486 &lt;click&gt; 109488 &lt;click&gt; 1507622 &lt;click&gt; 1734061 &lt;click&gt; 854637 &lt;cart&gt; 854637 &lt;click&gt; 718983 &lt;click&gt; 215311 &lt;cart&gt; 215311 &lt;click&gt; 718983 &lt;click&gt; 711125 &lt;cart&gt; 711125 &lt;click&gt; 50049 &lt;click&gt; 105393 &lt;cart&gt; 105393 &lt;click&gt; 959544 &lt;click&gt; 1734061 &lt;click&gt; 1842593 &lt;click&gt; 1464360 &lt;click&gt; 207905 &lt;click&gt; 1628317 &lt;click&gt; 376932 &lt;click&gt; 497868</td>\n",
       "      <td>64</td>\n",
       "    </tr>\n",
       "    <tr>\n",
       "      <th>2</th>\n",
       "      <td>2</td>\n",
       "      <td>&lt;click&gt; 763743 &lt;click&gt; 137492 &lt;click&gt; 504789 &lt;click&gt; 137492 &lt;click&gt; 795863 &lt;click&gt; 378348 &lt;click&gt; 795863 &lt;click&gt; 26638 &lt;click&gt; 817441 &lt;click&gt; 1405904 &lt;click&gt; 545290 &lt;click&gt; 935830 &lt;click&gt; 935830 &lt;click&gt; 1593105 &lt;click&gt; 427698 &lt;click&gt; 414004 &lt;click&gt; 465360 &lt;click&gt; 526287 &lt;click&gt; 567119 &lt;click&gt; 1577398 &lt;cart&gt; 161269 &lt;click&gt; 1577398 &lt;click&gt; 78519 &lt;click&gt; 1605583 &lt;click&gt; 690631 &lt;click&gt; 295985 &lt;click&gt; 553269 &lt;click&gt; 555062 &lt;click&gt; 1605711 &lt;click&gt; 485582 &lt;click&gt; 477910 &lt;click&gt; 808782 &lt;click&gt; 672473</td>\n",
       "      <td>66</td>\n",
       "    </tr>\n",
       "    <tr>\n",
       "      <th>3</th>\n",
       "      <td>3</td>\n",
       "      <td>&lt;cart&gt; 1425967 &lt;click&gt; 1425967 &lt;click&gt; 1343406 &lt;click&gt; 1343406 &lt;cart&gt; 1343406 &lt;click&gt; 1425967 &lt;click&gt; 1343406 &lt;click&gt; 1815570 &lt;click&gt; 287008 &lt;click&gt; 1343406 &lt;click&gt; 1425967 &lt;click&gt; 1809571 &lt;click&gt; 1089061 &lt;click&gt; 746072 &lt;click&gt; 1015324 &lt;click&gt; 1215662 &lt;click&gt; 1089061 &lt;cart&gt; 1089061 &lt;click&gt; 1089061 &lt;order&gt; 357461 &lt;order&gt; 1343406 &lt;order&gt; 1425967 &lt;click&gt; 1425967 &lt;click&gt; 1343406 &lt;click&gt; 357461 &lt;click&gt; 357461 &lt;click&gt; 357461 &lt;click&gt; 1343406 &lt;click&gt; 1343406 &lt;click&gt; 1343406 &lt;click&gt; 1105267 &lt;click&gt; 1343406 &lt;click&gt; 392840 &lt;click&gt; 574683 &lt;click&gt; 825711 &lt;click&gt; 1622133 &lt;click&gt; 1065620 &lt;click&gt; 713701 &lt;click&gt; 1343406 &lt;click&gt; 1343406 &lt;click&gt; 1632093 &lt;click&gt; 1090485 &lt;click&gt; 1632093 &lt;click&gt; 1305368 &lt;click&gt; 968885 &lt;click&gt; 2512 &lt;click&gt; 1343406 &lt;click&gt; 357461 &lt;click&gt; 984459 &lt;cart&gt; 984459 &lt;click&gt; 984459 &lt;click&gt; 622368 &lt;click&gt; 578649 &lt;click&gt; 1253857 &lt;click&gt; 1660613 &lt;cart&gt; 1660613 &lt;click&gt; 840023 &lt;click&gt; 774320 &lt;click&gt; 300295 &lt;click&gt; 774320 &lt;cart&gt; 774320 &lt;click&gt; 722275 &lt;click&gt; 979687 &lt;click&gt; 1402624 &lt;click&gt; 308831 &lt;click&gt; 308831 &lt;cart&gt; 308831 &lt;click&gt; 471114 &lt;click&gt; 308831 &lt;click&gt; 127764 &lt;click&gt; 1018433 &lt;cart&gt; 1018433 &lt;click&gt; 1018433 &lt;click&gt; 714724 &lt;cart&gt; 714724 &lt;click&gt; 714724 &lt;click&gt; 1018433 &lt;click&gt; 714724 &lt;click&gt; 1221074 &lt;click&gt; 1171628 &lt;click&gt; 284722 &lt;click&gt; 490305 &lt;click&gt; 1436022 &lt;click&gt; 1198969 &lt;click&gt; 763925 &lt;click&gt; 880139 &lt;click&gt; 727609 &lt;click&gt; 528531 &lt;click&gt; 722275 &lt;click&gt; 1584672 &lt;click&gt; 526790 &lt;click&gt; 1554339 &lt;cart&gt; 1554339 &lt;click&gt; 711446 &lt;click&gt; 128326 &lt;cart&gt; 128326 &lt;click&gt; 128326 &lt;click&gt; 536803 &lt;click&gt; 1348328 &lt;click&gt; 74985 &lt;click&gt; 642154 &lt;click&gt; 705264 &lt;click&gt; 87629 &lt;click&gt; 1808351 &lt;cart&gt; 1808351 &lt;click&gt; 1808351 &lt;click&gt; 749898 &lt;click&gt; 1772909 &lt;click&gt; 905009 &lt;click&gt; 284722 &lt;click&gt; 54857 &lt;cart&gt; 54857 &lt;click&gt; 1528155 &lt;click&gt; 1712999 &lt;click&gt; 692635 &lt;click&gt; 1500975 &lt;click&gt; 771063 &lt;click&gt; 547781 &lt;click&gt; 692635 &lt;click&gt; 54857 &lt;click&gt; 1002270 &lt;click&gt; 254870 &lt;click&gt; 1504981 &lt;cart&gt; 1504981 &lt;click&gt; 254870 &lt;click&gt; 1504981 &lt;click&gt; 1377572 &lt;click&gt; 1009427 &lt;click&gt; 1712999 &lt;cart&gt; 1712999 &lt;click&gt; 54857 &lt;click&gt; 1712999 &lt;click&gt; 1712999 &lt;click&gt; 54857 &lt;click&gt; 1712999 &lt;click&gt; 54857 &lt;click&gt; 1712999 &lt;click&gt; 54857 &lt;click&gt; 1018433 &lt;click&gt; 54857 &lt;click&gt; 54857 &lt;click&gt; 1018433 &lt;click&gt; 1143262 &lt;click&gt; 836094 &lt;click&gt; 1498272 &lt;click&gt; 3999 &lt;click&gt; 1359109 &lt;click&gt; 1119655 &lt;click&gt; 708908 &lt;click&gt; 588531 &lt;click&gt; 116139 &lt;cart&gt; 116139 &lt;click&gt; 96976 &lt;click&gt; 116139 &lt;click&gt; 1498013 &lt;click&gt; 332817 &lt;cart&gt; 332817 &lt;click&gt; 812246 &lt;cart&gt; 812246 &lt;click&gt; 822461 &lt;click&gt; 636903 &lt;click&gt; 172698 &lt;click&gt; 1533194 &lt;click&gt; 1802976 &lt;click&gt; 360657 &lt;click&gt; 1111431 &lt;click&gt; 172051 &lt;click&gt; 340594 &lt;click&gt; 123362 &lt;click&gt; 1633901 &lt;click&gt; 88711 &lt;click&gt; 1325760 &lt;click&gt; 1202088 &lt;click&gt; 672286 &lt;click&gt; 614085 &lt;click&gt; 1713400 &lt;click&gt; 1748862 &lt;click&gt; 108125 &lt;click&gt; 1332980 &lt;click&gt; 93934 &lt;click&gt; 532565 &lt;click&gt; 1282243 &lt;click&gt; 1708257 &lt;click&gt; 37450 &lt;click&gt; 33731 &lt;click&gt; 546144 &lt;click&gt; 1175830 &lt;click&gt; 1152906 &lt;click&gt; 1754057 &lt;click&gt; 1443710 &lt;click&gt; 1001000 &lt;click&gt; 1124086 &lt;click&gt; 1278281 &lt;click&gt; 1536010 &lt;click&gt; 904809 &lt;click&gt; 659496 &lt;click&gt; 1799121 &lt;click&gt; 693368 &lt;order&gt; 1018433 &lt;order&gt; 54857 &lt;click&gt; 618373 &lt;click&gt; 618373 &lt;click&gt; 618373 &lt;click&gt; 1018433 &lt;click&gt; 54857 &lt;click&gt; 54857 &lt;click&gt; 282175 &lt;click&gt; 1061225 &lt;click&gt; 802541 &lt;click&gt; 802541 &lt;click&gt; 1397226 &lt;click&gt; 1397226 &lt;click&gt; 1638009 &lt;cart&gt; 1638009 &lt;click&gt; 656980 &lt;click&gt; 466658 &lt;click&gt; 1251514 &lt;click&gt; 1261998 &lt;cart&gt; 1261998 &lt;click&gt; 1575102 &lt;click&gt; 1575102 &lt;click&gt; 1261998 &lt;click&gt; 1431783 &lt;click&gt; 925352 &lt;click&gt; 925352 &lt;cart&gt; 925352</td>\n",
       "      <td>452</td>\n",
       "    </tr>\n",
       "    <tr>\n",
       "      <th>4</th>\n",
       "      <td>4</td>\n",
       "      <td>&lt;click&gt; 613619 &lt;click&gt; 298827 &lt;order&gt; 298827 &lt;click&gt; 383828 &lt;click&gt; 255379 &lt;click&gt; 1838173 &lt;click&gt; 1453726 &lt;click&gt; 1838173 &lt;click&gt; 255379 &lt;click&gt; 383828 &lt;click&gt; 1554752 &lt;cart&gt; 1554752 &lt;click&gt; 917213 &lt;cart&gt; 917213 &lt;click&gt; 758750 &lt;cart&gt; 758750 &lt;click&gt; 678521 &lt;click&gt; 1081407 &lt;click&gt; 479396</td>\n",
       "      <td>38</td>\n",
       "    </tr>\n",
       "  </tbody>\n",
       "</table>\n",
       "</div>"
      ],
      "text/plain": [
       "   session  \\\n",
       "0        0   \n",
       "1        1   \n",
       "2        2   \n",
       "3        3   \n",
       "4        4   \n",
       "\n",
       "                                                                                                                                                                                                                                                                                                                                                                                                                                                                                                                                                                                                                                                                                                                                                                                                                                                                                                                                                                                                                                                                                                                                                                                                                                                                                                                                                                                                                                                                                                                                                                                                                                                                                                                                                                                                                                                                                                                                                                                                                                                                                                                                                                                                                                                                                                                                                                                                                                                                                                                                                                                                                                                                                                                                                                                                                                                                                                                                                                                                                                                                                                                                                                                                                                                                                                                                                                                                                                                                                                                                                                                                                                                                                                                                                                                                                                                                                                                                                                                                                                                                                                                                                                                                                                                                                                                                                                                                                   seq  \\\n",
       "0  <click> 1517085 <click> 1563459 <click> 1309446 <click> 16246 <click> 1781822 <click> 1152674 <cart> 1649869 <cart> 461689 <order> 305831 <order> 461689 <click> 362233 <click> 1649869 <click> 1649869 <click> 984597 <click> 1649869 <click> 803544 <click> 1110941 <click> 1190046 <click> 1760685 <click> 631008 <click> 461689 <click> 1190046 <click> 1650637 <click> 313546 <click> 1650637 <click> 979517 <click> 351157 <click> 1062149 <click> 1157384 <click> 1841388 <click> 1469630 <click> 305831 <click> 1110548 <click> 1110548 <click> 305831 <click> 1650114 <click> 1604396 <click> 1009750 <click> 1800933 <click> 495779 <click> 394655 <click> 495779 <click> 789245 <cart> 789245 <click> 366890 <click> 361317 <click> 1700164 <click> 1755597 <click> 789245 <click> 784978 <click> 1171505 <click> 784978 <click> 1700164 <click> 784978 <click> 1521766 <click> 1725503 <click> 528847 <click> 1816325 <click> 984597 <click> 1072782 <click> 173702 <click> 1072782 <click> 1407538 <click> 1629651 <click> 1768568 <click> 1318324 <click> 1840418 <click> 1813509 <click> 1813509 <click> 667924 <click> 1226444 <click> 709550 <click> 709417 <click> 1225559 <click> 1048044 <click> 1052813 <click> 1225559 <click> 240346 <click> 1582117 <click> 1707783 <click> 1624436 <click> 1157411 <click> 358305 <click> 1202970 <click> 832192 <click> 1498443 <click> 723931 <click> 1436439 <click> 1693461 <click> 1206554 <click> 1110741 <click> 346352 <click> 1802050 <click> 154930 <click> 964169 <click> 964169 <click> 823637 <click> 964169 <click> 1411683 <click> 964169 <click> 1167722 <click> 964169 <click> 1619737 <click> 964169 <click> 1840615 <click> 512756 <click> 946219 <click> 1090479 <click> 1164387 <click> 1308544 <click> 719622 <click> 1750538 <click> 1443747 <click> 1750538 <click> 337364 <click> 1653945 <click> 1222638 <click> 1622987 <click> 608383 <click> 1460239 <click> 1436439 <click> 321397 <click> 828625 <click> 1624436 <click> 1157411 <click> 1537907 <click> 1070142 <click> 959208 <click> 275288 <click> 1318324 <click> 1072782 <click> 1072782 <click> 173702 <click> 1428075 <click> 892659 <click> 1127565 <click> 1072782 <click> 97836 <click> 384343 <click> 218130 <click> 294248 <click> 166547 <click> 504365 <click> 102416 <click> 30373 <click> 724999 <click> 1110548 <click> 10268 <click> 219925 <click> 1140855 <click> 915702 <click> 480578 <click> 1145803 <click> 480578 <click> 516456 <click> 536842 <click> 1446430 <click> 581169 <click> 976007 <click> 667322 <click> 1801525 <click> 1767945 <click> 1342014 <click> 1813509 <click> 1785321 <click> 1813509 <click> 1840615 <click> 1689148 <click> 1840615 <click> 72748 <click> 1049280 <click> 1436439 <click> 6851 <click> 1433235 <click> 7563 <click> 1766089 <click> 7563 <click> 570955 <click> 1766089 <click> 570955 <cart> 974651 <click> 974651 <cart> 974651 <cart> 974651 <cart> 280978 <cart> 1521766 <click> 661144 <cart> 1760145 <click> 1639229 <click> 1624436 <click> 738987 <click> 1436439 <click> 102416 <click> 190818 <click> 1157411 <click> 138431 <click> 543308 <click> 1760145 <click> 543308 <cart> 275288 <click> 275288 <click> 1760145 <click> 974651 <cart> 974651 <click> 1760145 <click> 570955 <click> 661144 <click> 362233 <click> 362233 <click> 1760145 <click> 275288 <click> 974651 <click> 543308 <click> 624343 <click> 543308 <click> 723612 <click> 543308 <cart> 543308 <cart> 543308 <click> 442293 <cart> 442293 <click> 442293 <click> 442293 <click> 171073 <click> 851778 <click> 976134 <click> 856506 <cart> 1549618 <click> 419161 <click> 543308 <click> 1549618 <click> 760277 <click> 1549618 <click> 702179 <click> 1549618 <click> 1587393 <click> 76358 <click> 1549618 <click> 1199474 <cart> 1199474 <click> 1386923 <click> 1055124 <click> 859697 <click> 1055124 <click> 1386923 <order> 1199474 <order> 543308 <click> 961113 <click> 883849 <click> 701766 <click> 924751 <click> 168206 <click> 924751 <click> 219033 <click> 171982 <click> 1319939 <click> 1349536 <click> 334392 <click> 1349536 <click> 1349536 <click> 165096 <click> 315914 <cart> 315914 <click> 1680276 <click> 1818905 <click> 334392 <click> 1048797 <click> 1048797 <click> 543308 <click> 341626 <click> 219925 <click> 843110 <click> 938007 <click> 1228848 <click> 1740927 <click> 161938   \n",
       "1                                                                                                                                                                                                                                                                                                                                                                                                                                                                                                                                                                                                                                                                                                                                                                                                                                                                                                                                                                                                                                                                                                                                                                                                                                                                                                                                                                                                                                                                                                                                                                                                                                                                                                                                                                                                                                                                                                                                                                                                                                                                                                                                                                                                                                                                                                                                                                                                                                                                                                                                                                                                                                                                                                                                                                                                                                                                                                                                                                                                                                                                                                                                                                                                                                                                                                                                                                                                                                                                                                                                                                                                                                                                                                                                                                                                                                                                                                                    <cart> 424964 <click> 1492293 <cart> 1492293 <click> 910862 <cart> 910862 <click> 1491172 <cart> 1491172 <click> 424964 <click> 1515526 <click> 440486 <click> 109488 <click> 1507622 <click> 1734061 <click> 854637 <cart> 854637 <click> 718983 <click> 215311 <cart> 215311 <click> 718983 <click> 711125 <cart> 711125 <click> 50049 <click> 105393 <cart> 105393 <click> 959544 <click> 1734061 <click> 1842593 <click> 1464360 <click> 207905 <click> 1628317 <click> 376932 <click> 497868   \n",
       "2                                                                                                                                                                                                                                                                                                                                                                                                                                                                                                                                                                                                                                                                                                                                                                                                                                                                                                                                                                                                                                                                                                                                                                                                                                                                                                                                                                                                                                                                                                                                                                                                                                                                                                                                                                                                                                                                                                                                                                                                                                                                                                                                                                                                                                                                                                                                                                                                                                                                                                                                                                                                                                                                                                                                                                                                                                                                                                                                                                                                                                                                                                                                                                                                                                                                                                                                                                                                                                                                                                                                                                                                                                                                                                                                                                                                                                                                                                    <click> 763743 <click> 137492 <click> 504789 <click> 137492 <click> 795863 <click> 378348 <click> 795863 <click> 26638 <click> 817441 <click> 1405904 <click> 545290 <click> 935830 <click> 935830 <click> 1593105 <click> 427698 <click> 414004 <click> 465360 <click> 526287 <click> 567119 <click> 1577398 <cart> 161269 <click> 1577398 <click> 78519 <click> 1605583 <click> 690631 <click> 295985 <click> 553269 <click> 555062 <click> 1605711 <click> 485582 <click> 477910 <click> 808782 <click> 672473   \n",
       "3                                                                                                                                                                                                                                                                                                                                                                                                                                                                                                                                                                                                                                                                                                                                                                                                                     <cart> 1425967 <click> 1425967 <click> 1343406 <click> 1343406 <cart> 1343406 <click> 1425967 <click> 1343406 <click> 1815570 <click> 287008 <click> 1343406 <click> 1425967 <click> 1809571 <click> 1089061 <click> 746072 <click> 1015324 <click> 1215662 <click> 1089061 <cart> 1089061 <click> 1089061 <order> 357461 <order> 1343406 <order> 1425967 <click> 1425967 <click> 1343406 <click> 357461 <click> 357461 <click> 357461 <click> 1343406 <click> 1343406 <click> 1343406 <click> 1105267 <click> 1343406 <click> 392840 <click> 574683 <click> 825711 <click> 1622133 <click> 1065620 <click> 713701 <click> 1343406 <click> 1343406 <click> 1632093 <click> 1090485 <click> 1632093 <click> 1305368 <click> 968885 <click> 2512 <click> 1343406 <click> 357461 <click> 984459 <cart> 984459 <click> 984459 <click> 622368 <click> 578649 <click> 1253857 <click> 1660613 <cart> 1660613 <click> 840023 <click> 774320 <click> 300295 <click> 774320 <cart> 774320 <click> 722275 <click> 979687 <click> 1402624 <click> 308831 <click> 308831 <cart> 308831 <click> 471114 <click> 308831 <click> 127764 <click> 1018433 <cart> 1018433 <click> 1018433 <click> 714724 <cart> 714724 <click> 714724 <click> 1018433 <click> 714724 <click> 1221074 <click> 1171628 <click> 284722 <click> 490305 <click> 1436022 <click> 1198969 <click> 763925 <click> 880139 <click> 727609 <click> 528531 <click> 722275 <click> 1584672 <click> 526790 <click> 1554339 <cart> 1554339 <click> 711446 <click> 128326 <cart> 128326 <click> 128326 <click> 536803 <click> 1348328 <click> 74985 <click> 642154 <click> 705264 <click> 87629 <click> 1808351 <cart> 1808351 <click> 1808351 <click> 749898 <click> 1772909 <click> 905009 <click> 284722 <click> 54857 <cart> 54857 <click> 1528155 <click> 1712999 <click> 692635 <click> 1500975 <click> 771063 <click> 547781 <click> 692635 <click> 54857 <click> 1002270 <click> 254870 <click> 1504981 <cart> 1504981 <click> 254870 <click> 1504981 <click> 1377572 <click> 1009427 <click> 1712999 <cart> 1712999 <click> 54857 <click> 1712999 <click> 1712999 <click> 54857 <click> 1712999 <click> 54857 <click> 1712999 <click> 54857 <click> 1018433 <click> 54857 <click> 54857 <click> 1018433 <click> 1143262 <click> 836094 <click> 1498272 <click> 3999 <click> 1359109 <click> 1119655 <click> 708908 <click> 588531 <click> 116139 <cart> 116139 <click> 96976 <click> 116139 <click> 1498013 <click> 332817 <cart> 332817 <click> 812246 <cart> 812246 <click> 822461 <click> 636903 <click> 172698 <click> 1533194 <click> 1802976 <click> 360657 <click> 1111431 <click> 172051 <click> 340594 <click> 123362 <click> 1633901 <click> 88711 <click> 1325760 <click> 1202088 <click> 672286 <click> 614085 <click> 1713400 <click> 1748862 <click> 108125 <click> 1332980 <click> 93934 <click> 532565 <click> 1282243 <click> 1708257 <click> 37450 <click> 33731 <click> 546144 <click> 1175830 <click> 1152906 <click> 1754057 <click> 1443710 <click> 1001000 <click> 1124086 <click> 1278281 <click> 1536010 <click> 904809 <click> 659496 <click> 1799121 <click> 693368 <order> 1018433 <order> 54857 <click> 618373 <click> 618373 <click> 618373 <click> 1018433 <click> 54857 <click> 54857 <click> 282175 <click> 1061225 <click> 802541 <click> 802541 <click> 1397226 <click> 1397226 <click> 1638009 <cart> 1638009 <click> 656980 <click> 466658 <click> 1251514 <click> 1261998 <cart> 1261998 <click> 1575102 <click> 1575102 <click> 1261998 <click> 1431783 <click> 925352 <click> 925352 <cart> 925352   \n",
       "4                                                                                                                                                                                                                                                                                                                                                                                                                                                                                                                                                                                                                                                                                                                                                                                                                                                                                                                                                                                                                                                                                                                                                                                                                                                                                                                                                                                                                                                                                                                                                                                                                                                                                                                                                                                                                                                                                                                                                                                                                                                                                                                                                                                                                                                                                                                                                                                                                                                                                                                                                                                                                                                                                                                                                                                                                                                                                                                                                                                                                                                                                                                                                                                                                                                                                                                                                                                                                                                                                                                                                                                                                                                                                                                                                                                                                                                                                                                                                                                                                                                                                                                      <click> 613619 <click> 298827 <order> 298827 <click> 383828 <click> 255379 <click> 1838173 <click> 1453726 <click> 1838173 <click> 255379 <click> 383828 <click> 1554752 <cart> 1554752 <click> 917213 <cart> 917213 <click> 758750 <cart> 758750 <click> 678521 <click> 1081407 <click> 479396   \n",
       "\n",
       "   length  \n",
       "0     552  \n",
       "1      64  \n",
       "2      66  \n",
       "3     452  \n",
       "4      38  "
      ]
     },
     "execution_count": 8,
     "metadata": {},
     "output_type": "execute_result"
    }
   ],
   "source": [
    "df.head()"
   ]
  },
  {
   "cell_type": "code",
   "execution_count": 9,
   "id": "ad4f2c65",
   "metadata": {},
   "outputs": [
    {
     "name": "stdout",
     "output_type": "stream",
     "text": [
      "Wall time: 12.7 s\n"
     ]
    }
   ],
   "source": [
    "%%time\n",
    "assert df.notna().all(axis=None)\n",
    "df.to_parquet(\"output/sequences.parquet\", index=False)"
   ]
  }
 ],
 "metadata": {
  "kernelspec": {
   "display_name": "Python 3 (ipykernel)",
   "language": "python",
   "name": "python3"
  },
  "language_info": {
   "codemirror_mode": {
    "name": "ipython",
    "version": 3
   },
   "file_extension": ".py",
   "mimetype": "text/x-python",
   "name": "python",
   "nbconvert_exporter": "python",
   "pygments_lexer": "ipython3",
   "version": "3.7.5"
  }
 },
 "nbformat": 4,
 "nbformat_minor": 5
}
